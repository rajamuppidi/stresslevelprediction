{
 "cells": [
  {
   "cell_type": "markdown",
   "id": "d81fb21f",
   "metadata": {
    "id": "bVK4vrNQKJpc",
    "papermill": {
     "duration": 0.065884,
     "end_time": "2023-07-18T07:41:24.774219",
     "exception": false,
     "start_time": "2023-07-18T07:41:24.708335",
     "status": "completed"
    },
    "tags": []
   },
   "source": [
    "# Enhancing Mental Health: Stress Level Prediction through a Machine Learning and NLP Approach\n"
   ]
  },
  {
   "cell_type": "markdown",
   "id": "5ffe1dd0",
   "metadata": {
    "id": "1yUrEbstvFCf",
    "papermill": {
     "duration": 0.067211,
     "end_time": "2023-07-18T07:41:39.120323",
     "exception": false,
     "start_time": "2023-07-18T07:41:39.053112",
     "status": "completed"
    },
    "tags": []
   },
   "source": [
    "## Importing Libraries"
   ]
  },
  {
   "cell_type": "code",
   "execution_count": 139,
   "id": "ce72a628-f58e-457a-8797-204aa27dcf91",
   "metadata": {},
   "outputs": [
    {
     "name": "stdout",
     "output_type": "stream",
     "text": [
      "Python Platform: macOS-14.2-arm64-arm-64bit\n",
      "Tensor Flow Version: 2.16.1\n",
      "Keras Version: 3.2.1\n",
      "\n",
      "Python 3.11.7 (main, Dec 15 2023, 12:09:56) [Clang 14.0.6 ]\n",
      "Pandas 2.2.2\n",
      "Scikit-Learn 1.2.2\n",
      "SciPy 1.13.0\n",
      "GPU is available\n"
     ]
    }
   ],
   "source": [
    "import sys\n",
    "import keras\n",
    "import pandas as pd\n",
    "import sklearn as sk\n",
    "import scipy as sp\n",
    "import tensorflow as tf\n",
    "import numpy as np\n",
    "import platform\n",
    "\n",
    "print (f\"Python Platform: {platform.platform ()}\")\n",
    "print (f\"Tensor Flow Version: {tf.__version__}\")\n",
    "print(f\"Keras Version: {keras.__version__}\")\n",
    "print ()\n",
    "\n",
    "print (f\"Python {sys.version}\")\n",
    "print (f\"Pandas {pd.__version__}\")\n",
    "print (f\"Scikit-Learn {sk.__version__}\")\n",
    "print (f\"SciPy {sp.__version__}\")\n",
    "gpu = len (tf.config.list_physical_devices ('GPU'))>0\n",
    "print (\"GPU is\", \"available\" if gpu else \"NOT AVAILABLE\")"
   ]
  },
  {
   "cell_type": "markdown",
   "id": "f3f930b1-eb38-44a0-b628-daf8db54c5a3",
   "metadata": {},
   "source": [
    "### Loading Dataset"
   ]
  },
  {
   "cell_type": "code",
   "execution_count": 2,
   "id": "1e5b4aa7",
   "metadata": {
    "id": "YogcNJxXsGip",
    "outputId": "47b09a38-47cf-4f1d-e145-a8fc78193486",
    "papermill": {
     "duration": 0.417433,
     "end_time": "2023-07-18T07:41:39.602004",
     "exception": false,
     "start_time": "2023-07-18T07:41:39.184571",
     "status": "completed"
    },
    "tags": []
   },
   "outputs": [
    {
     "data": {
      "text/html": [
       "<div>\n",
       "<style scoped>\n",
       "    .dataframe tbody tr th:only-of-type {\n",
       "        vertical-align: middle;\n",
       "    }\n",
       "\n",
       "    .dataframe tbody tr th {\n",
       "        vertical-align: top;\n",
       "    }\n",
       "\n",
       "    .dataframe thead th {\n",
       "        text-align: right;\n",
       "    }\n",
       "</style>\n",
       "<table border=\"1\" class=\"dataframe\">\n",
       "  <thead>\n",
       "    <tr style=\"text-align: right;\">\n",
       "      <th></th>\n",
       "      <th>text</th>\n",
       "      <th>label</th>\n",
       "    </tr>\n",
       "  </thead>\n",
       "  <tbody>\n",
       "    <tr>\n",
       "      <th>0</th>\n",
       "      <td>dear american teens question dutch person hear...</td>\n",
       "      <td>0</td>\n",
       "    </tr>\n",
       "    <tr>\n",
       "      <th>1</th>\n",
       "      <td>nothing look forward lifei dont many reasons k...</td>\n",
       "      <td>1</td>\n",
       "    </tr>\n",
       "    <tr>\n",
       "      <th>2</th>\n",
       "      <td>music recommendations im looking expand playli...</td>\n",
       "      <td>0</td>\n",
       "    </tr>\n",
       "    <tr>\n",
       "      <th>3</th>\n",
       "      <td>im done trying feel betterthe reason im still ...</td>\n",
       "      <td>1</td>\n",
       "    </tr>\n",
       "    <tr>\n",
       "      <th>4</th>\n",
       "      <td>worried  year old girl subject domestic physic...</td>\n",
       "      <td>1</td>\n",
       "    </tr>\n",
       "    <tr>\n",
       "      <th>5</th>\n",
       "      <td>hey rredflag sure right place post this goes  ...</td>\n",
       "      <td>1</td>\n",
       "    </tr>\n",
       "    <tr>\n",
       "      <th>6</th>\n",
       "      <td>feel like someone needs hear tonight feeling r...</td>\n",
       "      <td>0</td>\n",
       "    </tr>\n",
       "    <tr>\n",
       "      <th>7</th>\n",
       "      <td>deserve liveif died right noone would carei re...</td>\n",
       "      <td>1</td>\n",
       "    </tr>\n",
       "    <tr>\n",
       "      <th>8</th>\n",
       "      <td>feels good ive set dateim killing friday nice ...</td>\n",
       "      <td>1</td>\n",
       "    </tr>\n",
       "    <tr>\n",
       "      <th>9</th>\n",
       "      <td>live guiltok made stupid random choice  its ge...</td>\n",
       "      <td>1</td>\n",
       "    </tr>\n",
       "    <tr>\n",
       "      <th>10</th>\n",
       "      <td>excercise motivated ngl cant wait get shape kn...</td>\n",
       "      <td>0</td>\n",
       "    </tr>\n",
       "    <tr>\n",
       "      <th>11</th>\n",
       "      <td>know youd rather laid big booty body hella pos...</td>\n",
       "      <td>0</td>\n",
       "    </tr>\n",
       "    <tr>\n",
       "      <th>12</th>\n",
       "      <td>even time fuck  supposed mean</td>\n",
       "      <td>0</td>\n",
       "    </tr>\n",
       "    <tr>\n",
       "      <th>13</th>\n",
       "      <td>usual hollywood stereotyped everyone movie but...</td>\n",
       "      <td>0</td>\n",
       "    </tr>\n",
       "    <tr>\n",
       "      <th>14</th>\n",
       "      <td>think it nearly unbelievable film could made d...</td>\n",
       "      <td>0</td>\n",
       "    </tr>\n",
       "    <tr>\n",
       "      <th>15</th>\n",
       "      <td>trying rd time k krma special</td>\n",
       "      <td>0</td>\n",
       "    </tr>\n",
       "    <tr>\n",
       "      <th>16</th>\n",
       "      <td>guy coming sure wear f hey guy friend coming t...</td>\n",
       "      <td>0</td>\n",
       "    </tr>\n",
       "    <tr>\n",
       "      <th>17</th>\n",
       "      <td>one best episodes entire xfiles series creepy ...</td>\n",
       "      <td>0</td>\n",
       "    </tr>\n",
       "    <tr>\n",
       "      <th>18</th>\n",
       "      <td>good byehey you know sure hell know me goodbye...</td>\n",
       "      <td>1</td>\n",
       "    </tr>\n",
       "    <tr>\n",
       "      <th>19</th>\n",
       "      <td>tried put sugar coffee back spoon happy monday...</td>\n",
       "      <td>1</td>\n",
       "    </tr>\n",
       "  </tbody>\n",
       "</table>\n",
       "</div>"
      ],
      "text/plain": [
       "                                                 text  label\n",
       "0   dear american teens question dutch person hear...      0\n",
       "1   nothing look forward lifei dont many reasons k...      1\n",
       "2   music recommendations im looking expand playli...      0\n",
       "3   im done trying feel betterthe reason im still ...      1\n",
       "4   worried  year old girl subject domestic physic...      1\n",
       "5   hey rredflag sure right place post this goes  ...      1\n",
       "6   feel like someone needs hear tonight feeling r...      0\n",
       "7   deserve liveif died right noone would carei re...      1\n",
       "8   feels good ive set dateim killing friday nice ...      1\n",
       "9   live guiltok made stupid random choice  its ge...      1\n",
       "10  excercise motivated ngl cant wait get shape kn...      0\n",
       "11  know youd rather laid big booty body hella pos...      0\n",
       "12                      even time fuck  supposed mean      0\n",
       "13  usual hollywood stereotyped everyone movie but...      0\n",
       "14  think it nearly unbelievable film could made d...      0\n",
       "15                      trying rd time k krma special      0\n",
       "16  guy coming sure wear f hey guy friend coming t...      0\n",
       "17  one best episodes entire xfiles series creepy ...      0\n",
       "18  good byehey you know sure hell know me goodbye...      1\n",
       "19  tried put sugar coffee back spoon happy monday...      1"
      ]
     },
     "execution_count": 2,
     "metadata": {},
     "output_type": "execute_result"
    }
   ],
   "source": [
    "# Load CSV file into a DataFrame\n",
    "\n",
    "df = pd.read_csv('mental_health.csv')\n",
    "\n",
    "# Display the DataFrame\n",
    "df.head(20)"
   ]
  },
  {
   "cell_type": "code",
   "execution_count": 3,
   "id": "f52bded2",
   "metadata": {
    "id": "yP2Ok9NbmWeR",
    "outputId": "99f8ccc8-9a55-4e60-b0e8-52977b8d216f",
    "papermill": {
     "duration": 0.114645,
     "end_time": "2023-07-18T07:41:39.782523",
     "exception": false,
     "start_time": "2023-07-18T07:41:39.667878",
     "status": "completed"
    },
    "tags": []
   },
   "outputs": [
    {
     "name": "stdout",
     "output_type": "stream",
     "text": [
      "<class 'pandas.core.frame.DataFrame'>\n",
      "RangeIndex: 27977 entries, 0 to 27976\n",
      "Data columns (total 2 columns):\n",
      " #   Column  Non-Null Count  Dtype \n",
      "---  ------  --------------  ----- \n",
      " 0   text    27977 non-null  object\n",
      " 1   label   27977 non-null  int64 \n",
      "dtypes: int64(1), object(1)\n",
      "memory usage: 437.3+ KB\n"
     ]
    }
   ],
   "source": [
    "df.info()"
   ]
  },
  {
   "cell_type": "code",
   "execution_count": 4,
   "id": "4b0e6684",
   "metadata": {
    "id": "MKChBb5HmWeR",
    "outputId": "e21e347b-bef9-40a7-fdf7-16d8fbf85c0a",
    "papermill": {
     "duration": 0.798405,
     "end_time": "2023-07-18T07:41:40.776161",
     "exception": false,
     "start_time": "2023-07-18T07:41:39.977756",
     "status": "completed"
    },
    "tags": []
   },
   "outputs": [
    {
     "data": {
      "image/png": "[encoded data removed]",
      "text/plain": [
       "<Figure size 600x400 with 1 Axes>"
      ]
     },
     "metadata": {},
     "output_type": "display_data"
    },
    {
     "name": "stdout",
     "output_type": "stream",
     "text": [
      "\n"
     ]
    },
    {
     "data": {
      "image/png": "[encoded data removed]",
      "text/plain": [
       "<Figure size 600x400 with 1 Axes>"
      ]
     },
     "metadata": {},
     "output_type": "display_data"
    }
   ],
   "source": [
    "import matplotlib.pyplot as plt\n",
    "\n",
    "# Calculate the value counts of the 'category' column\n",
    "category_counts = df['label'].value_counts()\n",
    "\n",
    "# Bar chart\n",
    "plt.figure(figsize=(6, 4))\n",
    "category_counts.plot(kind='bar')\n",
    "plt.xlabel('Label')\n",
    "plt.ylabel('Counts')\n",
    "plt.title('Bar Chart of Counts')\n",
    "plt.show()\n",
    "print()\n",
    "\n",
    "# Pie chart\n",
    "plt.figure(figsize=(6, 4))\n",
    "category_counts.plot(kind='pie', autopct='%1.1f%%')\n",
    "plt.axis('equal')  # Equal aspect ratio ensures that pie is drawn as a circle\n",
    "plt.title('Pie Chart of Distribution')\n",
    "\n",
    "# Add legend\n",
    "plt.legend()\n",
    "\n",
    "plt.show()\n"
   ]
  },
  {
   "cell_type": "markdown",
   "id": "4ef6e1ff",
   "metadata": {
    "id": "KgT_abAXEZj7",
    "papermill": {
     "duration": 0.063679,
     "end_time": "2023-07-18T07:41:40.927101",
     "exception": false,
     "start_time": "2023-07-18T07:41:40.863422",
     "status": "completed"
    },
    "tags": []
   },
   "source": [
    "## **Duplicates and Missing Values**\n",
    "\n",
    "Next, we'll evaluate the dataset's size and search for any duplicate rows within the DataFrame. We'll achieve this by counting the duplicates and displaying the results. Handling duplicate rows is crucial as they can distort our analysis. Additionally, we'll check for missing values by calculating and printing the sum of missing values for each column. Properly addressing missing values is essential to ensure the accuracy and reliability of our analysis."
   ]
  },
  {
   "cell_type": "code",
   "execution_count": 5,
   "id": "08ad33a6",
   "metadata": {
    "id": "aKbC7aThmWeX",
    "outputId": "b2ac7f50-afe1-4824-e8f4-d7341d69134b",
    "papermill": {
     "duration": 0.137605,
     "end_time": "2023-07-18T07:41:41.129611",
     "exception": false,
     "start_time": "2023-07-18T07:41:40.992006",
     "status": "completed"
    },
    "tags": []
   },
   "outputs": [
    {
     "name": "stdout",
     "output_type": "stream",
     "text": [
      "There are 27977 data in this dataset\n",
      "Number of Duplicates: 5\n",
      "Number of Missing Values by column:\n",
      " text     0\n",
      "label    0\n",
      "dtype: int64\n",
      "Number of Missing Values: 0\n"
     ]
    }
   ],
   "source": [
    "# How many reviews do we have?\n",
    "print('There are', df.shape[0], 'data in this dataset')\n",
    "\n",
    "#Dupicate Check?\n",
    "print('Number of Duplicates:', len(df[df.duplicated()]))\n",
    "\n",
    "# Missing Values Check\n",
    "missing_values = df.isnull().sum()\n",
    "print('Number of Missing Values by column:\\n',missing_values)\n",
    "\n",
    "print('Number of Missing Values:', df.isnull().sum().sum())"
   ]
  },
  {
   "cell_type": "code",
   "execution_count": 6,
   "id": "a283b251",
   "metadata": {
    "id": "aX8mP7A9mWeY",
    "outputId": "8be898c9-2441-40b4-de55-5eaa2fe8be17",
    "papermill": {
     "duration": 0.094634,
     "end_time": "2023-07-18T07:41:41.435297",
     "exception": false,
     "start_time": "2023-07-18T07:41:41.340663",
     "status": "completed"
    },
    "tags": []
   },
   "outputs": [
    {
     "name": "stdout",
     "output_type": "stream",
     "text": [
      "No. of Missing Values and Empty Spaces by column:\n",
      " text     0\n",
      "label    0\n",
      "dtype: int64\n"
     ]
    }
   ],
   "source": [
    "df.replace(\"\", np.nan, inplace=True)\n",
    "missing_values = df.isnull().sum()\n",
    "print('No. of Missing Values and Empty Spaces by column:\\n',missing_values)"
   ]
  },
  {
   "cell_type": "code",
   "execution_count": 7,
   "id": "ef0b2264",
   "metadata": {
    "id": "go73GIi4mWea",
    "outputId": "86526cdf-8db9-4f36-d245-97a9e6aab308",
    "papermill": {
     "duration": 0.130438,
     "end_time": "2023-07-18T07:41:41.768514",
     "exception": false,
     "start_time": "2023-07-18T07:41:41.638076",
     "status": "completed"
    },
    "tags": []
   },
   "outputs": [
    {
     "data": {
      "text/html": [
       "<div>\n",
       "<style scoped>\n",
       "    .dataframe tbody tr th:only-of-type {\n",
       "        vertical-align: middle;\n",
       "    }\n",
       "\n",
       "    .dataframe tbody tr th {\n",
       "        vertical-align: top;\n",
       "    }\n",
       "\n",
       "    .dataframe thead th {\n",
       "        text-align: right;\n",
       "    }\n",
       "</style>\n",
       "<table border=\"1\" class=\"dataframe\">\n",
       "  <thead>\n",
       "    <tr style=\"text-align: right;\">\n",
       "      <th></th>\n",
       "      <th>text</th>\n",
       "      <th>label</th>\n",
       "    </tr>\n",
       "  </thead>\n",
       "  <tbody>\n",
       "    <tr>\n",
       "      <th>15524</th>\n",
       "      <td>happy birthday everyone birthday st october ha...</td>\n",
       "      <td>0</td>\n",
       "    </tr>\n",
       "    <tr>\n",
       "      <th>24502</th>\n",
       "      <td>happy birthday everyone birthday st october ha...</td>\n",
       "      <td>0</td>\n",
       "    </tr>\n",
       "    <tr>\n",
       "      <th>16742</th>\n",
       "      <td>need help anyone good pythagriam tribometry  h...</td>\n",
       "      <td>0</td>\n",
       "    </tr>\n",
       "    <tr>\n",
       "      <th>24970</th>\n",
       "      <td>need help anyone good pythagriam tribometry  h...</td>\n",
       "      <td>0</td>\n",
       "    </tr>\n",
       "    <tr>\n",
       "      <th>1646</th>\n",
       "      <td>posting ara ara forget day  ara ara</td>\n",
       "      <td>0</td>\n",
       "    </tr>\n",
       "    <tr>\n",
       "      <th>22603</th>\n",
       "      <td>posting ara ara forget day  ara ara</td>\n",
       "      <td>0</td>\n",
       "    </tr>\n",
       "    <tr>\n",
       "      <th>11570</th>\n",
       "      <td>real suppleroot hours  up day far</td>\n",
       "      <td>0</td>\n",
       "    </tr>\n",
       "    <tr>\n",
       "      <th>12573</th>\n",
       "      <td>real suppleroot hours  up day far</td>\n",
       "      <td>0</td>\n",
       "    </tr>\n",
       "    <tr>\n",
       "      <th>22389</th>\n",
       "      <td>real suppleroot hours  up day far</td>\n",
       "      <td>0</td>\n",
       "    </tr>\n",
       "  </tbody>\n",
       "</table>\n",
       "</div>"
      ],
      "text/plain": [
       "                                                    text  label\n",
       "15524  happy birthday everyone birthday st october ha...      0\n",
       "24502  happy birthday everyone birthday st october ha...      0\n",
       "16742  need help anyone good pythagriam tribometry  h...      0\n",
       "24970  need help anyone good pythagriam tribometry  h...      0\n",
       "1646                 posting ara ara forget day  ara ara      0\n",
       "22603                posting ara ara forget day  ara ara      0\n",
       "11570                  real suppleroot hours  up day far      0\n",
       "12573                  real suppleroot hours  up day far      0\n",
       "22389                  real suppleroot hours  up day far      0"
      ]
     },
     "execution_count": 7,
     "metadata": {},
     "output_type": "execute_result"
    }
   ],
   "source": [
    "# all duplicate rows (keep=False ensures all duplicates are kept)\n",
    "duplicate_rows = df[df.duplicated(keep=False)]\n",
    "\n",
    "# Then sort the dataframe on all columns to ensure duplicates are adjacent\n",
    "sorted_duplicates = duplicate_rows.sort_values(by=list(duplicate_rows.columns))\n",
    "\n",
    "# Now, if we want to see 5 pairs of duplicates (10 rows), we can simply:\n",
    "top_5_duplicate_pairs = sorted_duplicates.head(20)\n",
    "\n",
    "top_5_duplicate_pairs"
   ]
  },
  {
   "cell_type": "markdown",
   "id": "b464978f",
   "metadata": {
    "id": "0mhxwyw0EiBX",
    "papermill": {
     "duration": 0.066451,
     "end_time": "2023-07-18T07:41:41.903713",
     "exception": false,
     "start_time": "2023-07-18T07:41:41.837262",
     "status": "completed"
    },
    "tags": []
   },
   "source": [
    "### **Drop Duplicates**"
   ]
  },
  {
   "cell_type": "code",
   "execution_count": 8,
   "id": "d48b63a0",
   "metadata": {
    "id": "hgKGzloxmWec",
    "outputId": "363bc3d4-94ff-454f-f5b2-199320dc43af",
    "papermill": {
     "duration": 0.157348,
     "end_time": "2023-07-18T07:41:42.126604",
     "exception": false,
     "start_time": "2023-07-18T07:41:41.969256",
     "status": "completed"
    },
    "tags": []
   },
   "outputs": [
    {
     "name": "stdout",
     "output_type": "stream",
     "text": [
      "Number of Duplicates: 0\n"
     ]
    }
   ],
   "source": [
    "df = df.drop_duplicates()\n",
    "print('Number of Duplicates:', len(df[df.duplicated()]))"
   ]
  },
  {
   "cell_type": "markdown",
   "id": "b770b74f",
   "metadata": {
    "id": "os_ZiMzBEkcE",
    "papermill": {
     "duration": 0.086114,
     "end_time": "2023-07-18T07:41:42.349656",
     "exception": false,
     "start_time": "2023-07-18T07:41:42.263542",
     "status": "completed"
    },
    "tags": []
   },
   "source": [
    "### **Drop Missing Values**"
   ]
  },
  {
   "cell_type": "code",
   "execution_count": 9,
   "id": "47da14fa",
   "metadata": {
    "id": "0SDqFbW8mWed",
    "outputId": "21859b8d-9106-4c6e-b8ab-eab377a3169b",
    "papermill": {
     "duration": 0.110685,
     "end_time": "2023-07-18T07:41:42.534104",
     "exception": false,
     "start_time": "2023-07-18T07:41:42.423419",
     "status": "completed"
    },
    "tags": []
   },
   "outputs": [
    {
     "name": "stdout",
     "output_type": "stream",
     "text": [
      "Number of Missing Values: 0\n"
     ]
    }
   ],
   "source": [
    "df = df.dropna()\n",
    "print('Number of Missing Values:', df.isnull().sum().sum())"
   ]
  },
  {
   "cell_type": "code",
   "execution_count": 10,
   "id": "1117ec19",
   "metadata": {
    "id": "W__4qEh4mWed",
    "outputId": "41fca862-6949-4e93-96a0-22281418bdf8",
    "papermill": {
     "duration": 0.09621,
     "end_time": "2023-07-18T07:41:42.706447",
     "exception": false,
     "start_time": "2023-07-18T07:41:42.610237",
     "status": "completed"
    },
    "scrolled": true,
    "tags": []
   },
   "outputs": [
    {
     "name": "stdout",
     "output_type": "stream",
     "text": [
      "<class 'pandas.core.frame.DataFrame'>\n",
      "Index: 27972 entries, 0 to 27976\n",
      "Data columns (total 2 columns):\n",
      " #   Column  Non-Null Count  Dtype \n",
      "---  ------  --------------  ----- \n",
      " 0   text    27972 non-null  object\n",
      " 1   label   27972 non-null  int64 \n",
      "dtypes: int64(1), object(1)\n",
      "memory usage: 655.6+ KB\n"
     ]
    }
   ],
   "source": [
    "df.info()"
   ]
  },
  {
   "cell_type": "markdown",
   "id": "b2506b79",
   "metadata": {
    "id": "LMlSIDnCErdJ",
    "papermill": {
     "duration": 0.073854,
     "end_time": "2023-07-18T07:41:42.870425",
     "exception": false,
     "start_time": "2023-07-18T07:41:42.796571",
     "status": "completed"
    },
    "tags": []
   },
   "source": [
    "**View random samples for each category**\n",
    "\n",
    "Here, a function called \"random_sample_reviews\" is defined to randomly sample text from the DataFrame based on the specified number of samples. This function groups the text by label and selects a specified number of samples from each label. The sampled reviews are then returned as a DataFrame. This function helps in obtaining a representative subset of reviews for analysis."
   ]
  },
  {
   "cell_type": "code",
   "execution_count": 11,
   "id": "aa746ed2",
   "metadata": {
    "id": "JQ4qRqqQmWef",
    "outputId": "396435f3-cf19-4966-84f5-a8ac37f8e877",
    "papermill": {
     "duration": 0.09658,
     "end_time": "2023-07-18T07:41:43.039074",
     "exception": false,
     "start_time": "2023-07-18T07:41:42.942494",
     "status": "completed"
    },
    "tags": []
   },
   "outputs": [
    {
     "data": {
      "text/html": [
       "<div>\n",
       "<style scoped>\n",
       "    .dataframe tbody tr th:only-of-type {\n",
       "        vertical-align: middle;\n",
       "    }\n",
       "\n",
       "    .dataframe tbody tr th {\n",
       "        vertical-align: top;\n",
       "    }\n",
       "\n",
       "    .dataframe thead th {\n",
       "        text-align: right;\n",
       "    }\n",
       "</style>\n",
       "<table border=\"1\" class=\"dataframe\">\n",
       "  <thead>\n",
       "    <tr style=\"text-align: right;\">\n",
       "      <th></th>\n",
       "      <th>label</th>\n",
       "      <th>text</th>\n",
       "    </tr>\n",
       "  </thead>\n",
       "  <tbody>\n",
       "    <tr>\n",
       "      <th>0</th>\n",
       "      <td>0</td>\n",
       "      <td>lesser known film starring roy thinnes from tvs invaders actually consider lost gem made time story important special effects though effect fairly good time scientist theorizes another world earth...</td>\n",
       "    </tr>\n",
       "    <tr>\n",
       "      <th>1</th>\n",
       "      <td>0</td>\n",
       "      <td>cant seem make friends honestly cant make friends feels like matter do happen well id say one friend who love much appreciate every day couple people occasionally talk like aside nobody strangers ...</td>\n",
       "    </tr>\n",
       "    <tr>\n",
       "      <th>2</th>\n",
       "      <td>0</td>\n",
       "      <td>mess genres mainly based stephen chows genre mashups inspiration theres magic kungfu college romance sports gangster action weepy melodrama topping production excellent pacing fast easy get past m...</td>\n",
       "    </tr>\n",
       "    <tr>\n",
       "      <th>3</th>\n",
       "      <td>1</td>\n",
       "      <td>im ready take forever napi reasons continue hold onto bullshit life cant myself family fucking garbage nobody would believe tried escape them fucking mess mention fact ive fucking havent able onli...</td>\n",
       "    </tr>\n",
       "    <tr>\n",
       "      <th>4</th>\n",
       "      <td>1</td>\n",
       "      <td>record suicidal never been going tell something true story might make think another wayfor background moms friend call susan speaks russian english works translation hospitals youssusan client cal...</td>\n",
       "    </tr>\n",
       "    <tr>\n",
       "      <th>5</th>\n",
       "      <td>1</td>\n",
       "      <td>know whats funnyhow people fucking tell shit care truth care dead people supposed make feel safe fucking make feel worse fucking hope feel guilty lost fucking horrible damage inflicted onto never ...</td>\n",
       "    </tr>\n",
       "  </tbody>\n",
       "</table>\n",
       "</div>"
      ],
      "text/plain": [
       "   label  \\\n",
       "0      0   \n",
       "1      0   \n",
       "2      0   \n",
       "3      1   \n",
       "4      1   \n",
       "5      1   \n",
       "\n",
       "                                                                                                                                                                                                      text  \n",
       "0  lesser known film starring roy thinnes from tvs invaders actually consider lost gem made time story important special effects though effect fairly good time scientist theorizes another world earth...  \n",
       "1  cant seem make friends honestly cant make friends feels like matter do happen well id say one friend who love much appreciate every day couple people occasionally talk like aside nobody strangers ...  \n",
       "2  mess genres mainly based stephen chows genre mashups inspiration theres magic kungfu college romance sports gangster action weepy melodrama topping production excellent pacing fast easy get past m...  \n",
       "3  im ready take forever napi reasons continue hold onto bullshit life cant myself family fucking garbage nobody would believe tried escape them fucking mess mention fact ive fucking havent able onli...  \n",
       "4  record suicidal never been going tell something true story might make think another wayfor background moms friend call susan speaks russian english works translation hospitals youssusan client cal...  \n",
       "5  know whats funnyhow people fucking tell shit care truth care dead people supposed make feel safe fucking make feel worse fucking hope feel guilty lost fucking horrible damage inflicted onto never ...  "
      ]
     },
     "execution_count": 11,
     "metadata": {},
     "output_type": "execute_result"
    }
   ],
   "source": [
    "def random_sample_reviews(df, num_samples):\n",
    "    # Use groupby on 'Rating' and then apply the sample function to 'Review_Text' of each group\n",
    "    samples = df.groupby('label')['text'].apply(lambda x: x.sample(num_samples))\n",
    "\n",
    "    # Convert series to dataframe and reset index\n",
    "    samples_df = samples.reset_index().drop(columns='level_1')\n",
    "    return samples_df\n",
    "    \n",
    "pd.set_option('display.max_colwidth', 200) # This will display up to 100 characters\n",
    "samples = random_sample_reviews(df, num_samples=3)\n",
    "samples.head(20)"
   ]
  },
  {
   "cell_type": "markdown",
   "id": "394b4ae0",
   "metadata": {
    "id": "3ebnHpjemWef",
    "papermill": {
     "duration": 0.068793,
     "end_time": "2023-07-18T07:41:43.182328",
     "exception": false,
     "start_time": "2023-07-18T07:41:43.113535",
     "status": "completed"
    },
    "tags": []
   },
   "source": [
    "## **Data Cleaning**"
   ]
  },
  {
   "cell_type": "code",
   "execution_count": 12,
   "id": "b4020580",
   "metadata": {
    "id": "GeEDPkqQmWeg",
    "papermill": {
     "duration": 0.115228,
     "end_time": "2023-07-18T07:41:43.392798",
     "exception": false,
     "start_time": "2023-07-18T07:41:43.277570",
     "status": "completed"
    },
    "tags": []
   },
   "outputs": [],
   "source": [
    "#libraries\n",
    "from sklearn.model_selection import train_test_split\n",
    "from sklearn import metrics\n",
    "\n",
    "import re\n",
    "import string\n",
    "\n",
    "from tensorflow import keras\n",
    "from tensorflow.keras.preprocessing import sequence\n",
    "from tensorflow.keras.models import Sequential\n",
    "from tensorflow.keras.layers import Dense, Embedding\n",
    "from tensorflow.keras.layers import SimpleRNN, LSTM\n",
    "from tensorflow.keras.preprocessing.text import Tokenizer\n",
    "from tensorflow.keras.preprocessing.sequence import pad_sequences"
   ]
  },
  {
   "cell_type": "code",
   "execution_count": 13,
   "id": "df6c00c4",
   "metadata": {
    "id": "jXq7YLEZmWeg",
    "papermill": {
     "duration": 0.082844,
     "end_time": "2023-07-18T07:41:43.676641",
     "exception": false,
     "start_time": "2023-07-18T07:41:43.593797",
     "status": "completed"
    },
    "tags": []
   },
   "outputs": [],
   "source": [
    "##CUSTOM FUNCTIONS TO CLEAN THE TEXT\n",
    "def emoji_strip(text):\n",
    "    emoji_pattern = re.compile(\"[\"\n",
    "        u\"\\U0001F600-\\U0001F64F\"  # emoticons\n",
    "        u\"\\U0001F300-\\U0001F5FF\"  # symbols & pictographs\n",
    "        u\"\\U0001F680-\\U0001F6FF\"  # transport & map symbols\n",
    "        u\"\\U0001F1E0-\\U0001F1FF\"  # flags (iOS)\n",
    "        u\"\\U00002500-\\U00002BEF\"  # chinese characters\n",
    "        u\"\\U00002702-\\U000027B0\"\n",
    "        u\"\\U00002702-\\U000027B0\"\n",
    "        u\"\\U000024C2-\\U0001F251\"\n",
    "        u\"\\U0001f926-\\U0001f937\"\n",
    "        u\"\\U00010000-\\U0010ffff\"\n",
    "        u\"\\u2640-\\u2642\"\n",
    "        u\"\\u2600-\\u2B55\"\n",
    "        u\"\\u200d\"\n",
    "        u\"\\u23cf\"\n",
    "        u\"\\u23e9\"\n",
    "        u\"\\u231a\"\n",
    "        u\"\\ufe0f\"  # dingbats\n",
    "        u\"\\u3030\"\n",
    "                           \"]+\", flags=re.UNICODE)\n",
    "    return emoji_pattern.sub(r'', text)\n",
    "\n",
    "#Remove punctuations, links, mentions and \\r\\n new line characters\n",
    "def remove_entities(text):\n",
    "    text = text.replace('\\r', '').replace('\\n', ' ').replace('\\n', ' ').lower() #remove \\n and \\r and lowercase\n",
    "    text = re.sub(r\"(?:\\@|https?\\://)\\S+\", \"\", text) #remove links and mentions\n",
    "    text = re.sub(r'[^\\x00-\\x7f]',r'', text) #remove non utf8/ascii characters such as '\\x9a\\x91\\x97\\x9a\\x97'\n",
    "    banned_list= string.punctuation + 'Ã'+'±'+'ã'+'¼'+'â'+'»'+'§'\n",
    "    table = str.maketrans('', '', banned_list)\n",
    "    text = text.translate(table)\n",
    "    return text\n",
    "\n",
    "#clean hashtags at the end of the sentence, and keep those in the middle of the sentence by removing just the # symbol\n",
    "def hastag_cleaning(text):\n",
    "    new_text = \" \".join(word.strip() for word in re.split('#(?!(?:hashtag)\\b)[\\w-]+(?=(?:\\s+#[\\w-]+)*\\s*$)', text)) #remove last hashtags\n",
    "    new_text2 = \" \".join(word.strip() for word in re.split('#|_', new_text)) #remove hashtags symbol from words in the middle of the sentence\n",
    "    return new_text2\n",
    "\n",
    "#Filter special characters such as & and $ present in some words\n",
    "def filter_chars(a):\n",
    "    sent = []\n",
    "    for word in a.split(' '):\n",
    "        if ('$' in word) | ('&' in word):\n",
    "            sent.append('')\n",
    "        else:\n",
    "            sent.append(word)\n",
    "    return ' '.join(sent)\n",
    "\n",
    "def remove_spaces(text): # remove multiple spaces\n",
    "    return re.sub(\"\\s\\s+\" , \" \", text)"
   ]
  },
  {
   "cell_type": "code",
   "execution_count": 14,
   "id": "729b9edd",
   "metadata": {
    "id": "BLSJbDpumWeh",
    "papermill": {
     "duration": 2.10624,
     "end_time": "2023-07-18T07:41:45.984004",
     "exception": false,
     "start_time": "2023-07-18T07:41:43.877764",
     "status": "completed"
    },
    "tags": []
   },
   "outputs": [],
   "source": [
    "df['text1'] = (df['text']\n",
    "                     .apply(emoji_strip)\n",
    "                     .apply(remove_entities)\n",
    "                     .apply(hastag_cleaning)\n",
    "                     .apply(filter_chars)\n",
    "                     .apply(remove_spaces))"
   ]
  },
  {
   "cell_type": "code",
   "execution_count": 15,
   "id": "2e12b13c",
   "metadata": {
    "id": "sW_klspImWeh",
    "outputId": "8d513b23-11f9-4b32-fdee-b964758e4f9b",
    "papermill": {
     "duration": 0.088592,
     "end_time": "2023-07-18T07:41:46.140803",
     "exception": false,
     "start_time": "2023-07-18T07:41:46.052211",
     "status": "completed"
    },
    "tags": []
   },
   "outputs": [
    {
     "data": {
      "text/html": [
       "<div>\n",
       "<style scoped>\n",
       "    .dataframe tbody tr th:only-of-type {\n",
       "        vertical-align: middle;\n",
       "    }\n",
       "\n",
       "    .dataframe tbody tr th {\n",
       "        vertical-align: top;\n",
       "    }\n",
       "\n",
       "    .dataframe thead th {\n",
       "        text-align: right;\n",
       "    }\n",
       "</style>\n",
       "<table border=\"1\" class=\"dataframe\">\n",
       "  <thead>\n",
       "    <tr style=\"text-align: right;\">\n",
       "      <th></th>\n",
       "      <th>text</th>\n",
       "      <th>label</th>\n",
       "      <th>text1</th>\n",
       "    </tr>\n",
       "  </thead>\n",
       "  <tbody>\n",
       "    <tr>\n",
       "      <th>0</th>\n",
       "      <td>dear american teens question dutch person heard guys get way easier things learn age us sooooo thth graders like  right guys learn math</td>\n",
       "      <td>0</td>\n",
       "      <td>dear american teens question dutch person heard guys get way easier things learn age us sooooo thth graders like right guys learn math</td>\n",
       "    </tr>\n",
       "    <tr>\n",
       "      <th>1</th>\n",
       "      <td>nothing look forward lifei dont many reasons keep going feel like nothing keeps going next day makes want hang myself</td>\n",
       "      <td>1</td>\n",
       "      <td>nothing look forward lifei dont many reasons keep going feel like nothing keeps going next day makes want hang myself</td>\n",
       "    </tr>\n",
       "    <tr>\n",
       "      <th>2</th>\n",
       "      <td>music recommendations im looking expand playlist usual genres alt pop minnesota hip hop steampunk various indie genres artists people like cavetown aliceband bug hunter penelope scott various rhym...</td>\n",
       "      <td>0</td>\n",
       "      <td>music recommendations im looking expand playlist usual genres alt pop minnesota hip hop steampunk various indie genres artists people like cavetown aliceband bug hunter penelope scott various rhym...</td>\n",
       "    </tr>\n",
       "    <tr>\n",
       "      <th>3</th>\n",
       "      <td>im done trying feel betterthe reason im still alive know mum devastated ever killed myself ever passes im still state im going hesitate ending life shortly after im almost  take meds go therapy no...</td>\n",
       "      <td>1</td>\n",
       "      <td>im done trying feel betterthe reason im still alive know mum devastated ever killed myself ever passes im still state im going hesitate ending life shortly after im almost take meds go therapy not...</td>\n",
       "    </tr>\n",
       "    <tr>\n",
       "      <th>4</th>\n",
       "      <td>worried  year old girl subject domestic physicalmental housewithout going lot know girl know girl etc let give brief background known girl  years lives uk live different country kept touch electro...</td>\n",
       "      <td>1</td>\n",
       "      <td>worried year old girl subject domestic physicalmental housewithout going lot know girl know girl etc let give brief background known girl years lives uk live different country kept touch electroni...</td>\n",
       "    </tr>\n",
       "  </tbody>\n",
       "</table>\n",
       "</div>"
      ],
      "text/plain": [
       "                                                                                                                                                                                                      text  \\\n",
       "0                                                                  dear american teens question dutch person heard guys get way easier things learn age us sooooo thth graders like  right guys learn math   \n",
       "1                                                                                    nothing look forward lifei dont many reasons keep going feel like nothing keeps going next day makes want hang myself   \n",
       "2  music recommendations im looking expand playlist usual genres alt pop minnesota hip hop steampunk various indie genres artists people like cavetown aliceband bug hunter penelope scott various rhym...   \n",
       "3  im done trying feel betterthe reason im still alive know mum devastated ever killed myself ever passes im still state im going hesitate ending life shortly after im almost  take meds go therapy no...   \n",
       "4  worried  year old girl subject domestic physicalmental housewithout going lot know girl know girl etc let give brief background known girl  years lives uk live different country kept touch electro...   \n",
       "\n",
       "   label  \\\n",
       "0      0   \n",
       "1      1   \n",
       "2      0   \n",
       "3      1   \n",
       "4      1   \n",
       "\n",
       "                                                                                                                                                                                                     text1  \n",
       "0                                                                   dear american teens question dutch person heard guys get way easier things learn age us sooooo thth graders like right guys learn math  \n",
       "1                                                                                    nothing look forward lifei dont many reasons keep going feel like nothing keeps going next day makes want hang myself  \n",
       "2  music recommendations im looking expand playlist usual genres alt pop minnesota hip hop steampunk various indie genres artists people like cavetown aliceband bug hunter penelope scott various rhym...  \n",
       "3  im done trying feel betterthe reason im still alive know mum devastated ever killed myself ever passes im still state im going hesitate ending life shortly after im almost take meds go therapy not...  \n",
       "4  worried year old girl subject domestic physicalmental housewithout going lot know girl know girl etc let give brief background known girl years lives uk live different country kept touch electroni...  "
      ]
     },
     "execution_count": 15,
     "metadata": {},
     "output_type": "execute_result"
    }
   ],
   "source": [
    "df.head()"
   ]
  },
  {
   "cell_type": "markdown",
   "id": "2374f8dc",
   "metadata": {
    "id": "YHCj0EJ6sKlE",
    "papermill": {
     "duration": 0.067865,
     "end_time": "2023-07-18T07:41:46.275813",
     "exception": false,
     "start_time": "2023-07-18T07:41:46.207948",
     "status": "completed"
    },
    "tags": []
   },
   "source": [
    "Let's compare the original and cleaned text data and analyze the impact of text cleaning on the text length."
   ]
  },
  {
   "cell_type": "code",
   "execution_count": 17,
   "id": "6c156067",
   "metadata": {
    "id": "-jP07q-bmWel",
    "outputId": "e6de5cdc-529a-4c6c-8060-97915e9e913d",
    "papermill": {
     "duration": 0.370382,
     "end_time": "2023-07-18T07:41:46.714666",
     "exception": false,
     "start_time": "2023-07-18T07:41:46.344284",
     "status": "completed"
    },
    "tags": []
   },
   "outputs": [
    {
     "data": {
      "text/html": [
       "<div>\n",
       "<style scoped>\n",
       "    .dataframe tbody tr th:only-of-type {\n",
       "        vertical-align: middle;\n",
       "    }\n",
       "\n",
       "    .dataframe tbody tr th {\n",
       "        vertical-align: top;\n",
       "    }\n",
       "\n",
       "    .dataframe thead th {\n",
       "        text-align: right;\n",
       "    }\n",
       "</style>\n",
       "<table border=\"1\" class=\"dataframe\">\n",
       "  <thead>\n",
       "    <tr style=\"text-align: right;\">\n",
       "      <th></th>\n",
       "      <th>pre-clean text</th>\n",
       "      <th>pre-clean len</th>\n",
       "      <th>post-clean text</th>\n",
       "      <th>post-clean len</th>\n",
       "    </tr>\n",
       "  </thead>\n",
       "  <tbody>\n",
       "    <tr>\n",
       "      <th>0</th>\n",
       "      <td>dear american teens question dutch person heard guys get way easier things learn age us sooooo thth graders like  right guys learn math</td>\n",
       "      <td>23</td>\n",
       "      <td>dear american teens question dutch person heard guys get way easier things learn age us sooooo thth graders like right guys learn math</td>\n",
       "      <td>23</td>\n",
       "    </tr>\n",
       "    <tr>\n",
       "      <th>1</th>\n",
       "      <td>nothing look forward lifei dont many reasons keep going feel like nothing keeps going next day makes want hang myself</td>\n",
       "      <td>20</td>\n",
       "      <td>nothing look forward lifei dont many reasons keep going feel like nothing keeps going next day makes want hang myself</td>\n",
       "      <td>20</td>\n",
       "    </tr>\n",
       "    <tr>\n",
       "      <th>2</th>\n",
       "      <td>music recommendations im looking expand playlist usual genres alt pop minnesota hip hop steampunk various indie genres artists people like cavetown aliceband bug hunter penelope scott various rhym...</td>\n",
       "      <td>64</td>\n",
       "      <td>music recommendations im looking expand playlist usual genres alt pop minnesota hip hop steampunk various indie genres artists people like cavetown aliceband bug hunter penelope scott various rhym...</td>\n",
       "      <td>64</td>\n",
       "    </tr>\n",
       "    <tr>\n",
       "      <th>3</th>\n",
       "      <td>im done trying feel betterthe reason im still alive know mum devastated ever killed myself ever passes im still state im going hesitate ending life shortly after im almost  take meds go therapy no...</td>\n",
       "      <td>100</td>\n",
       "      <td>im done trying feel betterthe reason im still alive know mum devastated ever killed myself ever passes im still state im going hesitate ending life shortly after im almost take meds go therapy not...</td>\n",
       "      <td>100</td>\n",
       "    </tr>\n",
       "    <tr>\n",
       "      <th>4</th>\n",
       "      <td>worried  year old girl subject domestic physicalmental housewithout going lot know girl know girl etc let give brief background known girl  years lives uk live different country kept touch electro...</td>\n",
       "      <td>311</td>\n",
       "      <td>worried year old girl subject domestic physicalmental housewithout going lot know girl know girl etc let give brief background known girl years lives uk live different country kept touch electroni...</td>\n",
       "      <td>311</td>\n",
       "    </tr>\n",
       "    <tr>\n",
       "      <th>5</th>\n",
       "      <td>hey rredflag sure right place post this goes  im currently student intern sandia national labs working survey help improve marketing outreach efforts many schools recruit around country were looki...</td>\n",
       "      <td>61</td>\n",
       "      <td>hey rredflag sure right place post this goes im currently student intern sandia national labs working survey help improve marketing outreach efforts many schools recruit around country were lookin...</td>\n",
       "      <td>61</td>\n",
       "    </tr>\n",
       "    <tr>\n",
       "      <th>6</th>\n",
       "      <td>feel like someone needs hear tonight feeling right think cant anything people keep puting listen this its your life everyone else living it someone tells unable something work get done say wrong s...</td>\n",
       "      <td>79</td>\n",
       "      <td>feel like someone needs hear tonight feeling right think cant anything people keep puting listen this its your life everyone else living it someone tells unable something work get done say wrong s...</td>\n",
       "      <td>79</td>\n",
       "    </tr>\n",
       "    <tr>\n",
       "      <th>7</th>\n",
       "      <td>deserve liveif died right noone would carei real friendsi always start conversations get dry responses i feel comfortable around females emotional abuse mom put left usi never find love i keep get...</td>\n",
       "      <td>51</td>\n",
       "      <td>deserve liveif died right noone would carei real friendsi always start conversations get dry responses i feel comfortable around females emotional abuse mom put left usi never find love i keep get...</td>\n",
       "      <td>51</td>\n",
       "    </tr>\n",
       "    <tr>\n",
       "      <th>8</th>\n",
       "      <td>feels good ive set dateim killing friday nice finally know im gonna it bye</td>\n",
       "      <td>14</td>\n",
       "      <td>feels good ive set dateim killing friday nice finally know im gonna it bye</td>\n",
       "      <td>14</td>\n",
       "    </tr>\n",
       "    <tr>\n",
       "      <th>9</th>\n",
       "      <td>live guiltok made stupid random choice  its getting me basically molested relative super erratic thing haunting right now random walk home randomly assaulted classmate screamed name loud pretty mu...</td>\n",
       "      <td>66</td>\n",
       "      <td>live guiltok made stupid random choice its getting me basically molested relative super erratic thing haunting right now random walk home randomly assaulted classmate screamed name loud pretty muc...</td>\n",
       "      <td>66</td>\n",
       "    </tr>\n",
       "  </tbody>\n",
       "</table>\n",
       "</div>"
      ],
      "text/plain": [
       "                                                                                                                                                                                            pre-clean text  \\\n",
       "0                                                                  dear american teens question dutch person heard guys get way easier things learn age us sooooo thth graders like  right guys learn math   \n",
       "1                                                                                    nothing look forward lifei dont many reasons keep going feel like nothing keeps going next day makes want hang myself   \n",
       "2  music recommendations im looking expand playlist usual genres alt pop minnesota hip hop steampunk various indie genres artists people like cavetown aliceband bug hunter penelope scott various rhym...   \n",
       "3  im done trying feel betterthe reason im still alive know mum devastated ever killed myself ever passes im still state im going hesitate ending life shortly after im almost  take meds go therapy no...   \n",
       "4  worried  year old girl subject domestic physicalmental housewithout going lot know girl know girl etc let give brief background known girl  years lives uk live different country kept touch electro...   \n",
       "5  hey rredflag sure right place post this goes  im currently student intern sandia national labs working survey help improve marketing outreach efforts many schools recruit around country were looki...   \n",
       "6  feel like someone needs hear tonight feeling right think cant anything people keep puting listen this its your life everyone else living it someone tells unable something work get done say wrong s...   \n",
       "7  deserve liveif died right noone would carei real friendsi always start conversations get dry responses i feel comfortable around females emotional abuse mom put left usi never find love i keep get...   \n",
       "8                                                                                                                              feels good ive set dateim killing friday nice finally know im gonna it bye    \n",
       "9  live guiltok made stupid random choice  its getting me basically molested relative super erratic thing haunting right now random walk home randomly assaulted classmate screamed name loud pretty mu...   \n",
       "\n",
       "   pre-clean len  \\\n",
       "0             23   \n",
       "1             20   \n",
       "2             64   \n",
       "3            100   \n",
       "4            311   \n",
       "5             61   \n",
       "6             79   \n",
       "7             51   \n",
       "8             14   \n",
       "9             66   \n",
       "\n",
       "                                                                                                                                                                                           post-clean text  \\\n",
       "0                                                                   dear american teens question dutch person heard guys get way easier things learn age us sooooo thth graders like right guys learn math   \n",
       "1                                                                                    nothing look forward lifei dont many reasons keep going feel like nothing keeps going next day makes want hang myself   \n",
       "2  music recommendations im looking expand playlist usual genres alt pop minnesota hip hop steampunk various indie genres artists people like cavetown aliceband bug hunter penelope scott various rhym...   \n",
       "3  im done trying feel betterthe reason im still alive know mum devastated ever killed myself ever passes im still state im going hesitate ending life shortly after im almost take meds go therapy not...   \n",
       "4  worried year old girl subject domestic physicalmental housewithout going lot know girl know girl etc let give brief background known girl years lives uk live different country kept touch electroni...   \n",
       "5  hey rredflag sure right place post this goes im currently student intern sandia national labs working survey help improve marketing outreach efforts many schools recruit around country were lookin...   \n",
       "6  feel like someone needs hear tonight feeling right think cant anything people keep puting listen this its your life everyone else living it someone tells unable something work get done say wrong s...   \n",
       "7  deserve liveif died right noone would carei real friendsi always start conversations get dry responses i feel comfortable around females emotional abuse mom put left usi never find love i keep get...   \n",
       "8                                                                                                                               feels good ive set dateim killing friday nice finally know im gonna it bye   \n",
       "9  live guiltok made stupid random choice its getting me basically molested relative super erratic thing haunting right now random walk home randomly assaulted classmate screamed name loud pretty muc...   \n",
       "\n",
       "   post-clean len  \n",
       "0              23  \n",
       "1              20  \n",
       "2              64  \n",
       "3             100  \n",
       "4             311  \n",
       "5              61  \n",
       "6              79  \n",
       "7              51  \n",
       "8              14  \n",
       "9              66  "
      ]
     },
     "execution_count": 17,
     "metadata": {},
     "output_type": "execute_result"
    }
   ],
   "source": [
    "df_compare = pd.DataFrame()\n",
    "\n",
    "# Original text and its length\n",
    "df_compare['pre-clean text'] = df['text']\n",
    "df_compare['pre-clean len'] = df['text'].apply(lambda x: len(str(x).split()))\n",
    "\n",
    "# Cleaned text and its length\n",
    "df_compare['post-clean text'] = df['text1']\n",
    "df_compare['post-clean len'] = df['text1'].apply(lambda x: len(str(x).split()))\n",
    "\n",
    "df_compare.head(10)"
   ]
  },
  {
   "cell_type": "markdown",
   "id": "ed42d3bc",
   "metadata": {
    "id": "JTy92GRAFP-i",
    "papermill": {
     "duration": 0.069475,
     "end_time": "2023-07-18T07:41:46.852213",
     "exception": false,
     "start_time": "2023-07-18T07:41:46.782738",
     "status": "completed"
    },
    "tags": []
   },
   "source": [
    "## **Remove Stopwords**"
   ]
  },
  {
   "cell_type": "code",
   "execution_count": 18,
   "id": "935a239b",
   "metadata": {
    "id": "m_84UgOKmWem",
    "papermill": {
     "duration": 0.0834,
     "end_time": "2023-07-18T07:41:47.003889",
     "exception": false,
     "start_time": "2023-07-18T07:41:46.920489",
     "status": "completed"
    },
    "tags": []
   },
   "outputs": [],
   "source": [
    "def rm_stopwords(sentence):\n",
    "    \n",
    "    # List of stopwords\n",
    "    stopwords = [\"a\", \"about\", \"above\", \"after\", \"again\", \"against\", \"all\", \"am\", \"an\", \"and\", \"any\", \"are\", \"as\", \"at\", \"be\", \"because\", \"been\", \"before\", \"being\", \"below\", \"between\", \"both\", \"but\", \"by\", \"could\", \"did\", \"do\", \"does\", \"doing\", \"down\", \"during\", \"each\", \"few\", \"for\", \"from\", \"further\", \"had\", \"has\", \"have\", \"having\", \"he\", \"he'd\", \"he'll\", \"he's\", \"her\", \"here\", \"here's\", \"hers\", \"herself\", \"him\", \"himself\", \"his\", \"how\", \"how's\", \"i\", \"i'd\", \"i'll\", \"i'm\", \"i've\", \"if\", \"in\", \"into\", \"is\", \"it\", \"it's\", \"its\", \"itself\", \"let's\", \"me\", \"more\", \"most\", \"my\", \"myself\", \"nor\", \"of\", \"on\", \"once\", \"only\", \"or\", \"other\", \"ought\", \"our\", \"ours\", \"ourselves\", \"out\", \"over\", \"own\", \"same\", \"she\", \"she'd\", \"she'll\", \"she's\", \"should\", \"so\", \"some\", \"such\", \"than\", \"that\", \"that's\", \"the\", \"their\", \"theirs\", \"them\", \"themselves\", \"then\", \"there\", \"there's\", \"these\", \"they\", \"they'd\", \"they'll\", \"they're\", \"they've\", \"this\", \"those\", \"through\", \"to\", \"too\", \"under\", \"until\", \"up\", \"very\", \"was\", \"we\", \"we'd\", \"we'll\", \"we're\", \"we've\", \"were\", \"what\", \"what's\", \"when\", \"when's\", \"where\", \"where's\", \"which\", \"while\", \"who\", \"who's\", \"whom\", \"why\", \"why's\", \"with\", \"would\", \"you\", \"you'd\", \"you'll\", \"you're\", \"you've\", \"your\", \"yours\", \"yourself\", \"yourselves\" ]\n",
    "\n",
    "    # Sentence converted to lowercase-only\n",
    "    sentence = sentence.lower()\n",
    "\n",
    "    words = sentence.split()\n",
    "    no_words = [w for w in words if w not in stopwords]\n",
    "    sentence = \" \".join(no_words)\n",
    "\n",
    "    return sentence"
   ]
  },
  {
   "cell_type": "code",
   "execution_count": 19,
   "id": "ac9ac261",
   "metadata": {
    "id": "Y-mDkT6OmWem",
    "papermill": {
     "duration": 4.930075,
     "end_time": "2023-07-18T07:41:52.137145",
     "exception": false,
     "start_time": "2023-07-18T07:41:47.207070",
     "status": "completed"
    },
    "tags": []
   },
   "outputs": [],
   "source": [
    "df['text2'] = (df['text1'].apply(rm_stopwords))"
   ]
  },
  {
   "cell_type": "markdown",
   "id": "1e0b0fc5",
   "metadata": {
    "id": "hLWrcOHrsX0X",
    "papermill": {
     "duration": 0.07062,
     "end_time": "2023-07-18T07:41:52.278732",
     "exception": false,
     "start_time": "2023-07-18T07:41:52.208112",
     "status": "completed"
    },
    "tags": []
   },
   "source": [
    "compare the original and stopwords-removed text data and analyze the impact of removing stopwords on the text length."
   ]
  },
  {
   "cell_type": "code",
   "execution_count": 20,
   "id": "374cf378",
   "metadata": {
    "id": "qiJr0_jCmWen",
    "outputId": "85528135-3050-412d-af8d-f41b75792994",
    "papermill": {
     "duration": 0.345773,
     "end_time": "2023-07-18T07:41:52.692424",
     "exception": false,
     "start_time": "2023-07-18T07:41:52.346651",
     "status": "completed"
    },
    "tags": []
   },
   "outputs": [
    {
     "data": {
      "text/html": [
       "<div>\n",
       "<style scoped>\n",
       "    .dataframe tbody tr th:only-of-type {\n",
       "        vertical-align: middle;\n",
       "    }\n",
       "\n",
       "    .dataframe tbody tr th {\n",
       "        vertical-align: top;\n",
       "    }\n",
       "\n",
       "    .dataframe thead th {\n",
       "        text-align: right;\n",
       "    }\n",
       "</style>\n",
       "<table border=\"1\" class=\"dataframe\">\n",
       "  <thead>\n",
       "    <tr style=\"text-align: right;\">\n",
       "      <th></th>\n",
       "      <th>pre-clean text</th>\n",
       "      <th>pre-clean len</th>\n",
       "      <th>post-clean text</th>\n",
       "      <th>post-clean len</th>\n",
       "    </tr>\n",
       "  </thead>\n",
       "  <tbody>\n",
       "    <tr>\n",
       "      <th>0</th>\n",
       "      <td>dear american teens question dutch person heard guys get way easier things learn age us sooooo thth graders like right guys learn math</td>\n",
       "      <td>23</td>\n",
       "      <td>dear american teens question dutch person heard guys get way easier things learn age us sooooo thth graders like right guys learn math</td>\n",
       "      <td>23</td>\n",
       "    </tr>\n",
       "    <tr>\n",
       "      <th>1</th>\n",
       "      <td>nothing look forward lifei dont many reasons keep going feel like nothing keeps going next day makes want hang myself</td>\n",
       "      <td>20</td>\n",
       "      <td>nothing look forward lifei dont many reasons keep going feel like nothing keeps going next day makes want hang</td>\n",
       "      <td>19</td>\n",
       "    </tr>\n",
       "    <tr>\n",
       "      <th>2</th>\n",
       "      <td>music recommendations im looking expand playlist usual genres alt pop minnesota hip hop steampunk various indie genres artists people like cavetown aliceband bug hunter penelope scott various rhym...</td>\n",
       "      <td>64</td>\n",
       "      <td>music recommendations im looking expand playlist usual genres alt pop minnesota hip hop steampunk various indie genres artists people like cavetown aliceband bug hunter penelope scott various rhym...</td>\n",
       "      <td>61</td>\n",
       "    </tr>\n",
       "    <tr>\n",
       "      <th>3</th>\n",
       "      <td>im done trying feel betterthe reason im still alive know mum devastated ever killed myself ever passes im still state im going hesitate ending life shortly after im almost take meds go therapy not...</td>\n",
       "      <td>100</td>\n",
       "      <td>im done trying feel betterthe reason im still alive know mum devastated ever killed ever passes im still state im going hesitate ending life shortly im almost take meds go therapy nothing seems he...</td>\n",
       "      <td>96</td>\n",
       "    </tr>\n",
       "    <tr>\n",
       "      <th>4</th>\n",
       "      <td>worried year old girl subject domestic physicalmental housewithout going lot know girl know girl etc let give brief background known girl years lives uk live different country kept touch electroni...</td>\n",
       "      <td>311</td>\n",
       "      <td>worried year old girl subject domestic physicalmental housewithout going lot know girl know girl etc let give brief background known girl years lives uk live different country kept touch electroni...</td>\n",
       "      <td>296</td>\n",
       "    </tr>\n",
       "  </tbody>\n",
       "</table>\n",
       "</div>"
      ],
      "text/plain": [
       "                                                                                                                                                                                            pre-clean text  \\\n",
       "0                                                                   dear american teens question dutch person heard guys get way easier things learn age us sooooo thth graders like right guys learn math   \n",
       "1                                                                                    nothing look forward lifei dont many reasons keep going feel like nothing keeps going next day makes want hang myself   \n",
       "2  music recommendations im looking expand playlist usual genres alt pop minnesota hip hop steampunk various indie genres artists people like cavetown aliceband bug hunter penelope scott various rhym...   \n",
       "3  im done trying feel betterthe reason im still alive know mum devastated ever killed myself ever passes im still state im going hesitate ending life shortly after im almost take meds go therapy not...   \n",
       "4  worried year old girl subject domestic physicalmental housewithout going lot know girl know girl etc let give brief background known girl years lives uk live different country kept touch electroni...   \n",
       "\n",
       "   pre-clean len  \\\n",
       "0             23   \n",
       "1             20   \n",
       "2             64   \n",
       "3            100   \n",
       "4            311   \n",
       "\n",
       "                                                                                                                                                                                           post-clean text  \\\n",
       "0                                                                   dear american teens question dutch person heard guys get way easier things learn age us sooooo thth graders like right guys learn math   \n",
       "1                                                                                           nothing look forward lifei dont many reasons keep going feel like nothing keeps going next day makes want hang   \n",
       "2  music recommendations im looking expand playlist usual genres alt pop minnesota hip hop steampunk various indie genres artists people like cavetown aliceband bug hunter penelope scott various rhym...   \n",
       "3  im done trying feel betterthe reason im still alive know mum devastated ever killed ever passes im still state im going hesitate ending life shortly im almost take meds go therapy nothing seems he...   \n",
       "4  worried year old girl subject domestic physicalmental housewithout going lot know girl know girl etc let give brief background known girl years lives uk live different country kept touch electroni...   \n",
       "\n",
       "   post-clean len  \n",
       "0              23  \n",
       "1              19  \n",
       "2              61  \n",
       "3              96  \n",
       "4             296  "
      ]
     },
     "execution_count": 20,
     "metadata": {},
     "output_type": "execute_result"
    }
   ],
   "source": [
    "df_comp = pd.DataFrame()\n",
    "\n",
    "# Original text and its length\n",
    "df_comp['pre-clean text'] = df['text1']\n",
    "df_comp['pre-clean len'] = df['text1'].apply(lambda x: len(str(x).split()))\n",
    "\n",
    "# Cleaned text and its length\n",
    "df_comp['post-clean text'] = df['text2']\n",
    "df_comp['post-clean len'] = df['text2'].apply(lambda x: len(str(x).split()))\n",
    "\n",
    "df_comp.head(5)"
   ]
  },
  {
   "cell_type": "markdown",
   "id": "1124d714",
   "metadata": {
    "id": "Medycj9jFU7l",
    "papermill": {
     "duration": 0.070762,
     "end_time": "2023-07-18T07:41:52.834429",
     "exception": false,
     "start_time": "2023-07-18T07:41:52.763667",
     "status": "completed"
    },
    "tags": []
   },
   "source": [
    "## **Lemmatization**"
   ]
  },
  {
   "cell_type": "code",
   "execution_count": 21,
   "id": "0fe98522",
   "metadata": {
    "id": "KbIrJFLbmWen",
    "outputId": "fc425665-6d6a-47ff-f3e7-f9f0396643ec",
    "papermill": {
     "duration": 2.469959,
     "end_time": "2023-07-18T07:41:55.373989",
     "exception": false,
     "start_time": "2023-07-18T07:41:52.904030",
     "status": "completed"
    },
    "tags": []
   },
   "outputs": [
    {
     "name": "stderr",
     "output_type": "stream",
     "text": [
      "[nltk_data] Downloading package wordnet to /Users/raja/nltk_data...\n",
      "[nltk_data]   Package wordnet is already up-to-date!\n",
      "[nltk_data] Downloading package punkt to /Users/raja/nltk_data...\n",
      "[nltk_data]   Package punkt is already up-to-date!\n"
     ]
    }
   ],
   "source": [
    "import nltk\n",
    "nltk.download('wordnet')\n",
    "nltk.download('punkt')\n",
    "\n",
    "from nltk.stem import WordNetLemmatizer\n",
    "from nltk.tokenize import word_tokenize\n",
    "\n",
    "lemmatizer = WordNetLemmatizer()\n",
    "\n",
    "def lemmatize_text(text):\n",
    "    # Tokenize the sentence\n",
    "    word_list = nltk.word_tokenize(text)\n",
    "\n",
    "    # Lemmatize list of words and join\n",
    "    lemmatized_output = ' '.join([lemmatizer.lemmatize(w) for w in word_list])\n",
    "\n",
    "    return lemmatized_output"
   ]
  },
  {
   "cell_type": "markdown",
   "id": "b16b7f9c",
   "metadata": {
    "id": "hkdhMmqdsiXd",
    "papermill": {
     "duration": 0.071789,
     "end_time": "2023-07-18T07:41:55.517939",
     "exception": false,
     "start_time": "2023-07-18T07:41:55.446150",
     "status": "completed"
    },
    "tags": []
   },
   "source": [
    "The lemmatization function is then applied to the 'text2' column of the DataFrame 'df' using the apply method, and the lemmatized output is assigned to the 'text3' column."
   ]
  },
  {
   "cell_type": "code",
   "execution_count": 22,
   "id": "82697b78",
   "metadata": {
    "id": "36-RYTWnmWeo",
    "papermill": {
     "duration": 30.143289,
     "end_time": "2023-07-18T07:42:25.730407",
     "exception": false,
     "start_time": "2023-07-18T07:41:55.587118",
     "status": "completed"
    },
    "tags": []
   },
   "outputs": [],
   "source": [
    "df['text3'] = df['text2'].apply(lemmatize_text)"
   ]
  },
  {
   "cell_type": "markdown",
   "id": "dda81ef8",
   "metadata": {
    "id": "LUUbxTZ2skXg",
    "papermill": {
     "duration": 0.070617,
     "end_time": "2023-07-18T07:42:25.873620",
     "exception": false,
     "start_time": "2023-07-18T07:42:25.803003",
     "status": "completed"
    },
    "tags": []
   },
   "source": [
    "A new DataFrame, 'df_lemma', is created to store the original and lemmatized text data along with their respective lengths."
   ]
  },
  {
   "cell_type": "code",
   "execution_count": 23,
   "id": "f467162e",
   "metadata": {
    "id": "NhzRdaWlmWeo",
    "outputId": "ca8eae02-8b15-4dd3-94d5-d2a7f6e6ed69",
    "papermill": {
     "duration": 0.352142,
     "end_time": "2023-07-18T07:42:26.294745",
     "exception": false,
     "start_time": "2023-07-18T07:42:25.942603",
     "status": "completed"
    },
    "tags": []
   },
   "outputs": [
    {
     "data": {
      "text/html": [
       "<div>\n",
       "<style scoped>\n",
       "    .dataframe tbody tr th:only-of-type {\n",
       "        vertical-align: middle;\n",
       "    }\n",
       "\n",
       "    .dataframe tbody tr th {\n",
       "        vertical-align: top;\n",
       "    }\n",
       "\n",
       "    .dataframe thead th {\n",
       "        text-align: right;\n",
       "    }\n",
       "</style>\n",
       "<table border=\"1\" class=\"dataframe\">\n",
       "  <thead>\n",
       "    <tr style=\"text-align: right;\">\n",
       "      <th></th>\n",
       "      <th>pre-clean text</th>\n",
       "      <th>pre-clean len</th>\n",
       "      <th>post-clean text</th>\n",
       "      <th>post-clean len</th>\n",
       "    </tr>\n",
       "  </thead>\n",
       "  <tbody>\n",
       "    <tr>\n",
       "      <th>0</th>\n",
       "      <td>dear american teens question dutch person heard guys get way easier things learn age us sooooo thth graders like right guys learn math</td>\n",
       "      <td>23</td>\n",
       "      <td>dear american teen question dutch person heard guy get way easier thing learn age u sooooo thth grader like right guy learn math</td>\n",
       "      <td>23</td>\n",
       "    </tr>\n",
       "    <tr>\n",
       "      <th>1</th>\n",
       "      <td>nothing look forward lifei dont many reasons keep going feel like nothing keeps going next day makes want hang</td>\n",
       "      <td>19</td>\n",
       "      <td>nothing look forward lifei dont many reason keep going feel like nothing keep going next day make want hang</td>\n",
       "      <td>19</td>\n",
       "    </tr>\n",
       "    <tr>\n",
       "      <th>2</th>\n",
       "      <td>music recommendations im looking expand playlist usual genres alt pop minnesota hip hop steampunk various indie genres artists people like cavetown aliceband bug hunter penelope scott various rhym...</td>\n",
       "      <td>61</td>\n",
       "      <td>music recommendation im looking expand playlist usual genre alt pop minnesota hip hop steampunk various indie genre artist people like cavetown aliceband bug hunter penelope scott various rhymesay...</td>\n",
       "      <td>61</td>\n",
       "    </tr>\n",
       "    <tr>\n",
       "      <th>3</th>\n",
       "      <td>im done trying feel betterthe reason im still alive know mum devastated ever killed ever passes im still state im going hesitate ending life shortly im almost take meds go therapy nothing seems he...</td>\n",
       "      <td>96</td>\n",
       "      <td>im done trying feel betterthe reason im still alive know mum devastated ever killed ever pass im still state im going hesitate ending life shortly im almost take med go therapy nothing seems help ...</td>\n",
       "      <td>97</td>\n",
       "    </tr>\n",
       "    <tr>\n",
       "      <th>4</th>\n",
       "      <td>worried year old girl subject domestic physicalmental housewithout going lot know girl know girl etc let give brief background known girl years lives uk live different country kept touch electroni...</td>\n",
       "      <td>296</td>\n",
       "      <td>worried year old girl subject domestic physicalmental housewithout going lot know girl know girl etc let give brief background known girl year life uk live different country kept touch electronic ...</td>\n",
       "      <td>296</td>\n",
       "    </tr>\n",
       "    <tr>\n",
       "      <th>5</th>\n",
       "      <td>hey rredflag sure right place post goes im currently student intern sandia national labs working survey help improve marketing outreach efforts many schools recruit around country looking current ...</td>\n",
       "      <td>57</td>\n",
       "      <td>hey rredflag sure right place post go im currently student intern sandia national lab working survey help improve marketing outreach effort many school recruit around country looking current under...</td>\n",
       "      <td>57</td>\n",
       "    </tr>\n",
       "    <tr>\n",
       "      <th>6</th>\n",
       "      <td>feel like someone needs hear tonight feeling right think cant anything people keep puting listen life everyone else living someone tells unable something work get done say wrong someone says youl ...</td>\n",
       "      <td>69</td>\n",
       "      <td>feel like someone need hear tonight feeling right think cant anything people keep puting listen life everyone else living someone tell unable something work get done say wrong someone say youl nev...</td>\n",
       "      <td>69</td>\n",
       "    </tr>\n",
       "    <tr>\n",
       "      <th>7</th>\n",
       "      <td>deserve liveif died right noone carei real friendsi always start conversations get dry responses feel comfortable around females emotional abuse mom put left usi never find love keep getting remin...</td>\n",
       "      <td>47</td>\n",
       "      <td>deserve liveif died right noone carei real friendsi always start conversation get dry response feel comfortable around female emotional abuse mom put left usi never find love keep getting reminded...</td>\n",
       "      <td>47</td>\n",
       "    </tr>\n",
       "    <tr>\n",
       "      <th>8</th>\n",
       "      <td>feels good ive set dateim killing friday nice finally know im gonna bye</td>\n",
       "      <td>13</td>\n",
       "      <td>feel good ive set dateim killing friday nice finally know im gon na bye</td>\n",
       "      <td>14</td>\n",
       "    </tr>\n",
       "    <tr>\n",
       "      <th>9</th>\n",
       "      <td>live guiltok made stupid random choice getting basically molested relative super erratic thing haunting right now random walk home randomly assaulted classmate screamed name loud pretty much annoy...</td>\n",
       "      <td>62</td>\n",
       "      <td>live guiltok made stupid random choice getting basically molested relative super erratic thing haunting right now random walk home randomly assaulted classmate screamed name loud pretty much annoy...</td>\n",
       "      <td>62</td>\n",
       "    </tr>\n",
       "    <tr>\n",
       "      <th>10</th>\n",
       "      <td>excercise motivated ngl cant wait get shape know gonna overnight im happy right now</td>\n",
       "      <td>14</td>\n",
       "      <td>excercise motivated ngl cant wait get shape know gon na overnight im happy right now</td>\n",
       "      <td>15</td>\n",
       "    </tr>\n",
       "    <tr>\n",
       "      <th>11</th>\n",
       "      <td>know youd rather laid big booty body hella positive cuz got big booty</td>\n",
       "      <td>13</td>\n",
       "      <td>know youd rather laid big booty body hella positive cuz got big booty</td>\n",
       "      <td>13</td>\n",
       "    </tr>\n",
       "    <tr>\n",
       "      <th>12</th>\n",
       "      <td>even time fuck supposed mean</td>\n",
       "      <td>5</td>\n",
       "      <td>even time fuck supposed mean</td>\n",
       "      <td>5</td>\n",
       "    </tr>\n",
       "    <tr>\n",
       "      <th>13</th>\n",
       "      <td>usual hollywood stereotyped everyone movie one classic uptight white collar banker russian woman well done even facial expressions great language perfect even russian language nicole splendid job ...</td>\n",
       "      <td>31</td>\n",
       "      <td>usual hollywood stereotyped everyone movie one classic uptight white collar banker russian woman well done even facial expression great language perfect even russian language nicole splendid job h...</td>\n",
       "      <td>31</td>\n",
       "    </tr>\n",
       "    <tr>\n",
       "      <th>14</th>\n",
       "      <td>think nearly unbelievable film made death penalty one worlds controversial topics offends neither testament tim robbins extraordinary intelligence sensitivity traits seen acting roles well shawsha...</td>\n",
       "      <td>55</td>\n",
       "      <td>think nearly unbelievable film made death penalty one world controversial topic offends neither testament tim robbins extraordinary intelligence sensitivity trait seen acting role well shawshank r...</td>\n",
       "      <td>55</td>\n",
       "    </tr>\n",
       "    <tr>\n",
       "      <th>15</th>\n",
       "      <td>trying rd time k krma special</td>\n",
       "      <td>6</td>\n",
       "      <td>trying rd time k krma special</td>\n",
       "      <td>6</td>\n",
       "    </tr>\n",
       "    <tr>\n",
       "      <th>16</th>\n",
       "      <td>guy coming sure wear f hey guy friend coming tomorrow im excited im sure wear ive known since middle school weve talking couple months honest know really care wear will want wear dress something t...</td>\n",
       "      <td>122</td>\n",
       "      <td>guy coming sure wear f hey guy friend coming tomorrow im excited im sure wear ive known since middle school weve talking couple month honest know really care wear will want wear dress something th...</td>\n",
       "      <td>124</td>\n",
       "    </tr>\n",
       "    <tr>\n",
       "      <th>17</th>\n",
       "      <td>one best episodes entire xfiles series creepy beyond words tension suspense episode well executed entire minutes managed almost scary entire movie episode joins ranks best episodes greats home hum...</td>\n",
       "      <td>58</td>\n",
       "      <td>one best episode entire xfiles series creepy beyond word tension suspense episode well executed entire minute managed almost scary entire movie episode join rank best episode great home humbug bad...</td>\n",
       "      <td>58</td>\n",
       "    </tr>\n",
       "    <tr>\n",
       "      <th>18</th>\n",
       "      <td>good byehey know sure hell know goodbye probably mean anything plus bother read rules sub may may taken hard getting harder weakened much ever since small innocent child things bad almost every da...</td>\n",
       "      <td>179</td>\n",
       "      <td>good byehey know sure hell know goodbye probably mean anything plus bother read rule sub may may taken hard getting harder weakened much ever since small innocent child thing bad almost every day ...</td>\n",
       "      <td>179</td>\n",
       "    </tr>\n",
       "    <tr>\n",
       "      <th>19</th>\n",
       "      <td>tried put sugar coffee back spoon happy monday everyonestay safe sunflowers one days</td>\n",
       "      <td>13</td>\n",
       "      <td>tried put sugar coffee back spoon happy monday everyonestay safe sunflower one day</td>\n",
       "      <td>13</td>\n",
       "    </tr>\n",
       "  </tbody>\n",
       "</table>\n",
       "</div>"
      ],
      "text/plain": [
       "                                                                                                                                                                                             pre-clean text  \\\n",
       "0                                                                    dear american teens question dutch person heard guys get way easier things learn age us sooooo thth graders like right guys learn math   \n",
       "1                                                                                            nothing look forward lifei dont many reasons keep going feel like nothing keeps going next day makes want hang   \n",
       "2   music recommendations im looking expand playlist usual genres alt pop minnesota hip hop steampunk various indie genres artists people like cavetown aliceband bug hunter penelope scott various rhym...   \n",
       "3   im done trying feel betterthe reason im still alive know mum devastated ever killed ever passes im still state im going hesitate ending life shortly im almost take meds go therapy nothing seems he...   \n",
       "4   worried year old girl subject domestic physicalmental housewithout going lot know girl know girl etc let give brief background known girl years lives uk live different country kept touch electroni...   \n",
       "5   hey rredflag sure right place post goes im currently student intern sandia national labs working survey help improve marketing outreach efforts many schools recruit around country looking current ...   \n",
       "6   feel like someone needs hear tonight feeling right think cant anything people keep puting listen life everyone else living someone tells unable something work get done say wrong someone says youl ...   \n",
       "7   deserve liveif died right noone carei real friendsi always start conversations get dry responses feel comfortable around females emotional abuse mom put left usi never find love keep getting remin...   \n",
       "8                                                                                                                                   feels good ive set dateim killing friday nice finally know im gonna bye   \n",
       "9   live guiltok made stupid random choice getting basically molested relative super erratic thing haunting right now random walk home randomly assaulted classmate screamed name loud pretty much annoy...   \n",
       "10                                                                                                                      excercise motivated ngl cant wait get shape know gonna overnight im happy right now   \n",
       "11                                                                                                                                    know youd rather laid big booty body hella positive cuz got big booty   \n",
       "12                                                                                                                                                                             even time fuck supposed mean   \n",
       "13  usual hollywood stereotyped everyone movie one classic uptight white collar banker russian woman well done even facial expressions great language perfect even russian language nicole splendid job ...   \n",
       "14  think nearly unbelievable film made death penalty one worlds controversial topics offends neither testament tim robbins extraordinary intelligence sensitivity traits seen acting roles well shawsha...   \n",
       "15                                                                                                                                                                            trying rd time k krma special   \n",
       "16  guy coming sure wear f hey guy friend coming tomorrow im excited im sure wear ive known since middle school weve talking couple months honest know really care wear will want wear dress something t...   \n",
       "17  one best episodes entire xfiles series creepy beyond words tension suspense episode well executed entire minutes managed almost scary entire movie episode joins ranks best episodes greats home hum...   \n",
       "18  good byehey know sure hell know goodbye probably mean anything plus bother read rules sub may may taken hard getting harder weakened much ever since small innocent child things bad almost every da...   \n",
       "19                                                                                                                     tried put sugar coffee back spoon happy monday everyonestay safe sunflowers one days   \n",
       "\n",
       "    pre-clean len  \\\n",
       "0              23   \n",
       "1              19   \n",
       "2              61   \n",
       "3              96   \n",
       "4             296   \n",
       "5              57   \n",
       "6              69   \n",
       "7              47   \n",
       "8              13   \n",
       "9              62   \n",
       "10             14   \n",
       "11             13   \n",
       "12              5   \n",
       "13             31   \n",
       "14             55   \n",
       "15              6   \n",
       "16            122   \n",
       "17             58   \n",
       "18            179   \n",
       "19             13   \n",
       "\n",
       "                                                                                                                                                                                            post-clean text  \\\n",
       "0                                                                          dear american teen question dutch person heard guy get way easier thing learn age u sooooo thth grader like right guy learn math   \n",
       "1                                                                                               nothing look forward lifei dont many reason keep going feel like nothing keep going next day make want hang   \n",
       "2   music recommendation im looking expand playlist usual genre alt pop minnesota hip hop steampunk various indie genre artist people like cavetown aliceband bug hunter penelope scott various rhymesay...   \n",
       "3   im done trying feel betterthe reason im still alive know mum devastated ever killed ever pass im still state im going hesitate ending life shortly im almost take med go therapy nothing seems help ...   \n",
       "4   worried year old girl subject domestic physicalmental housewithout going lot know girl know girl etc let give brief background known girl year life uk live different country kept touch electronic ...   \n",
       "5   hey rredflag sure right place post go im currently student intern sandia national lab working survey help improve marketing outreach effort many school recruit around country looking current under...   \n",
       "6   feel like someone need hear tonight feeling right think cant anything people keep puting listen life everyone else living someone tell unable something work get done say wrong someone say youl nev...   \n",
       "7   deserve liveif died right noone carei real friendsi always start conversation get dry response feel comfortable around female emotional abuse mom put left usi never find love keep getting reminded...   \n",
       "8                                                                                                                                   feel good ive set dateim killing friday nice finally know im gon na bye   \n",
       "9   live guiltok made stupid random choice getting basically molested relative super erratic thing haunting right now random walk home randomly assaulted classmate screamed name loud pretty much annoy...   \n",
       "10                                                                                                                     excercise motivated ngl cant wait get shape know gon na overnight im happy right now   \n",
       "11                                                                                                                                    know youd rather laid big booty body hella positive cuz got big booty   \n",
       "12                                                                                                                                                                             even time fuck supposed mean   \n",
       "13  usual hollywood stereotyped everyone movie one classic uptight white collar banker russian woman well done even facial expression great language perfect even russian language nicole splendid job h...   \n",
       "14  think nearly unbelievable film made death penalty one world controversial topic offends neither testament tim robbins extraordinary intelligence sensitivity trait seen acting role well shawshank r...   \n",
       "15                                                                                                                                                                            trying rd time k krma special   \n",
       "16  guy coming sure wear f hey guy friend coming tomorrow im excited im sure wear ive known since middle school weve talking couple month honest know really care wear will want wear dress something th...   \n",
       "17  one best episode entire xfiles series creepy beyond word tension suspense episode well executed entire minute managed almost scary entire movie episode join rank best episode great home humbug bad...   \n",
       "18  good byehey know sure hell know goodbye probably mean anything plus bother read rule sub may may taken hard getting harder weakened much ever since small innocent child thing bad almost every day ...   \n",
       "19                                                                                                                       tried put sugar coffee back spoon happy monday everyonestay safe sunflower one day   \n",
       "\n",
       "    post-clean len  \n",
       "0               23  \n",
       "1               19  \n",
       "2               61  \n",
       "3               97  \n",
       "4              296  \n",
       "5               57  \n",
       "6               69  \n",
       "7               47  \n",
       "8               14  \n",
       "9               62  \n",
       "10              15  \n",
       "11              13  \n",
       "12               5  \n",
       "13              31  \n",
       "14              55  \n",
       "15               6  \n",
       "16             124  \n",
       "17              58  \n",
       "18             179  \n",
       "19              13  "
      ]
     },
     "execution_count": 23,
     "metadata": {},
     "output_type": "execute_result"
    }
   ],
   "source": [
    "df_lemma = pd.DataFrame()\n",
    "\n",
    "# Original text and its length\n",
    "df_lemma['pre-clean text'] = df['text2']\n",
    "df_lemma['pre-clean len'] = df['text2'].apply(lambda x: len(str(x).split()))\n",
    "\n",
    "# Cleaned text and its length\n",
    "df_lemma['post-clean text'] = df['text3']\n",
    "df_lemma['post-clean len'] = df['text3'].apply(lambda x: len(str(x).split()))\n",
    "\n",
    "df_lemma.head(20)"
   ]
  },
  {
   "cell_type": "markdown",
   "id": "51e76c02",
   "metadata": {
    "id": "yyueCJdLFbSP",
    "papermill": {
     "duration": 0.069167,
     "end_time": "2023-07-18T07:42:26.435582",
     "exception": false,
     "start_time": "2023-07-18T07:42:26.366415",
     "status": "completed"
    },
    "tags": []
   },
   "source": [
    "### **Text Length**"
   ]
  },
  {
   "cell_type": "code",
   "execution_count": 24,
   "id": "3c460760",
   "metadata": {
    "id": "7uoYyWwImWeo",
    "papermill": {
     "duration": 0.211401,
     "end_time": "2023-07-18T07:42:26.716851",
     "exception": false,
     "start_time": "2023-07-18T07:42:26.505450",
     "status": "completed"
    },
    "tags": []
   },
   "outputs": [],
   "source": [
    "df['text_length'] = df['text3'].apply(lambda x: len(str(x).split()))"
   ]
  },
  {
   "cell_type": "code",
   "execution_count": 25,
   "id": "1b00c878",
   "metadata": {
    "id": "AoxXbHBTmWe1",
    "outputId": "d186509d-994f-4397-8a27-b7160087a7d3",
    "papermill": {
     "duration": 0.205239,
     "end_time": "2023-07-18T07:42:26.998059",
     "exception": false,
     "start_time": "2023-07-18T07:42:26.792820",
     "status": "completed"
    },
    "tags": []
   },
   "outputs": [
    {
     "name": "stdout",
     "output_type": "stream",
     "text": [
      "95th Quartile of Text Lengths: 231.0\n"
     ]
    }
   ],
   "source": [
    "# Calculate the length of each text in X_train\n",
    "text_lengths = [len(text.split()) for text in df[\"text3\"]]\n",
    "\n",
    "# Find the 95th quartile\n",
    "quartile_95 = np.percentile(text_lengths, 95)\n",
    "\n",
    "print(f\"95th Quartile of Text Lengths: {quartile_95}\")"
   ]
  },
  {
   "cell_type": "code",
   "execution_count": 26,
   "id": "81a5d9c3",
   "metadata": {
    "id": "LVuyM4N4mWe2",
    "outputId": "12e16d82-94c3-4e55-8bf6-653ca18cf1a7",
    "papermill": {
     "duration": 0.523603,
     "end_time": "2023-07-18T07:42:27.591331",
     "exception": false,
     "start_time": "2023-07-18T07:42:27.067728",
     "status": "completed"
    },
    "tags": []
   },
   "outputs": [
    {
     "data": {
      "image/png": "[encoded data removed]",
      "text/plain": [
       "<Figure size 1000x600 with 1 Axes>"
      ]
     },
     "metadata": {},
     "output_type": "display_data"
    }
   ],
   "source": [
    "# Plotting the histogram\n",
    "plt.figure(figsize=(10, 6))\n",
    "plt.hist(text_lengths, bins=20, edgecolor='black')\n",
    "plt.xlabel('Word Length')\n",
    "plt.ylabel('Frequency')\n",
    "plt.title('Distribution of Text Lengths')\n",
    "\n",
    "# Adding a vertical line for the 95th quartile\n",
    "quartile_95 = np.percentile(text_lengths, 95)\n",
    "plt.axvline(x=quartile_95, color='red', linestyle='--', label='95th Quartile')\n",
    "plt.legend()\n",
    "\n",
    "plt.grid(True)\n",
    "plt.show()"
   ]
  },
  {
   "cell_type": "code",
   "execution_count": 27,
   "id": "2b278cc4",
   "metadata": {
    "id": "MR1QVdrOmWe2",
    "outputId": "da9c888a-3fd1-455f-cf6f-4a0caa011e21",
    "papermill": {
     "duration": 0.09456,
     "end_time": "2023-07-18T07:42:27.898964",
     "exception": false,
     "start_time": "2023-07-18T07:42:27.804404",
     "status": "completed"
    },
    "tags": []
   },
   "outputs": [
    {
     "data": {
      "text/plain": [
       "count    27972.000000\n",
       "mean        68.121014\n",
       "std         97.784015\n",
       "min          0.000000\n",
       "25%         15.000000\n",
       "50%         36.000000\n",
       "75%         82.000000\n",
       "max       2556.000000\n",
       "Name: text_length, dtype: float64"
      ]
     },
     "execution_count": 27,
     "metadata": {},
     "output_type": "execute_result"
    }
   ],
   "source": [
    "df.text_length.describe()"
   ]
  },
  {
   "cell_type": "markdown",
   "id": "986112ed",
   "metadata": {
    "id": "AbeFS9M4mWe3",
    "papermill": {
     "duration": 0.071962,
     "end_time": "2023-07-18T07:42:28.111297",
     "exception": false,
     "start_time": "2023-07-18T07:42:28.039335",
     "status": "completed"
    },
    "tags": []
   },
   "source": [
    "### **Visualize text with low frequency words**"
   ]
  },
  {
   "cell_type": "code",
   "execution_count": 28,
   "id": "d0b7ad39",
   "metadata": {
    "id": "r1T4DlTDmWe3",
    "outputId": "3a9cce08-3948-48b5-dd99-601e9b037d25",
    "papermill": {
     "duration": 0.829054,
     "end_time": "2023-07-18T07:42:29.012541",
     "exception": false,
     "start_time": "2023-07-18T07:42:28.183487",
     "status": "completed"
    },
    "tags": []
   },
   "outputs": [
    {
     "data": {
      "image/png": "[encoded data removed]",
      "text/plain": [
       "<Figure size 700x500 with 1 Axes>"
      ]
     },
     "metadata": {},
     "output_type": "display_data"
    }
   ],
   "source": [
    "import seaborn as sns\n",
    "\n",
    "plt.figure(figsize=(7,5))\n",
    "ax = sns.countplot(x='text_length', data=df[df['text_length']<10], palette='mako')\n",
    "plt.title('Text with less than 10 words')\n",
    "plt.yticks([])\n",
    "ax.bar_label(ax.containers[0])\n",
    "plt.ylabel('Count')\n",
    "plt.xlabel('')\n",
    "plt.show()"
   ]
  },
  {
   "cell_type": "markdown",
   "id": "82a319f5",
   "metadata": {
    "id": "pYJZ6G28tAm7",
    "papermill": {
     "duration": 0.0735,
     "end_time": "2023-07-18T07:42:29.163955",
     "exception": false,
     "start_time": "2023-07-18T07:42:29.090455",
     "status": "completed"
    },
    "tags": []
   },
   "source": [
    "#### A subset of the DataFrame 'df' is created"
   ]
  },
  {
   "cell_type": "code",
   "execution_count": 29,
   "id": "a78dc41f",
   "metadata": {
    "id": "643CMQDCmWe3",
    "outputId": "51c2f302-2ca7-4a88-8d97-dbf047bfabc6",
    "papermill": {
     "duration": 0.094911,
     "end_time": "2023-07-18T07:42:29.329033",
     "exception": false,
     "start_time": "2023-07-18T07:42:29.234122",
     "status": "completed"
    },
    "tags": []
   },
   "outputs": [
    {
     "data": {
      "text/html": [
       "<div>\n",
       "<style scoped>\n",
       "    .dataframe tbody tr th:only-of-type {\n",
       "        vertical-align: middle;\n",
       "    }\n",
       "\n",
       "    .dataframe tbody tr th {\n",
       "        vertical-align: top;\n",
       "    }\n",
       "\n",
       "    .dataframe thead th {\n",
       "        text-align: right;\n",
       "    }\n",
       "</style>\n",
       "<table border=\"1\" class=\"dataframe\">\n",
       "  <thead>\n",
       "    <tr style=\"text-align: right;\">\n",
       "      <th></th>\n",
       "      <th>text</th>\n",
       "      <th>label</th>\n",
       "      <th>text1</th>\n",
       "      <th>text2</th>\n",
       "      <th>text3</th>\n",
       "      <th>text_length</th>\n",
       "    </tr>\n",
       "  </thead>\n",
       "  <tbody>\n",
       "    <tr>\n",
       "      <th>654</th>\n",
       "      <td>sleep</td>\n",
       "      <td>0</td>\n",
       "      <td>sleep</td>\n",
       "      <td>sleep</td>\n",
       "      <td>sleep</td>\n",
       "      <td>1</td>\n",
       "    </tr>\n",
       "    <tr>\n",
       "      <th>1811</th>\n",
       "      <td>karent</td>\n",
       "      <td>0</td>\n",
       "      <td>karent</td>\n",
       "      <td>karent</td>\n",
       "      <td>karent</td>\n",
       "      <td>1</td>\n",
       "    </tr>\n",
       "    <tr>\n",
       "      <th>2781</th>\n",
       "      <td>male</td>\n",
       "      <td>0</td>\n",
       "      <td>male</td>\n",
       "      <td>male</td>\n",
       "      <td>male</td>\n",
       "      <td>1</td>\n",
       "    </tr>\n",
       "    <tr>\n",
       "      <th>3354</th>\n",
       "      <td>cthgisnialpnidenodnabamocefilretfalarutcetihcrasptth</td>\n",
       "      <td>1</td>\n",
       "      <td>cthgisnialpnidenodnabamocefilretfalarutcetihcrasptth</td>\n",
       "      <td>cthgisnialpnidenodnabamocefilretfalarutcetihcrasptth</td>\n",
       "      <td>cthgisnialpnidenodnabamocefilretfalarutcetihcrasptth</td>\n",
       "      <td>1</td>\n",
       "    </tr>\n",
       "    <tr>\n",
       "      <th>3626</th>\n",
       "      <td>enoughhttpimgurcomhqermql</td>\n",
       "      <td>1</td>\n",
       "      <td>enoughhttpimgurcomhqermql</td>\n",
       "      <td>enoughhttpimgurcomhqermql</td>\n",
       "      <td>enoughhttpimgurcomhqermql</td>\n",
       "      <td>1</td>\n",
       "    </tr>\n",
       "    <tr>\n",
       "      <th>4094</th>\n",
       "      <td>whiskeyhotelyankeemikeechowhiskeyhotelyankeemikeechowhiskeyhotelyankeemikeechowhiskeyhotelyankeemikeechowhiskeyhotelyankeemikeechowhiskeyhotelyankeemikeechowhiskeyhotelyankeemikeechowhiskeyhotelya...</td>\n",
       "      <td>1</td>\n",
       "      <td>whiskeyhotelyankeemikeechowhiskeyhotelyankeemikeechowhiskeyhotelyankeemikeechowhiskeyhotelyankeemikeechowhiskeyhotelyankeemikeechowhiskeyhotelyankeemikeechowhiskeyhotelyankeemikeechowhiskeyhotelya...</td>\n",
       "      <td>whiskeyhotelyankeemikeechowhiskeyhotelyankeemikeechowhiskeyhotelyankeemikeechowhiskeyhotelyankeemikeechowhiskeyhotelyankeemikeechowhiskeyhotelyankeemikeechowhiskeyhotelyankeemikeechowhiskeyhotelya...</td>\n",
       "      <td>whiskeyhotelyankeemikeechowhiskeyhotelyankeemikeechowhiskeyhotelyankeemikeechowhiskeyhotelyankeemikeechowhiskeyhotelyankeemikeechowhiskeyhotelyankeemikeechowhiskeyhotelyankeemikeechowhiskeyhotelya...</td>\n",
       "      <td>1</td>\n",
       "    </tr>\n",
       "    <tr>\n",
       "      <th>4578</th>\n",
       "      <td>name</td>\n",
       "      <td>1</td>\n",
       "      <td>name</td>\n",
       "      <td>name</td>\n",
       "      <td>name</td>\n",
       "      <td>1</td>\n",
       "    </tr>\n",
       "    <tr>\n",
       "      <th>4743</th>\n",
       "      <td>hello</td>\n",
       "      <td>1</td>\n",
       "      <td>hello</td>\n",
       "      <td>hello</td>\n",
       "      <td>hello</td>\n",
       "      <td>1</td>\n",
       "    </tr>\n",
       "    <tr>\n",
       "      <th>4837</th>\n",
       "      <td>something</td>\n",
       "      <td>0</td>\n",
       "      <td>something</td>\n",
       "      <td>something</td>\n",
       "      <td>something</td>\n",
       "      <td>1</td>\n",
       "    </tr>\n",
       "    <tr>\n",
       "      <th>6579</th>\n",
       "      <td></td>\n",
       "      <td>0</td>\n",
       "      <td></td>\n",
       "      <td></td>\n",
       "      <td></td>\n",
       "      <td>0</td>\n",
       "    </tr>\n",
       "    <tr>\n",
       "      <th>8616</th>\n",
       "      <td>this hopeless</td>\n",
       "      <td>1</td>\n",
       "      <td>this hopeless</td>\n",
       "      <td>hopeless</td>\n",
       "      <td>hopeless</td>\n",
       "      <td>1</td>\n",
       "    </tr>\n",
       "    <tr>\n",
       "      <th>8746</th>\n",
       "      <td>medicationmarijuana</td>\n",
       "      <td>1</td>\n",
       "      <td>medicationmarijuana</td>\n",
       "      <td>medicationmarijuana</td>\n",
       "      <td>medicationmarijuana</td>\n",
       "      <td>1</td>\n",
       "    </tr>\n",
       "    <tr>\n",
       "      <th>8971</th>\n",
       "      <td>hopehttpsyoutubecyhejlya</td>\n",
       "      <td>1</td>\n",
       "      <td>hopehttpsyoutubecyhejlya</td>\n",
       "      <td>hopehttpsyoutubecyhejlya</td>\n",
       "      <td>hopehttpsyoutubecyhejlya</td>\n",
       "      <td>1</td>\n",
       "    </tr>\n",
       "    <tr>\n",
       "      <th>10556</th>\n",
       "      <td>tetetethrsrhthtfhtfht</td>\n",
       "      <td>1</td>\n",
       "      <td>tetetethrsrhthtfhtfht</td>\n",
       "      <td>tetetethrsrhthtfhtfht</td>\n",
       "      <td>tetetethrsrhthtfhtfht</td>\n",
       "      <td>1</td>\n",
       "    </tr>\n",
       "    <tr>\n",
       "      <th>10560</th>\n",
       "      <td>moment</td>\n",
       "      <td>0</td>\n",
       "      <td>moment</td>\n",
       "      <td>moment</td>\n",
       "      <td>moment</td>\n",
       "      <td>1</td>\n",
       "    </tr>\n",
       "    <tr>\n",
       "      <th>10696</th>\n",
       "      <td>heyhi</td>\n",
       "      <td>1</td>\n",
       "      <td>heyhi</td>\n",
       "      <td>heyhi</td>\n",
       "      <td>heyhi</td>\n",
       "      <td>1</td>\n",
       "    </tr>\n",
       "    <tr>\n",
       "      <th>11755</th>\n",
       "      <td>enemies</td>\n",
       "      <td>0</td>\n",
       "      <td>enemies</td>\n",
       "      <td>enemies</td>\n",
       "      <td>enemy</td>\n",
       "      <td>1</td>\n",
       "    </tr>\n",
       "    <tr>\n",
       "      <th>11920</th>\n",
       "      <td>sorry</td>\n",
       "      <td>1</td>\n",
       "      <td>sorry</td>\n",
       "      <td>sorry</td>\n",
       "      <td>sorry</td>\n",
       "      <td>1</td>\n",
       "    </tr>\n",
       "    <tr>\n",
       "      <th>12794</th>\n",
       "      <td>what life</td>\n",
       "      <td>1</td>\n",
       "      <td>what life</td>\n",
       "      <td>life</td>\n",
       "      <td>life</td>\n",
       "      <td>1</td>\n",
       "    </tr>\n",
       "    <tr>\n",
       "      <th>13183</th>\n",
       "      <td></td>\n",
       "      <td>1</td>\n",
       "      <td></td>\n",
       "      <td></td>\n",
       "      <td></td>\n",
       "      <td>0</td>\n",
       "    </tr>\n",
       "    <tr>\n",
       "      <th>13268</th>\n",
       "      <td>im</td>\n",
       "      <td>0</td>\n",
       "      <td>im</td>\n",
       "      <td>im</td>\n",
       "      <td>im</td>\n",
       "      <td>1</td>\n",
       "    </tr>\n",
       "    <tr>\n",
       "      <th>15583</th>\n",
       "      <td>fap i</td>\n",
       "      <td>0</td>\n",
       "      <td>fap i</td>\n",
       "      <td>fap</td>\n",
       "      <td>fap</td>\n",
       "      <td>1</td>\n",
       "    </tr>\n",
       "    <tr>\n",
       "      <th>17841</th>\n",
       "      <td>i nothing</td>\n",
       "      <td>1</td>\n",
       "      <td>i nothing</td>\n",
       "      <td>nothing</td>\n",
       "      <td>nothing</td>\n",
       "      <td>1</td>\n",
       "    </tr>\n",
       "    <tr>\n",
       "      <th>18242</th>\n",
       "      <td>godammit</td>\n",
       "      <td>0</td>\n",
       "      <td>godammit</td>\n",
       "      <td>godammit</td>\n",
       "      <td>godammit</td>\n",
       "      <td>1</td>\n",
       "    </tr>\n",
       "    <tr>\n",
       "      <th>21309</th>\n",
       "      <td>deleted</td>\n",
       "      <td>0</td>\n",
       "      <td>deleted</td>\n",
       "      <td>deleted</td>\n",
       "      <td>deleted</td>\n",
       "      <td>1</td>\n",
       "    </tr>\n",
       "    <tr>\n",
       "      <th>21535</th>\n",
       "      <td>vsauce</td>\n",
       "      <td>0</td>\n",
       "      <td>vsauce</td>\n",
       "      <td>vsauce</td>\n",
       "      <td>vsauce</td>\n",
       "      <td>1</td>\n",
       "    </tr>\n",
       "    <tr>\n",
       "      <th>22078</th>\n",
       "      <td>i tried</td>\n",
       "      <td>1</td>\n",
       "      <td>i tried</td>\n",
       "      <td>tried</td>\n",
       "      <td>tried</td>\n",
       "      <td>1</td>\n",
       "    </tr>\n",
       "    <tr>\n",
       "      <th>22095</th>\n",
       "      <td>yes</td>\n",
       "      <td>0</td>\n",
       "      <td>yes</td>\n",
       "      <td>yes</td>\n",
       "      <td>yes</td>\n",
       "      <td>1</td>\n",
       "    </tr>\n",
       "    <tr>\n",
       "      <th>25772</th>\n",
       "      <td>feel</td>\n",
       "      <td>0</td>\n",
       "      <td>feel</td>\n",
       "      <td>feel</td>\n",
       "      <td>feel</td>\n",
       "      <td>1</td>\n",
       "    </tr>\n",
       "    <tr>\n",
       "      <th>25843</th>\n",
       "      <td>cout</td>\n",
       "      <td>0</td>\n",
       "      <td>cout</td>\n",
       "      <td>cout</td>\n",
       "      <td>cout</td>\n",
       "      <td>1</td>\n",
       "    </tr>\n",
       "  </tbody>\n",
       "</table>\n",
       "</div>"
      ],
      "text/plain": [
       "                                                                                                                                                                                                          text  \\\n",
       "654                                                                                                                                                                                                      sleep   \n",
       "1811                                                                                                                                                                                                  karent     \n",
       "2781                                                                                                                                                                                                   male      \n",
       "3354                                                                                                                                                      cthgisnialpnidenodnabamocefilretfalarutcetihcrasptth   \n",
       "3626                                                                                                                                                                                 enoughhttpimgurcomhqermql   \n",
       "4094   whiskeyhotelyankeemikeechowhiskeyhotelyankeemikeechowhiskeyhotelyankeemikeechowhiskeyhotelyankeemikeechowhiskeyhotelyankeemikeechowhiskeyhotelyankeemikeechowhiskeyhotelyankeemikeechowhiskeyhotelya...   \n",
       "4578                                                                                                                                                                                                      name   \n",
       "4743                                                                                                                                                                                                     hello   \n",
       "4837                                                                                                                                                                                                 something   \n",
       "6579                                                                                                                                                                                                             \n",
       "8616                                                                                                                                                                                             this hopeless   \n",
       "8746                                                                                                                                                                                       medicationmarijuana   \n",
       "8971                                                                                                                                                                                  hopehttpsyoutubecyhejlya   \n",
       "10556                                                                                                                                                                                    tetetethrsrhthtfhtfht   \n",
       "10560                                                                                                                                                                                                   moment   \n",
       "10696                                                                                                                                                                                                    heyhi   \n",
       "11755                                                                                                                                                                                                  enemies   \n",
       "11920                                                                                                                                                                                                   sorry    \n",
       "12794                                                                                                                                                                                                what life   \n",
       "13183                                                                                                                                                                                                            \n",
       "13268                                                                                                                                                                                                       im   \n",
       "15583                                                                                                                                                                                                    fap i   \n",
       "17841                                                                                                                                                                                                i nothing   \n",
       "18242                                                                                                                                                                                                 godammit   \n",
       "21309                                                                                                                                                                                                  deleted   \n",
       "21535                                                                                                                                                                                                   vsauce   \n",
       "22078                                                                                                                                                                                                  i tried   \n",
       "22095                                                                                                                                                                                                      yes   \n",
       "25772                                                                                                                                                                                                     feel   \n",
       "25843                                                                                                                                                                                                    cout    \n",
       "\n",
       "       label  \\\n",
       "654        0   \n",
       "1811       0   \n",
       "2781       0   \n",
       "3354       1   \n",
       "3626       1   \n",
       "4094       1   \n",
       "4578       1   \n",
       "4743       1   \n",
       "4837       0   \n",
       "6579       0   \n",
       "8616       1   \n",
       "8746       1   \n",
       "8971       1   \n",
       "10556      1   \n",
       "10560      0   \n",
       "10696      1   \n",
       "11755      0   \n",
       "11920      1   \n",
       "12794      1   \n",
       "13183      1   \n",
       "13268      0   \n",
       "15583      0   \n",
       "17841      1   \n",
       "18242      0   \n",
       "21309      0   \n",
       "21535      0   \n",
       "22078      1   \n",
       "22095      0   \n",
       "25772      0   \n",
       "25843      0   \n",
       "\n",
       "                                                                                                                                                                                                         text1  \\\n",
       "654                                                                                                                                                                                                      sleep   \n",
       "1811                                                                                                                                                                                                    karent   \n",
       "2781                                                                                                                                                                                                      male   \n",
       "3354                                                                                                                                                      cthgisnialpnidenodnabamocefilretfalarutcetihcrasptth   \n",
       "3626                                                                                                                                                                                 enoughhttpimgurcomhqermql   \n",
       "4094   whiskeyhotelyankeemikeechowhiskeyhotelyankeemikeechowhiskeyhotelyankeemikeechowhiskeyhotelyankeemikeechowhiskeyhotelyankeemikeechowhiskeyhotelyankeemikeechowhiskeyhotelyankeemikeechowhiskeyhotelya...   \n",
       "4578                                                                                                                                                                                                      name   \n",
       "4743                                                                                                                                                                                                     hello   \n",
       "4837                                                                                                                                                                                                 something   \n",
       "6579                                                                                                                                                                                                             \n",
       "8616                                                                                                                                                                                             this hopeless   \n",
       "8746                                                                                                                                                                                       medicationmarijuana   \n",
       "8971                                                                                                                                                                                  hopehttpsyoutubecyhejlya   \n",
       "10556                                                                                                                                                                                    tetetethrsrhthtfhtfht   \n",
       "10560                                                                                                                                                                                                   moment   \n",
       "10696                                                                                                                                                                                                    heyhi   \n",
       "11755                                                                                                                                                                                                  enemies   \n",
       "11920                                                                                                                                                                                                    sorry   \n",
       "12794                                                                                                                                                                                                what life   \n",
       "13183                                                                                                                                                                                                            \n",
       "13268                                                                                                                                                                                                       im   \n",
       "15583                                                                                                                                                                                                    fap i   \n",
       "17841                                                                                                                                                                                                i nothing   \n",
       "18242                                                                                                                                                                                                 godammit   \n",
       "21309                                                                                                                                                                                                  deleted   \n",
       "21535                                                                                                                                                                                                   vsauce   \n",
       "22078                                                                                                                                                                                                  i tried   \n",
       "22095                                                                                                                                                                                                      yes   \n",
       "25772                                                                                                                                                                                                     feel   \n",
       "25843                                                                                                                                                                                                     cout   \n",
       "\n",
       "                                                                                                                                                                                                         text2  \\\n",
       "654                                                                                                                                                                                                      sleep   \n",
       "1811                                                                                                                                                                                                    karent   \n",
       "2781                                                                                                                                                                                                      male   \n",
       "3354                                                                                                                                                      cthgisnialpnidenodnabamocefilretfalarutcetihcrasptth   \n",
       "3626                                                                                                                                                                                 enoughhttpimgurcomhqermql   \n",
       "4094   whiskeyhotelyankeemikeechowhiskeyhotelyankeemikeechowhiskeyhotelyankeemikeechowhiskeyhotelyankeemikeechowhiskeyhotelyankeemikeechowhiskeyhotelyankeemikeechowhiskeyhotelyankeemikeechowhiskeyhotelya...   \n",
       "4578                                                                                                                                                                                                      name   \n",
       "4743                                                                                                                                                                                                     hello   \n",
       "4837                                                                                                                                                                                                 something   \n",
       "6579                                                                                                                                                                                                             \n",
       "8616                                                                                                                                                                                                  hopeless   \n",
       "8746                                                                                                                                                                                       medicationmarijuana   \n",
       "8971                                                                                                                                                                                  hopehttpsyoutubecyhejlya   \n",
       "10556                                                                                                                                                                                    tetetethrsrhthtfhtfht   \n",
       "10560                                                                                                                                                                                                   moment   \n",
       "10696                                                                                                                                                                                                    heyhi   \n",
       "11755                                                                                                                                                                                                  enemies   \n",
       "11920                                                                                                                                                                                                    sorry   \n",
       "12794                                                                                                                                                                                                     life   \n",
       "13183                                                                                                                                                                                                            \n",
       "13268                                                                                                                                                                                                       im   \n",
       "15583                                                                                                                                                                                                      fap   \n",
       "17841                                                                                                                                                                                                  nothing   \n",
       "18242                                                                                                                                                                                                 godammit   \n",
       "21309                                                                                                                                                                                                  deleted   \n",
       "21535                                                                                                                                                                                                   vsauce   \n",
       "22078                                                                                                                                                                                                    tried   \n",
       "22095                                                                                                                                                                                                      yes   \n",
       "25772                                                                                                                                                                                                     feel   \n",
       "25843                                                                                                                                                                                                     cout   \n",
       "\n",
       "                                                                                                                                                                                                         text3  \\\n",
       "654                                                                                                                                                                                                      sleep   \n",
       "1811                                                                                                                                                                                                    karent   \n",
       "2781                                                                                                                                                                                                      male   \n",
       "3354                                                                                                                                                      cthgisnialpnidenodnabamocefilretfalarutcetihcrasptth   \n",
       "3626                                                                                                                                                                                 enoughhttpimgurcomhqermql   \n",
       "4094   whiskeyhotelyankeemikeechowhiskeyhotelyankeemikeechowhiskeyhotelyankeemikeechowhiskeyhotelyankeemikeechowhiskeyhotelyankeemikeechowhiskeyhotelyankeemikeechowhiskeyhotelyankeemikeechowhiskeyhotelya...   \n",
       "4578                                                                                                                                                                                                      name   \n",
       "4743                                                                                                                                                                                                     hello   \n",
       "4837                                                                                                                                                                                                 something   \n",
       "6579                                                                                                                                                                                                             \n",
       "8616                                                                                                                                                                                                  hopeless   \n",
       "8746                                                                                                                                                                                       medicationmarijuana   \n",
       "8971                                                                                                                                                                                  hopehttpsyoutubecyhejlya   \n",
       "10556                                                                                                                                                                                    tetetethrsrhthtfhtfht   \n",
       "10560                                                                                                                                                                                                   moment   \n",
       "10696                                                                                                                                                                                                    heyhi   \n",
       "11755                                                                                                                                                                                                    enemy   \n",
       "11920                                                                                                                                                                                                    sorry   \n",
       "12794                                                                                                                                                                                                     life   \n",
       "13183                                                                                                                                                                                                            \n",
       "13268                                                                                                                                                                                                       im   \n",
       "15583                                                                                                                                                                                                      fap   \n",
       "17841                                                                                                                                                                                                  nothing   \n",
       "18242                                                                                                                                                                                                 godammit   \n",
       "21309                                                                                                                                                                                                  deleted   \n",
       "21535                                                                                                                                                                                                   vsauce   \n",
       "22078                                                                                                                                                                                                    tried   \n",
       "22095                                                                                                                                                                                                      yes   \n",
       "25772                                                                                                                                                                                                     feel   \n",
       "25843                                                                                                                                                                                                     cout   \n",
       "\n",
       "       text_length  \n",
       "654              1  \n",
       "1811             1  \n",
       "2781             1  \n",
       "3354             1  \n",
       "3626             1  \n",
       "4094             1  \n",
       "4578             1  \n",
       "4743             1  \n",
       "4837             1  \n",
       "6579             0  \n",
       "8616             1  \n",
       "8746             1  \n",
       "8971             1  \n",
       "10556            1  \n",
       "10560            1  \n",
       "10696            1  \n",
       "11755            1  \n",
       "11920            1  \n",
       "12794            1  \n",
       "13183            0  \n",
       "13268            1  \n",
       "15583            1  \n",
       "17841            1  \n",
       "18242            1  \n",
       "21309            1  \n",
       "21535            1  \n",
       "22078            1  \n",
       "22095            1  \n",
       "25772            1  \n",
       "25843            1  "
      ]
     },
     "execution_count": 29,
     "metadata": {},
     "output_type": "execute_result"
    }
   ],
   "source": [
    "data_head=df[df['text_length']<2] # rows where the text length is less than 2\n",
    "data_head.head(30)"
   ]
  },
  {
   "cell_type": "code",
   "execution_count": 30,
   "id": "9fe848e6",
   "metadata": {
    "id": "i8RXmNemtio0",
    "outputId": "3bf4eb24-9994-4e7c-c6dc-63b99597f09c",
    "papermill": {
     "duration": 0.08609,
     "end_time": "2023-07-18T07:42:29.487649",
     "exception": false,
     "start_time": "2023-07-18T07:42:29.401559",
     "status": "completed"
    },
    "tags": []
   },
   "outputs": [
    {
     "data": {
      "text/plain": [
       "27972"
      ]
     },
     "execution_count": 30,
     "metadata": {},
     "output_type": "execute_result"
    }
   ],
   "source": [
    "len(df)"
   ]
  },
  {
   "cell_type": "code",
   "execution_count": 31,
   "id": "6cc3844b",
   "metadata": {
    "id": "l2cz79ZlmWe4",
    "papermill": {
     "duration": 0.09391,
     "end_time": "2023-07-18T07:42:29.806755",
     "exception": false,
     "start_time": "2023-07-18T07:42:29.712845",
     "status": "completed"
    },
    "tags": []
   },
   "outputs": [],
   "source": [
    "df = df[df['text_length'] >= 3]"
   ]
  },
  {
   "cell_type": "code",
   "execution_count": 32,
   "id": "b9439d5f",
   "metadata": {
    "id": "CL6dnbMFtsA-",
    "outputId": "a2bd776a-8093-406f-db2f-66b271f7bdf6",
    "papermill": {
     "duration": 0.084144,
     "end_time": "2023-07-18T07:42:29.963296",
     "exception": false,
     "start_time": "2023-07-18T07:42:29.879152",
     "status": "completed"
    },
    "tags": []
   },
   "outputs": [
    {
     "data": {
      "text/plain": [
       "27872"
      ]
     },
     "execution_count": 32,
     "metadata": {},
     "output_type": "execute_result"
    }
   ],
   "source": [
    "len(df)"
   ]
  },
  {
   "cell_type": "markdown",
   "id": "b048b600",
   "metadata": {
    "id": "PW-hopxZF1iY",
    "papermill": {
     "duration": 0.072774,
     "end_time": "2023-07-18T07:42:30.109097",
     "exception": false,
     "start_time": "2023-07-18T07:42:30.036323",
     "status": "completed"
    },
    "tags": []
   },
   "source": [
    "**Drop the columns and shuffle**"
   ]
  },
  {
   "cell_type": "code",
   "execution_count": 33,
   "id": "361118a9",
   "metadata": {
    "id": "6Gwv95KBmWe5",
    "papermill": {
     "duration": 0.086803,
     "end_time": "2023-07-18T07:42:30.420061",
     "exception": false,
     "start_time": "2023-07-18T07:42:30.333258",
     "status": "completed"
    },
    "tags": []
   },
   "outputs": [],
   "source": [
    "df = df.drop(['text', 'text1', 'text2'], axis=1)"
   ]
  },
  {
   "cell_type": "code",
   "execution_count": 34,
   "id": "6988f82d",
   "metadata": {
    "id": "iUAADk0GmWe5",
    "outputId": "3d0ba634-5166-44d2-c0c1-63f43fa7206b",
    "papermill": {
     "duration": 0.100547,
     "end_time": "2023-07-18T07:42:30.742576",
     "exception": false,
     "start_time": "2023-07-18T07:42:30.642029",
     "status": "completed"
    },
    "tags": []
   },
   "outputs": [
    {
     "data": {
      "text/html": [
       "<div>\n",
       "<style scoped>\n",
       "    .dataframe tbody tr th:only-of-type {\n",
       "        vertical-align: middle;\n",
       "    }\n",
       "\n",
       "    .dataframe tbody tr th {\n",
       "        vertical-align: top;\n",
       "    }\n",
       "\n",
       "    .dataframe thead th {\n",
       "        text-align: right;\n",
       "    }\n",
       "</style>\n",
       "<table border=\"1\" class=\"dataframe\">\n",
       "  <thead>\n",
       "    <tr style=\"text-align: right;\">\n",
       "      <th></th>\n",
       "      <th>label</th>\n",
       "      <th>text3</th>\n",
       "      <th>text_length</th>\n",
       "    </tr>\n",
       "  </thead>\n",
       "  <tbody>\n",
       "    <tr>\n",
       "      <th>10110</th>\n",
       "      <td>0</td>\n",
       "      <td>video picture death video photo always death youll eventually die youll already taken video solved clickbait video video taken death thank later</td>\n",
       "      <td>22</td>\n",
       "    </tr>\n",
       "    <tr>\n",
       "      <th>16118</th>\n",
       "      <td>0</td>\n",
       "      <td>help help commenting post want orange mail pls</td>\n",
       "      <td>8</td>\n",
       "    </tr>\n",
       "    <tr>\n",
       "      <th>4336</th>\n",
       "      <td>1</td>\n",
       "      <td>anyone talk toi need someone talk situation</td>\n",
       "      <td>7</td>\n",
       "    </tr>\n",
       "    <tr>\n",
       "      <th>7496</th>\n",
       "      <td>1</td>\n",
       "      <td>tonightno shitty life bad circumstance no im lazy incompetent unsuccessful nothing happened beyond normal im done living want anymore ive downward spiral since im now shit together im well way ish...</td>\n",
       "      <td>147</td>\n",
       "    </tr>\n",
       "    <tr>\n",
       "      <th>7954</th>\n",
       "      <td>1</td>\n",
       "      <td>anyone feel like life force throati feel like everything life force upon im forced act way way im forced go school im forced work job passion im forced smile im forced cry im forced get married ki...</td>\n",
       "      <td>84</td>\n",
       "    </tr>\n",
       "    <tr>\n",
       "      <th>25377</th>\n",
       "      <td>0</td>\n",
       "      <td>anyone else absolutely hate situation mean getting scolded parent remaining calm trying explain everything time finally getting annoyed situation exact second turn theyre calm nowhere trying act l...</td>\n",
       "      <td>40</td>\n",
       "    </tr>\n",
       "    <tr>\n",
       "      <th>17739</th>\n",
       "      <td>0</td>\n",
       "      <td>anyone want silver idk whoever comment first ig</td>\n",
       "      <td>8</td>\n",
       "    </tr>\n",
       "    <tr>\n",
       "      <th>1762</th>\n",
       "      <td>1</td>\n",
       "      <td>destined failure tragedy mom dy im year old im beside dy pneumonia breast cancer chemo fail law school year debt age got pregnant gave birth month daughter dy hour alive cousin age gave birth heal...</td>\n",
       "      <td>132</td>\n",
       "    </tr>\n",
       "    <tr>\n",
       "      <th>21839</th>\n",
       "      <td>0</td>\n",
       "      <td>karma hit today cake make</td>\n",
       "      <td>5</td>\n",
       "    </tr>\n",
       "    <tr>\n",
       "      <th>26355</th>\n",
       "      <td>1</td>\n",
       "      <td>last year sold beautiful condominium foolish use mind time cat got sick one passed away one week later due move new vet killed got sick needed help given taken mental hospital police vet told poli...</td>\n",
       "      <td>69</td>\n",
       "    </tr>\n",
       "    <tr>\n",
       "      <th>12034</th>\n",
       "      <td>1</td>\n",
       "      <td>suicidal feel life worthlesshey reddit thought id clarify thing bat im suicidal though contemplated concept action several time ive never cut severely depressed least think exactly plea help advic...</td>\n",
       "      <td>238</td>\n",
       "    </tr>\n",
       "    <tr>\n",
       "      <th>3933</th>\n",
       "      <td>1</td>\n",
       "      <td>take med harm others harm deep feel like nasty person narcissist compassionmonday tried hang bear situation anymore wanted easy way avoid harming people also avoid harmed peoplewhen got chair hang...</td>\n",
       "      <td>86</td>\n",
       "    </tr>\n",
       "    <tr>\n",
       "      <th>14574</th>\n",
       "      <td>1</td>\n",
       "      <td>scocity revoled around deathwhy redflag much problem today past</td>\n",
       "      <td>9</td>\n",
       "    </tr>\n",
       "    <tr>\n",
       "      <th>6021</th>\n",
       "      <td>0</td>\n",
       "      <td>accept fact literally funny secy struggle cant</td>\n",
       "      <td>7</td>\n",
       "    </tr>\n",
       "    <tr>\n",
       "      <th>20925</th>\n",
       "      <td>1</td>\n",
       "      <td>little brother wasnt born kill myselfbut need wait fucking year adult</td>\n",
       "      <td>11</td>\n",
       "    </tr>\n",
       "    <tr>\n",
       "      <th>314</th>\n",
       "      <td>0</td>\n",
       "      <td>talk favorite theory</td>\n",
       "      <td>3</td>\n",
       "    </tr>\n",
       "    <tr>\n",
       "      <th>17378</th>\n",
       "      <td>1</td>\n",
       "      <td>im fucking lonely driving insanei cant anything anymore without period completely space start cry cant find soul want around life matter okay happy normal act</td>\n",
       "      <td>25</td>\n",
       "    </tr>\n",
       "    <tr>\n",
       "      <th>15376</th>\n",
       "      <td>0</td>\n",
       "      <td>im mad sad dont know friend moved since kicked told stay till enough money move hasnt even full week since lived brought gf sleep queen bed ready go bed room sitting outside currently havent slept...</td>\n",
       "      <td>41</td>\n",
       "    </tr>\n",
       "    <tr>\n",
       "      <th>5554</th>\n",
       "      <td>1</td>\n",
       "      <td>worry much life worry always hating can not keep people want think want matter many time time person tell worry care can not listen like parent mentioned price therapy care pain l cared burden exi...</td>\n",
       "      <td>39</td>\n",
       "    </tr>\n",
       "    <tr>\n",
       "      <th>11866</th>\n",
       "      <td>0</td>\n",
       "      <td>sister teaching dad tiktok dance guy help edit step mom help getting hand</td>\n",
       "      <td>13</td>\n",
       "    </tr>\n",
       "    <tr>\n",
       "      <th>24358</th>\n",
       "      <td>0</td>\n",
       "      <td>start first job tomorrow work subway coworker probably definitely user reddit put hand together called woman culture met atla shirt im excited cool coworker amd cool bos good paying job excited ho...</td>\n",
       "      <td>53</td>\n",
       "    </tr>\n",
       "    <tr>\n",
       "      <th>26465</th>\n",
       "      <td>0</td>\n",
       "      <td>many american peabrains worship support political halftruths huckster like michael moore well sit movie see hypnotic manipulator scare intimidate lie underinformed public get people fear loathe ki...</td>\n",
       "      <td>95</td>\n",
       "    </tr>\n",
       "    <tr>\n",
       "      <th>13681</th>\n",
       "      <td>1</td>\n",
       "      <td>painless poisonsdrugs redflagi need know quickly please let know</td>\n",
       "      <td>9</td>\n",
       "    </tr>\n",
       "    <tr>\n",
       "      <th>17242</th>\n",
       "      <td>0</td>\n",
       "      <td>im tired seeing chadwick boseman post every second ok sad guy stop flooding page please mourn peace</td>\n",
       "      <td>17</td>\n",
       "    </tr>\n",
       "    <tr>\n",
       "      <th>8707</th>\n",
       "      <td>1</td>\n",
       "      <td>push offwatch drown slave moon waiting drown</td>\n",
       "      <td>7</td>\n",
       "    </tr>\n",
       "    <tr>\n",
       "      <th>10649</th>\n",
       "      <td>0</td>\n",
       "      <td>ok remember july th tik tok supposed banned august th tik tok supposed banned apparently tik tok banned sunday mean spying facebook banned well</td>\n",
       "      <td>24</td>\n",
       "    </tr>\n",
       "    <tr>\n",
       "      <th>10951</th>\n",
       "      <td>1</td>\n",
       "      <td>one question im suicidal feel insulted everytime someone dropping line like hey let talk get better promise come people get people like done talking thing got worse year curious reading line bring...</td>\n",
       "      <td>36</td>\n",
       "    </tr>\n",
       "    <tr>\n",
       "      <th>11810</th>\n",
       "      <td>1</td>\n",
       "      <td>wake fall asleep fall asleep wake uphelp answer</td>\n",
       "      <td>8</td>\n",
       "    </tr>\n",
       "    <tr>\n",
       "      <th>4161</th>\n",
       "      <td>1</td>\n",
       "      <td>venting also storybeen feeling like since felt useless bullied people take anger funny god im fuckup worst decision life ever bully someone come back bite turned friend lost everyone found trans c...</td>\n",
       "      <td>52</td>\n",
       "    </tr>\n",
       "    <tr>\n",
       "      <th>18247</th>\n",
       "      <td>1</td>\n",
       "      <td>happeninghi first greeting every human im going die tonight im couple minute away local train station im going walk track im halfway station im going kneel track see next train coming im posting s...</td>\n",
       "      <td>72</td>\n",
       "    </tr>\n",
       "  </tbody>\n",
       "</table>\n",
       "</div>"
      ],
      "text/plain": [
       "       label  \\\n",
       "10110      0   \n",
       "16118      0   \n",
       "4336       1   \n",
       "7496       1   \n",
       "7954       1   \n",
       "25377      0   \n",
       "17739      0   \n",
       "1762       1   \n",
       "21839      0   \n",
       "26355      1   \n",
       "12034      1   \n",
       "3933       1   \n",
       "14574      1   \n",
       "6021       0   \n",
       "20925      1   \n",
       "314        0   \n",
       "17378      1   \n",
       "15376      0   \n",
       "5554       1   \n",
       "11866      0   \n",
       "24358      0   \n",
       "26465      0   \n",
       "13681      1   \n",
       "17242      0   \n",
       "8707       1   \n",
       "10649      0   \n",
       "10951      1   \n",
       "11810      1   \n",
       "4161       1   \n",
       "18247      1   \n",
       "\n",
       "                                                                                                                                                                                                         text3  \\\n",
       "10110                                                         video picture death video photo always death youll eventually die youll already taken video solved clickbait video video taken death thank later   \n",
       "16118                                                                                                                                                           help help commenting post want orange mail pls   \n",
       "4336                                                                                                                                                               anyone talk toi need someone talk situation   \n",
       "7496   tonightno shitty life bad circumstance no im lazy incompetent unsuccessful nothing happened beyond normal im done living want anymore ive downward spiral since im now shit together im well way ish...   \n",
       "7954   anyone feel like life force throati feel like everything life force upon im forced act way way im forced go school im forced work job passion im forced smile im forced cry im forced get married ki...   \n",
       "25377  anyone else absolutely hate situation mean getting scolded parent remaining calm trying explain everything time finally getting annoyed situation exact second turn theyre calm nowhere trying act l...   \n",
       "17739                                                                                                                                                          anyone want silver idk whoever comment first ig   \n",
       "1762   destined failure tragedy mom dy im year old im beside dy pneumonia breast cancer chemo fail law school year debt age got pregnant gave birth month daughter dy hour alive cousin age gave birth heal...   \n",
       "21839                                                                                                                                                                                karma hit today cake make   \n",
       "26355  last year sold beautiful condominium foolish use mind time cat got sick one passed away one week later due move new vet killed got sick needed help given taken mental hospital police vet told poli...   \n",
       "12034  suicidal feel life worthlesshey reddit thought id clarify thing bat im suicidal though contemplated concept action several time ive never cut severely depressed least think exactly plea help advic...   \n",
       "3933   take med harm others harm deep feel like nasty person narcissist compassionmonday tried hang bear situation anymore wanted easy way avoid harming people also avoid harmed peoplewhen got chair hang...   \n",
       "14574                                                                                                                                          scocity revoled around deathwhy redflag much problem today past   \n",
       "6021                                                                                                                                                            accept fact literally funny secy struggle cant   \n",
       "20925                                                                                                                                    little brother wasnt born kill myselfbut need wait fucking year adult   \n",
       "314                                                                                                                                                                                       talk favorite theory   \n",
       "17378                                           im fucking lonely driving insanei cant anything anymore without period completely space start cry cant find soul want around life matter okay happy normal act   \n",
       "15376  im mad sad dont know friend moved since kicked told stay till enough money move hasnt even full week since lived brought gf sleep queen bed ready go bed room sitting outside currently havent slept...   \n",
       "5554   worry much life worry always hating can not keep people want think want matter many time time person tell worry care can not listen like parent mentioned price therapy care pain l cared burden exi...   \n",
       "11866                                                                                                                                sister teaching dad tiktok dance guy help edit step mom help getting hand   \n",
       "24358  start first job tomorrow work subway coworker probably definitely user reddit put hand together called woman culture met atla shirt im excited cool coworker amd cool bos good paying job excited ho...   \n",
       "26465  many american peabrains worship support political halftruths huckster like michael moore well sit movie see hypnotic manipulator scare intimidate lie underinformed public get people fear loathe ki...   \n",
       "13681                                                                                                                                         painless poisonsdrugs redflagi need know quickly please let know   \n",
       "17242                                                                                                      im tired seeing chadwick boseman post every second ok sad guy stop flooding page please mourn peace   \n",
       "8707                                                                                                                                                              push offwatch drown slave moon waiting drown   \n",
       "10649                                                          ok remember july th tik tok supposed banned august th tik tok supposed banned apparently tik tok banned sunday mean spying facebook banned well   \n",
       "10951  one question im suicidal feel insulted everytime someone dropping line like hey let talk get better promise come people get people like done talking thing got worse year curious reading line bring...   \n",
       "11810                                                                                                                                                          wake fall asleep fall asleep wake uphelp answer   \n",
       "4161   venting also storybeen feeling like since felt useless bullied people take anger funny god im fuckup worst decision life ever bully someone come back bite turned friend lost everyone found trans c...   \n",
       "18247  happeninghi first greeting every human im going die tonight im couple minute away local train station im going walk track im halfway station im going kneel track see next train coming im posting s...   \n",
       "\n",
       "       text_length  \n",
       "10110           22  \n",
       "16118            8  \n",
       "4336             7  \n",
       "7496           147  \n",
       "7954            84  \n",
       "25377           40  \n",
       "17739            8  \n",
       "1762           132  \n",
       "21839            5  \n",
       "26355           69  \n",
       "12034          238  \n",
       "3933            86  \n",
       "14574            9  \n",
       "6021             7  \n",
       "20925           11  \n",
       "314              3  \n",
       "17378           25  \n",
       "15376           41  \n",
       "5554            39  \n",
       "11866           13  \n",
       "24358           53  \n",
       "26465           95  \n",
       "13681            9  \n",
       "17242           17  \n",
       "8707             7  \n",
       "10649           24  \n",
       "10951           36  \n",
       "11810            8  \n",
       "4161            52  \n",
       "18247           72  "
      ]
     },
     "execution_count": 34,
     "metadata": {},
     "output_type": "execute_result"
    }
   ],
   "source": [
    "# Shuffle training dataframe\n",
    "df = df.sample(frac=1, random_state=42) # shuffle with random_state=42 for reproducibility\n",
    "df.head(30)"
   ]
  },
  {
   "cell_type": "code",
   "execution_count": 35,
   "id": "5f1506b8",
   "metadata": {
    "id": "6ZaDdLPcmWe5",
    "outputId": "5409eda7-a2c2-45e6-e273-4250f3f5b8c2",
    "papermill": {
     "duration": 0.093051,
     "end_time": "2023-07-18T07:42:30.913072",
     "exception": false,
     "start_time": "2023-07-18T07:42:30.820021",
     "status": "completed"
    },
    "tags": []
   },
   "outputs": [
    {
     "data": {
      "text/plain": [
       "label\n",
       "0    14074\n",
       "1    13798\n",
       "Name: count, dtype: int64"
      ]
     },
     "execution_count": 35,
     "metadata": {},
     "output_type": "execute_result"
    }
   ],
   "source": [
    "df.label.value_counts()"
   ]
  },
  {
   "cell_type": "code",
   "execution_count": 36,
   "id": "53090aa6",
   "metadata": {
    "id": "6t2_6nnOBVAW",
    "outputId": "72a36933-3b66-4261-93e0-368ed1dc503a",
    "papermill": {
     "duration": 0.093395,
     "end_time": "2023-07-18T07:42:31.234993",
     "exception": false,
     "start_time": "2023-07-18T07:42:31.141598",
     "status": "completed"
    },
    "tags": []
   },
   "outputs": [
    {
     "data": {
      "text/html": [
       "<div>\n",
       "<style scoped>\n",
       "    .dataframe tbody tr th:only-of-type {\n",
       "        vertical-align: middle;\n",
       "    }\n",
       "\n",
       "    .dataframe tbody tr th {\n",
       "        vertical-align: top;\n",
       "    }\n",
       "\n",
       "    .dataframe thead th {\n",
       "        text-align: right;\n",
       "    }\n",
       "</style>\n",
       "<table border=\"1\" class=\"dataframe\">\n",
       "  <thead>\n",
       "    <tr style=\"text-align: right;\">\n",
       "      <th></th>\n",
       "      <th>Label</th>\n",
       "      <th>Label Encoded</th>\n",
       "    </tr>\n",
       "  </thead>\n",
       "  <tbody>\n",
       "    <tr>\n",
       "      <th>0</th>\n",
       "      <td>Non-mental-health</td>\n",
       "      <td>0</td>\n",
       "    </tr>\n",
       "    <tr>\n",
       "      <th>1</th>\n",
       "      <td>Mental-health</td>\n",
       "      <td>1</td>\n",
       "    </tr>\n",
       "  </tbody>\n",
       "</table>\n",
       "</div>"
      ],
      "text/plain": [
       "               Label  Label Encoded\n",
       "0  Non-mental-health              0\n",
       "1      Mental-health              1"
      ]
     },
     "execution_count": 36,
     "metadata": {},
     "output_type": "execute_result"
    }
   ],
   "source": [
    "# Define data\n",
    "data = {\n",
    "    'Label': [\"Non-mental-health\", \"Mental-health\"],\n",
    "    'Label Encoded': [0,1]\n",
    "}\n",
    "\n",
    "# Create DataFrame\n",
    "dr = pd.DataFrame(data)\n",
    "\n",
    "# Print DataFrame\n",
    "dr"
   ]
  },
  {
   "cell_type": "code",
   "execution_count": 37,
   "id": "a94d89d5",
   "metadata": {
    "id": "kkdkZ7LUsGjd",
    "outputId": "f41d360c-6405-451f-be0f-f4076907aef7",
    "papermill": {
     "duration": 0.095763,
     "end_time": "2023-07-18T07:42:31.560308",
     "exception": false,
     "start_time": "2023-07-18T07:42:31.464545",
     "status": "completed"
    },
    "tags": []
   },
   "outputs": [
    {
     "data": {
      "text/plain": [
       "['Non-mental-health', 'Mental-health']"
      ]
     },
     "execution_count": 37,
     "metadata": {},
     "output_type": "execute_result"
    }
   ],
   "source": [
    "class_names=dr.Label.to_list()\n",
    "class_names"
   ]
  },
  {
   "cell_type": "markdown",
   "id": "cac090a1",
   "metadata": {
    "id": "58bKd_w7uqC0",
    "papermill": {
     "duration": 0.07292,
     "end_time": "2023-07-18T07:42:31.709009",
     "exception": false,
     "start_time": "2023-07-18T07:42:31.636089",
     "status": "completed"
    },
    "tags": []
   },
   "source": [
    "## **Define Features, X & Labels, y**"
   ]
  },
  {
   "cell_type": "code",
   "execution_count": 38,
   "id": "0c859ba2",
   "metadata": {
    "id": "KLI1qgmnmWe9",
    "papermill": {
     "duration": 0.080851,
     "end_time": "2023-07-18T07:42:31.862785",
     "exception": false,
     "start_time": "2023-07-18T07:42:31.781934",
     "status": "completed"
    },
    "tags": []
   },
   "outputs": [],
   "source": [
    "X = df['text3'].to_numpy()\n",
    "y = df['label'].to_numpy()"
   ]
  },
  {
   "cell_type": "markdown",
   "id": "6a38aec9",
   "metadata": {
    "id": "TXKIacm1u7fu",
    "papermill": {
     "duration": 0.074319,
     "end_time": "2023-07-18T07:42:32.010304",
     "exception": false,
     "start_time": "2023-07-18T07:42:31.935985",
     "status": "completed"
    },
    "tags": []
   },
   "source": [
    "## Split the Data"
   ]
  },
  {
   "cell_type": "code",
   "execution_count": 39,
   "id": "c0167372",
   "metadata": {
    "id": "HvCSnIQHmWe9",
    "papermill": {
     "duration": 0.100893,
     "end_time": "2023-07-18T07:42:32.183396",
     "exception": false,
     "start_time": "2023-07-18T07:42:32.082503",
     "status": "completed"
    },
    "tags": []
   },
   "outputs": [],
   "source": [
    "X_train, X_valid, y_train, y_valid = train_test_split(X, y, test_size=0.2, stratify=y, random_state=42)"
   ]
  },
  {
   "cell_type": "code",
   "execution_count": 40,
   "id": "5fc83a9e",
   "metadata": {
    "id": "RDuXlKf3mWe9",
    "outputId": "18ba32c4-5638-493a-a709-7c9b96256372",
    "papermill": {
     "duration": 0.084951,
     "end_time": "2023-07-18T07:42:32.485686",
     "exception": false,
     "start_time": "2023-07-18T07:42:32.400735",
     "status": "completed"
    },
    "tags": []
   },
   "outputs": [
    {
     "data": {
      "text/plain": [
       "((22297,), (5575,), (22297,), (5575,))"
      ]
     },
     "execution_count": 40,
     "metadata": {},
     "output_type": "execute_result"
    }
   ],
   "source": [
    "X_train.shape, X_valid.shape, y_train.shape, y_valid.shape"
   ]
  },
  {
   "cell_type": "code",
   "execution_count": 41,
   "id": "9330d982",
   "metadata": {
    "id": "a-_wUHyumWe-",
    "outputId": "bea1a343-5d73-45da-d987-77406d690d66",
    "papermill": {
     "duration": 0.08672,
     "end_time": "2023-07-18T07:42:32.649850",
     "exception": false,
     "start_time": "2023-07-18T07:42:32.563130",
     "status": "completed"
    },
    "tags": []
   },
   "outputs": [
    {
     "data": {
      "text/plain": [
       "(22297, 5575, 22297, 5575)"
      ]
     },
     "execution_count": 41,
     "metadata": {},
     "output_type": "execute_result"
    }
   ],
   "source": [
    "# Check the lengths\n",
    "len(X_train), len(X_valid), len(y_train), len(y_valid)"
   ]
  },
  {
   "cell_type": "code",
   "execution_count": 45,
   "id": "b8eb079f",
   "metadata": {
    "id": "qiaaosnJmWe-",
    "outputId": "41748edb-61ab-477e-fa2a-970e7022c0a6",
    "papermill": {
     "duration": 0.082379,
     "end_time": "2023-07-18T07:42:32.807361",
     "exception": false,
     "start_time": "2023-07-18T07:42:32.724982",
     "status": "completed"
    },
    "tags": []
   },
   "outputs": [
    {
     "data": {
      "text/plain": [
       "array(['im scared myselfi live life filled depression go school ignored come home ignored want someone hear im almost done everything im close breaking point able turn back im tired ignored want hear',\n",
       "       'ive felt dead longer ive felt alivei never happy kid painfully vivid memory raped young kid memory head slammed wall floor even distinct memory concussion one time slammed hard ground head ended bouncing hitting metal support bed day im scared men man imy first attempt kill around time failed inexperienced kid second time tried kill around time caught complete mental breakdown mom stay local mental hospital day try get help opened nice lady help rationalize fear hospital feeling broken tool ready thrown away butthats also gave trying thing general stopped trying school beyond minimum effort required pas stopped really associating friend school everything painfully mediocre year around time parent finally let liberty complaining year never hung friend like ever let first place helped one school friend become one best friend able hang outside school talk demon dare share school ground made u feel sense solidarity one another also met girl ex one friend kept trying push u together put like black people like crushed heart bit sort gave pursuing focused friend instead always use somehow ended falling anyways one friend tell went asked birthday party two u standing outside moonlight together sound happy right thought well month passed found cheating another dude blamed entire thing deserve loved ended attempt number three point best friend rely pull back life went blissfully uneventful around time id grown entirely discontent monotony life hated every second planned kill halloween day banking hope people assume im decoration sort really care late instead ended hitting really great girl distracted demon otherwise attempt number four two year later clusterfuck emotion turmoil cant help wonder survived really close family started die godmother loved people died really young cancer ruined thought one role model ended taking life noticeable struggle mental health better part year physical health started take dive deep end ive got crohn day struggle able get bed pain sometimes much struggle even eat know stomach throw entire fit combine constant stream migraine headache ended spending nearly every day excruciating pain people told get help time wanted afford insurance aging mom working minimum wage job ever schedule part time premium always around month got denied reduction assistance forced choose eating place sleep able fix body theni ended getting rape accusation levied mind person claim time allegedly went placeand someone always hated physical contact full trauma one believed aside crazy aunt made remember memory happened memory long tried lock away broke made hateful distrustful already ended affecting performance work oftentimes depressive instead usual fake cheery self physically energy keep act anymore people company conspired get fired worked jobless insuranceless painfilled girl hit halloween decided right got fired want deal depression anymore dumped shattered whole world served light hope yearsmade feel sense happiness belonging otherwise felt dead unwanted reached redflag prevention hotline three separate occasion make feel better moment long run point best friend grown apart lot found another group friend vibe theyre recreational drug use stay sober idea might affect already fractured psyche december st attempt number spent day darkness tear wishing release physical pain mental anguish left house run away somewhere kill cousin caught wind plan waiting outside stop forced talk parent bothering year old black man broke pile tear floor explained want die even happen day end happening point day laterand sentiment gotten stronger know exactly know make year hope ill finally free lifetime pain another option redflag welcome point feel ive exhausted every option gain thank hearing guy',\n",
       "       'one last post night strange stupid questionsigh firstly want thank everyone helping still guy cant guarantee tomorrow still alive also sick dog freaking terrible head cold can say shitty immune system thanks anorexia stupid question hear term mentally ill thrown quite bit day hear term think schizophrenia psychosisthe bad thing know yall doctor looking definitive medical diagnosis anything get next week go appointment surefinally concrete name name mentally ill fuck wrong blah already dx officially ago anorexia nervosa know disability otherwise idea wrong meh wondering opinion thats uu hate feeling need sleep happening though damn insomnia lg',\n",
       "       ...,\n",
       "       'broke w boyfriend im sad fuck feeling fuck stupid robot deleting post co doesnt enough word enough word u rusty little shit',\n",
       "       'first wet dream really really bad timing st need include background info girlfriend year going college musical theater order get college there ton audition go super stressful also job taking relatively difficult class school knowing backed settled hanging weekend sometimes every weekend also taking home learning person relatively little contact u aside nightly call well nowhere around christmas asked take break super stressed said ok said week ton work didnt mind want happy well week went got thinking happy felt great reason feel stressed relationship felt guilty cheating approached asked admitted maybe started feeling something one coworkers fuck ok im upset see spending hour someone time week might make feel something towards especially never see current partner explained wasnt mad didnt tell issue know start spending time plus im person school ill start seeing talking daily accepted point wanted decide wanted continue start something coworker fuck x well day every single day ive wet dream wtf never get now body bring right im hurting tldr dumb stupid horny teenage brain kick im note think good chance getting back weve never big argument treat wonderfully though im hard time competing someone see frequently also im hoping none friend see hi thomas',\n",
       "       'find struggling find help deal can not may one reaching sub allowed deal struggle listening trying help struggle thank keeping want thank'],\n",
       "      dtype=object)"
      ]
     },
     "execution_count": 45,
     "metadata": {},
     "output_type": "execute_result"
    }
   ],
   "source": [
    "X_train"
   ]
  },
  {
   "cell_type": "code",
   "execution_count": 46,
   "id": "bb5f3643",
   "metadata": {
    "id": "-VauP6mImWe_",
    "outputId": "c32dafa7-1908-47c7-e33b-6d869e4b60d6",
    "papermill": {
     "duration": 0.082858,
     "end_time": "2023-07-18T07:42:32.963822",
     "exception": false,
     "start_time": "2023-07-18T07:42:32.880964",
     "status": "completed"
    },
    "tags": []
   },
   "outputs": [
    {
     "data": {
      "text/plain": [
       "(array([1, 1, 1, ..., 0, 0, 1]), array([0, 0, 1, ..., 1, 0, 1]))"
      ]
     },
     "execution_count": 46,
     "metadata": {},
     "output_type": "execute_result"
    }
   ],
   "source": [
    "y_train, y_valid"
   ]
  },
  {
   "cell_type": "markdown",
   "id": "7267957a",
   "metadata": {
    "id": "M5W_WtVtvUKa",
    "papermill": {
     "duration": 0.089992,
     "end_time": "2023-07-18T07:42:33.276891",
     "exception": false,
     "start_time": "2023-07-18T07:42:33.186899",
     "status": "completed"
    },
    "tags": []
   },
   "source": [
    "To determine the typical length of training texts, we calculate the average number of tokens (words) per text. This measurement aids in selecting an appropriate input size for neural network models, ensuring they are tailored to handle the data effectively."
   ]
  },
  {
   "cell_type": "code",
   "execution_count": 47,
   "id": "63fe7395",
   "metadata": {
    "id": "xIaVStiZmWe_",
    "outputId": "f54aaf5d-dcdd-4d2e-f73f-e307ed0f8fbf",
    "papermill": {
     "duration": 0.183543,
     "end_time": "2023-07-18T07:42:33.542962",
     "exception": false,
     "start_time": "2023-07-18T07:42:33.359419",
     "status": "completed"
    },
    "tags": []
   },
   "outputs": [
    {
     "data": {
      "text/plain": [
       "68"
      ]
     },
     "execution_count": 47,
     "metadata": {},
     "output_type": "execute_result"
    }
   ],
   "source": [
    "# Find average number of tokens (words) in training texts\n",
    "round(sum([len(i.split()) for i in X_train])/len(X_train))"
   ]
  },
  {
   "cell_type": "code",
   "execution_count": 48,
   "id": "eebc418f",
   "metadata": {
    "id": "2VmbCCEkmWe_",
    "outputId": "171e9e55-bdf5-463d-b047-af7fb4a71258",
    "papermill": {
     "duration": 0.184238,
     "end_time": "2023-07-18T07:42:34.016641",
     "exception": false,
     "start_time": "2023-07-18T07:42:33.832403",
     "status": "completed"
    },
    "tags": []
   },
   "outputs": [
    {
     "name": "stdout",
     "output_type": "stream",
     "text": [
      "95th Percentile of Text Lengths: 232.0\n"
     ]
    }
   ],
   "source": [
    "# Calculate the length of each text in X_train\n",
    "text_lengths = [len(text.split()) for text in X_train]\n",
    "\n",
    "# Find the 98th percentile\n",
    "percentile_95 = np.percentile(text_lengths, 95)\n",
    "\n",
    "print(f\"95th Percentile of Text Lengths: {percentile_95}\")"
   ]
  },
  {
   "cell_type": "code",
   "execution_count": 49,
   "id": "f49f6ed3",
   "metadata": {
    "id": "EYU2LuXWmWfA",
    "outputId": "14ff8743-e00f-461f-f958-44fff7c22e97",
    "papermill": {
     "duration": 0.509498,
     "end_time": "2023-07-18T07:42:34.756759",
     "exception": false,
     "start_time": "2023-07-18T07:42:34.247261",
     "status": "completed"
    },
    "tags": []
   },
   "outputs": [
    {
     "data": {
      "image/png": "[encoded data removed]",
      "text/plain": [
       "<Figure size 1000x600 with 1 Axes>"
      ]
     },
     "metadata": {},
     "output_type": "display_data"
    }
   ],
   "source": [
    "# Plotting the histogram\n",
    "plt.figure(figsize=(10, 6))\n",
    "plt.hist(text_lengths, bins=20, edgecolor='black')\n",
    "plt.xlabel('Word Length')\n",
    "plt.ylabel('Frequency')\n",
    "plt.title('Distribution of text Lengths')\n",
    "\n",
    "# Adding a vertical line for the 95th quartile\n",
    "quartile_95 = np.percentile(text_lengths, 95)\n",
    "plt.axvline(x=quartile_95, color='red', linestyle='--', label='95th Quartile')\n",
    "plt.legend()\n",
    "\n",
    "plt.grid(True)\n",
    "plt.show()"
   ]
  },
  {
   "cell_type": "markdown",
   "id": "bed24a83",
   "metadata": {
    "id": "hINV9A06vsQI",
    "papermill": {
     "duration": 0.074457,
     "end_time": "2023-07-18T07:42:34.906816",
     "exception": false,
     "start_time": "2023-07-18T07:42:34.832359",
     "status": "completed"
    },
    "tags": []
   },
   "source": [
    "We calculate the maximum text length to identify the longest sequence that the model can process. This is crucial for deciding how to pad or truncate sequences during the preprocessing stage, ensuring all inputs are uniform in length."
   ]
  },
  {
   "cell_type": "code",
   "execution_count": 50,
   "id": "aacba1bf",
   "metadata": {
    "id": "jFuU3GBYmWfA",
    "outputId": "2c775ed9-372e-4039-d205-b2d2e7568817",
    "papermill": {
     "duration": 0.088331,
     "end_time": "2023-07-18T07:42:35.072990",
     "exception": false,
     "start_time": "2023-07-18T07:42:34.984659",
     "status": "completed"
    },
    "tags": []
   },
   "outputs": [
    {
     "name": "stdout",
     "output_type": "stream",
     "text": [
      "Maximum Text Length: 2556\n"
     ]
    }
   ],
   "source": [
    "max_text_length = max(text_lengths)\n",
    "print(f\"Maximum Text Length: {max_text_length}\")"
   ]
  },
  {
   "cell_type": "markdown",
   "id": "08c910d8",
   "metadata": {
    "id": "Z_Lr2fUteC7i",
    "papermill": {
     "duration": 0.0763,
     "end_time": "2023-07-18T07:42:35.227654",
     "exception": false,
     "start_time": "2023-07-18T07:42:35.151354",
     "status": "completed"
    },
    "tags": []
   },
   "source": [
    "## **Text Vectorization**"
   ]
  },
  {
   "cell_type": "code",
   "execution_count": 51,
   "id": "574a45bd",
   "metadata": {
    "id": "3BvAwINXmWfB",
    "papermill": {
     "duration": 0.240113,
     "end_time": "2023-07-18T07:42:35.703326",
     "exception": false,
     "start_time": "2023-07-18T07:42:35.463213",
     "status": "completed"
    },
    "tags": []
   },
   "outputs": [
    {
     "name": "stderr",
     "output_type": "stream",
     "text": [
      "2024-04-13 15:55:18.783273: I metal_plugin/src/device/metal_device.cc:1154] Metal device set to: Apple M2 Max\n",
      "2024-04-13 15:55:18.783318: I metal_plugin/src/device/metal_device.cc:296] systemMemory: 32.00 GB\n",
      "2024-04-13 15:55:18.783325: I metal_plugin/src/device/metal_device.cc:313] maxCacheSize: 10.67 GB\n",
      "2024-04-13 15:55:18.783364: I tensorflow/core/common_runtime/pluggable_device/pluggable_device_factory.cc:305] Could not identify NUMA node of platform GPU ID 0, defaulting to 0. Your kernel may not have been built with NUMA support.\n",
      "2024-04-13 15:55:18.783394: I tensorflow/core/common_runtime/pluggable_device/pluggable_device_factory.cc:271] Created TensorFlow device (/job:localhost/replica:0/task:0/device:GPU:0 with 0 MB memory) -> physical PluggableDevice (device: 0, name: METAL, pci bus id: <undefined>)\n"
     ]
    }
   ],
   "source": [
    "import tensorflow as tf\n",
    "from tensorflow.keras.layers import TextVectorization\n",
    "\n",
    "# Setup text vectorization with custom variables\n",
    "max_vocab_length =None # max number of words to have in our vocabulary\n",
    "max_length = int(percentile_95) # max length our sequences will be (e.g. how many words from a text does our model see?)\n",
    "\n",
    "text_vectorizer = TextVectorization(max_tokens=max_vocab_length,\n",
    "                                    output_mode=\"int\",\n",
    "                                    output_sequence_length=max_length)"
   ]
  },
  {
   "cell_type": "markdown",
   "id": "1374ee45",
   "metadata": {
    "id": "IVpUkkgUv2gH",
    "papermill": {
     "duration": 0.077381,
     "end_time": "2023-07-18T07:42:35.861877",
     "exception": false,
     "start_time": "2023-07-18T07:42:35.784496",
     "status": "completed"
    },
    "tags": []
   },
   "source": [
    "The text vectorizer is fitted to the training text to build the vocabulary based on the training data. This allows the vectorizer to learn the mapping between words and their integer representations."
   ]
  },
  {
   "cell_type": "code",
   "execution_count": 52,
   "id": "1cc38890",
   "metadata": {
    "id": "Tj0Qub-DmWfB",
    "papermill": {
     "duration": 2.139606,
     "end_time": "2023-07-18T07:42:38.079922",
     "exception": false,
     "start_time": "2023-07-18T07:42:35.940316",
     "status": "completed"
    },
    "tags": []
   },
   "outputs": [],
   "source": [
    "# Fit the text vectorizer to the training text\n",
    "text_vectorizer.adapt(X_train)"
   ]
  },
  {
   "cell_type": "code",
   "execution_count": 53,
   "id": "47c27a90",
   "metadata": {
    "id": "ndGWCdKmmWfB",
    "outputId": "891fc54e-b0c7-475d-d7df-a27b3bebc0e2",
    "papermill": {
     "duration": 4.099766,
     "end_time": "2023-07-18T07:42:42.413310",
     "exception": false,
     "start_time": "2023-07-18T07:42:38.313544",
     "status": "completed"
    },
    "tags": []
   },
   "outputs": [
    {
     "name": "stdout",
     "output_type": "stream",
     "text": [
      "Number of words in vocab: 58460\n",
      "Top 5 most common words: ['', '[UNK]', 'im', 'like', 'want']\n",
      "Bottom 5 least common words: ['aaaaaaaaaaaaaaaaaaaa', 'aaaaaaaaaaaaaaaaaa', 'aaaaaaaaaaaaaa', 'aaaaaaaa', 'aaaaa']\n"
     ]
    }
   ],
   "source": [
    "# Get the unique words in the vocabulary\n",
    "words_in_vocab = text_vectorizer.get_vocabulary()\n",
    "top_5_words = words_in_vocab[:5] # most common tokens (notice the [UNK] token for \"unknown\" words)\n",
    "bottom_5_words = words_in_vocab[-5:] # least common tokens\n",
    "print(f\"Number of words in vocab: {len(words_in_vocab)}\")\n",
    "print(f\"Top 5 most common words: {top_5_words}\")\n",
    "print(f\"Bottom 5 least common words: {bottom_5_words}\")"
   ]
  },
  {
   "cell_type": "markdown",
   "id": "14d95136",
   "metadata": {
    "id": "MLY1lEQgv6jP",
    "papermill": {
     "duration": 0.077945,
     "end_time": "2023-07-18T07:42:42.568136",
     "exception": false,
     "start_time": "2023-07-18T07:42:42.490191",
     "status": "completed"
    },
    "tags": []
   },
   "source": [
    "The maximum vocabulary length is updated with the actual length of the vocabulary obtained from the text vectorizer."
   ]
  },
  {
   "cell_type": "code",
   "execution_count": 54,
   "id": "30432192",
   "metadata": {
    "id": "zF6-0FfGmWfB",
    "papermill": {
     "duration": 0.095575,
     "end_time": "2023-07-18T07:42:42.743378",
     "exception": false,
     "start_time": "2023-07-18T07:42:42.647803",
     "status": "completed"
    },
    "tags": []
   },
   "outputs": [],
   "source": [
    "max_vocab_length=len(words_in_vocab)"
   ]
  },
  {
   "cell_type": "markdown",
   "id": "5ca4a082",
   "metadata": {
    "id": "ETErLHfVjSDN",
    "papermill": {
     "duration": 0.076458,
     "end_time": "2023-07-18T07:42:42.902284",
     "exception": false,
     "start_time": "2023-07-18T07:42:42.825826",
     "status": "completed"
    },
    "tags": []
   },
   "source": [
    "# **Model: Baseline**"
   ]
  },
  {
   "cell_type": "code",
   "execution_count": 55,
   "id": "6adf4278",
   "metadata": {
    "id": "pFW2HGYGjffc",
    "outputId": "b4264821-a8dd-4ce0-8cdc-5c877bed68b0",
    "papermill": {
     "duration": 1.848227,
     "end_time": "2023-07-18T07:42:44.988840",
     "exception": false,
     "start_time": "2023-07-18T07:42:43.140613",
     "status": "completed"
    },
    "tags": []
   },
   "outputs": [
    {
     "data": {
      "text/html": [
       "<style>#sk-container-id-1 {color: black;background-color: white;}#sk-container-id-1 pre{padding: 0;}#sk-container-id-1 div.sk-toggleable {background-color: white;}#sk-container-id-1 label.sk-toggleable__label {cursor: pointer;display: block;width: 100%;margin-bottom: 0;padding: 0.3em;box-sizing: border-box;text-align: center;}#sk-container-id-1 label.sk-toggleable__label-arrow:before {content: \"▸\";float: left;margin-right: 0.25em;color: #696969;}#sk-container-id-1 label.sk-toggleable__label-arrow:hover:before {color: black;}#sk-container-id-1 div.sk-estimator:hover label.sk-toggleable__label-arrow:before {color: black;}#sk-container-id-1 div.sk-toggleable__content {max-height: 0;max-width: 0;overflow: hidden;text-align: left;background-color: #f0f8ff;}#sk-container-id-1 div.sk-toggleable__content pre {margin: 0.2em;color: black;border-radius: 0.25em;background-color: #f0f8ff;}#sk-container-id-1 input.sk-toggleable__control:checked~div.sk-toggleable__content {max-height: 200px;max-width: 100%;overflow: auto;}#sk-container-id-1 input.sk-toggleable__control:checked~label.sk-toggleable__label-arrow:before {content: \"▾\";}#sk-container-id-1 div.sk-estimator input.sk-toggleable__control:checked~label.sk-toggleable__label {background-color: #d4ebff;}#sk-container-id-1 div.sk-label input.sk-toggleable__control:checked~label.sk-toggleable__label {background-color: #d4ebff;}#sk-container-id-1 input.sk-hidden--visually {border: 0;clip: rect(1px 1px 1px 1px);clip: rect(1px, 1px, 1px, 1px);height: 1px;margin: -1px;overflow: hidden;padding: 0;position: absolute;width: 1px;}#sk-container-id-1 div.sk-estimator {font-family: monospace;background-color: #f0f8ff;border: 1px dotted black;border-radius: 0.25em;box-sizing: border-box;margin-bottom: 0.5em;}#sk-container-id-1 div.sk-estimator:hover {background-color: #d4ebff;}#sk-container-id-1 div.sk-parallel-item::after {content: \"\";width: 100%;border-bottom: 1px solid gray;flex-grow: 1;}#sk-container-id-1 div.sk-label:hover label.sk-toggleable__label {background-color: #d4ebff;}#sk-container-id-1 div.sk-serial::before {content: \"\";position: absolute;border-left: 1px solid gray;box-sizing: border-box;top: 0;bottom: 0;left: 50%;z-index: 0;}#sk-container-id-1 div.sk-serial {display: flex;flex-direction: column;align-items: center;background-color: white;padding-right: 0.2em;padding-left: 0.2em;position: relative;}#sk-container-id-1 div.sk-item {position: relative;z-index: 1;}#sk-container-id-1 div.sk-parallel {display: flex;align-items: stretch;justify-content: center;background-color: white;position: relative;}#sk-container-id-1 div.sk-item::before, #sk-container-id-1 div.sk-parallel-item::before {content: \"\";position: absolute;border-left: 1px solid gray;box-sizing: border-box;top: 0;bottom: 0;left: 50%;z-index: -1;}#sk-container-id-1 div.sk-parallel-item {display: flex;flex-direction: column;z-index: 1;position: relative;background-color: white;}#sk-container-id-1 div.sk-parallel-item:first-child::after {align-self: flex-end;width: 50%;}#sk-container-id-1 div.sk-parallel-item:last-child::after {align-self: flex-start;width: 50%;}#sk-container-id-1 div.sk-parallel-item:only-child::after {width: 0;}#sk-container-id-1 div.sk-dashed-wrapped {border: 1px dashed gray;margin: 0 0.4em 0.5em 0.4em;box-sizing: border-box;padding-bottom: 0.4em;background-color: white;}#sk-container-id-1 div.sk-label label {font-family: monospace;font-weight: bold;display: inline-block;line-height: 1.2em;}#sk-container-id-1 div.sk-label-container {text-align: center;}#sk-container-id-1 div.sk-container {/* jupyter's `normalize.less` sets `[hidden] { display: none; }` but bootstrap.min.css set `[hidden] { display: none !important; }` so we also need the `!important` here to be able to override the default hidden behavior on the sphinx rendered scikit-learn.org. See: https://github.com/scikit-learn/scikit-learn/issues/21755 */display: inline-block !important;position: relative;}#sk-container-id-1 div.sk-text-repr-fallback {display: none;}</style><div id=\"sk-container-id-1\" class=\"sk-top-container\"><div class=\"sk-text-repr-fallback\"><pre>Pipeline(steps=[(&#x27;tfidf&#x27;, TfidfVectorizer()), (&#x27;clf&#x27;, MultinomialNB())])</pre><b>In a Jupyter environment, please rerun this cell to show the HTML representation or trust the notebook. <br />On GitHub, the HTML representation is unable to render, please try loading this page with nbviewer.org.</b></div><div class=\"sk-container\" hidden><div class=\"sk-item sk-dashed-wrapped\"><div class=\"sk-label-container\"><div class=\"sk-label sk-toggleable\"><input class=\"sk-toggleable__control sk-hidden--visually\" id=\"sk-estimator-id-1\" type=\"checkbox\" ><label for=\"sk-estimator-id-1\" class=\"sk-toggleable__label sk-toggleable__label-arrow\">Pipeline</label><div class=\"sk-toggleable__content\"><pre>Pipeline(steps=[(&#x27;tfidf&#x27;, TfidfVectorizer()), (&#x27;clf&#x27;, MultinomialNB())])</pre></div></div></div><div class=\"sk-serial\"><div class=\"sk-item\"><div class=\"sk-estimator sk-toggleable\"><input class=\"sk-toggleable__control sk-hidden--visually\" id=\"sk-estimator-id-2\" type=\"checkbox\" ><label for=\"sk-estimator-id-2\" class=\"sk-toggleable__label sk-toggleable__label-arrow\">TfidfVectorizer</label><div class=\"sk-toggleable__content\"><pre>TfidfVectorizer()</pre></div></div></div><div class=\"sk-item\"><div class=\"sk-estimator sk-toggleable\"><input class=\"sk-toggleable__control sk-hidden--visually\" id=\"sk-estimator-id-3\" type=\"checkbox\" ><label for=\"sk-estimator-id-3\" class=\"sk-toggleable__label sk-toggleable__label-arrow\">MultinomialNB</label><div class=\"sk-toggleable__content\"><pre>MultinomialNB()</pre></div></div></div></div></div></div></div>"
      ],
      "text/plain": [
       "Pipeline(steps=[('tfidf', TfidfVectorizer()), ('clf', MultinomialNB())])"
      ]
     },
     "execution_count": 55,
     "metadata": {},
     "output_type": "execute_result"
    }
   ],
   "source": [
    "from sklearn.feature_extraction.text import TfidfVectorizer\n",
    "from sklearn.naive_bayes import MultinomialNB\n",
    "from sklearn.pipeline import Pipeline\n",
    "\n",
    "# Create tokenization and modelling pipeline\n",
    "baseline_model = Pipeline([\n",
    "                    (\"tfidf\", TfidfVectorizer()), # convert words to numbers using tfidf\n",
    "                    (\"clf\", MultinomialNB()) # model the text\n",
    "])\n",
    "\n",
    "# Now fit the model\n",
    "baseline_model.fit(X_train, y_train)"
   ]
  },
  {
   "cell_type": "code",
   "execution_count": 56,
   "id": "80516e49",
   "metadata": {
    "id": "Pm4MSC8njol6",
    "outputId": "e13eb1fe-84bc-4e87-a378-75fce8dd2cb5",
    "papermill": {
     "duration": 0.478891,
     "end_time": "2023-07-18T07:42:45.707262",
     "exception": false,
     "start_time": "2023-07-18T07:42:45.228371",
     "status": "completed"
    },
    "tags": []
   },
   "outputs": [
    {
     "name": "stdout",
     "output_type": "stream",
     "text": [
      " Baseline model achieves an accuracy of: 85.43%\n"
     ]
    }
   ],
   "source": [
    "baseline_score = baseline_model.score(X_valid, y_valid)\n",
    "print(f\" Baseline model achieves an accuracy of: {baseline_score*100:.2f}%\")"
   ]
  },
  {
   "cell_type": "code",
   "execution_count": 57,
   "id": "c4d04679",
   "metadata": {
    "id": "MmkhtljojpzV",
    "outputId": "c6dda4b5-8ac4-408c-f0e4-ef97f4639a92",
    "papermill": {
     "duration": 0.472397,
     "end_time": "2023-07-18T07:42:46.419092",
     "exception": false,
     "start_time": "2023-07-18T07:42:45.946695",
     "status": "completed"
    },
    "tags": []
   },
   "outputs": [
    {
     "data": {
      "text/plain": [
       "array([0, 0, 1, 0, 1, 1, 1, 1, 1, 1, 1, 1, 1, 0, 1, 0, 0, 1, 1, 0])"
      ]
     },
     "execution_count": 57,
     "metadata": {},
     "output_type": "execute_result"
    }
   ],
   "source": [
    "# Make predictions\n",
    "baseline_preds = baseline_model.predict(X_valid)\n",
    "baseline_preds[:20]"
   ]
  },
  {
   "cell_type": "markdown",
   "id": "9d9c4902",
   "metadata": {
    "id": "uUdlTBjGwHGH",
    "papermill": {
     "duration": 0.08698,
     "end_time": "2023-07-18T07:42:46.584549",
     "exception": false,
     "start_time": "2023-07-18T07:42:46.497569",
     "status": "completed"
    },
    "tags": []
   },
   "source": [
    "Then a function calculate_results is defined to calculate the accuracy, precision, recall, and F1 score of the model's predictions."
   ]
  },
  {
   "cell_type": "code",
   "execution_count": 58,
   "id": "00f6fd28",
   "metadata": {
    "id": "ewT9BmM-jtde",
    "papermill": {
     "duration": 0.088275,
     "end_time": "2023-07-18T07:42:46.752625",
     "exception": false,
     "start_time": "2023-07-18T07:42:46.664350",
     "status": "completed"
    },
    "tags": []
   },
   "outputs": [],
   "source": [
    "# Function to evaluate: accuracy, precision, recall, f1-score\n",
    "from sklearn.metrics import accuracy_score, precision_recall_fscore_support\n",
    "\n",
    "def calculate_results(y_true, y_pred):\n",
    " \n",
    "  # Calculate model accuracy\n",
    "  model_accuracy = accuracy_score(y_true, y_pred) * 100\n",
    "  # Calculate model precision, recall and f1 score using \"weighted\" average\n",
    "  model_precision, model_recall, model_f1, _ = precision_recall_fscore_support(y_true, y_pred, average=\"weighted\")\n",
    "  model_results = {\"accuracy\": model_accuracy,\n",
    "                  \"precision\": model_precision,\n",
    "                  \"recall\": model_recall,\n",
    "                  \"f1\": model_f1}\n",
    "  return model_results"
   ]
  },
  {
   "cell_type": "markdown",
   "id": "2dbb8de3",
   "metadata": {
    "id": "EBugkLdYwJEj",
    "papermill": {
     "duration": 0.073761,
     "end_time": "2023-07-18T07:42:46.906695",
     "exception": false,
     "start_time": "2023-07-18T07:42:46.832934",
     "status": "completed"
    },
    "tags": []
   },
   "source": [
    "The function is used to calculate the results of the baseline model and these are printed out."
   ]
  },
  {
   "cell_type": "code",
   "execution_count": 59,
   "id": "f470780a",
   "metadata": {
    "id": "q9T8c8cfjuvS",
    "outputId": "a2455618-4041-4077-bdfa-4531d0be5ec2",
    "papermill": {
     "duration": 0.096199,
     "end_time": "2023-07-18T07:42:47.080780",
     "exception": false,
     "start_time": "2023-07-18T07:42:46.984581",
     "status": "completed"
    },
    "tags": []
   },
   "outputs": [
    {
     "data": {
      "text/plain": [
       "{'accuracy': 85.43497757847534,\n",
       " 'precision': 0.881010158721504,\n",
       " 'recall': 0.8543497757847534,\n",
       " 'f1': 0.8519790697475407}"
      ]
     },
     "execution_count": 59,
     "metadata": {},
     "output_type": "execute_result"
    }
   ],
   "source": [
    "# baselineModel results\n",
    "baseline_results = calculate_results(y_true=y_valid,\n",
    "                                     y_pred=baseline_preds)\n",
    "baseline_results"
   ]
  },
  {
   "cell_type": "code",
   "execution_count": 60,
   "id": "7fe6844e",
   "metadata": {
    "id": "kA_CPpA-t5LH",
    "papermill": {
     "duration": 0.088204,
     "end_time": "2023-07-18T07:42:47.411806",
     "exception": false,
     "start_time": "2023-07-18T07:42:47.323602",
     "status": "completed"
    },
    "tags": []
   },
   "outputs": [],
   "source": [
    "# Create a helper function to compare our baseline results to new model results\n",
    "def compare_baseline_to_new_results(baseline_results, new_model_results):\n",
    "  for key, value in baseline_results.items():\n",
    "    print(f\"Baseline {key}: {value:.2f}, New {key}: {new_model_results[key]:.2f}, Difference: {new_model_results[key]-value:.2f}\")"
   ]
  },
  {
   "cell_type": "markdown",
   "id": "1cf754e9",
   "metadata": {
    "id": "9dkfQzqbq6QS",
    "papermill": {
     "duration": 0.080901,
     "end_time": "2023-07-18T07:42:47.569370",
     "exception": false,
     "start_time": "2023-07-18T07:42:47.488469",
     "status": "completed"
    },
    "tags": []
   },
   "source": [
    "**Callbacks**"
   ]
  },
  {
   "cell_type": "code",
   "execution_count": 61,
   "id": "5afbd458",
   "metadata": {
    "id": "xAlMxK33q8KG",
    "papermill": {
     "duration": 0.084877,
     "end_time": "2023-07-18T07:42:47.884055",
     "exception": false,
     "start_time": "2023-07-18T07:42:47.799178",
     "status": "completed"
    },
    "tags": []
   },
   "outputs": [],
   "source": [
    "from tensorflow.keras.callbacks import ModelCheckpoint\n",
    "\n",
    "def create_checkpoint_callback(checkpoint_path):\n",
    "    checkpoint_callback = ModelCheckpoint(filepath=checkpoint_path,\n",
    "                                          monitor='val_accuracy',\n",
    "                                          mode='max',\n",
    "                                          save_best_only=True,\n",
    "                                          verbose=1)\n",
    "    return checkpoint_callback"
   ]
  },
  {
   "cell_type": "markdown",
   "id": "087839fd",
   "metadata": {
    "id": "PJVKldGaH2c2",
    "papermill": {
     "duration": 0.081436,
     "end_time": "2023-07-18T07:42:48.108415",
     "exception": false,
     "start_time": "2023-07-18T07:42:48.026979",
     "status": "completed"
    },
    "tags": []
   },
   "source": [
    "**Embedding layer**"
   ]
  },
  {
   "cell_type": "code",
   "execution_count": 62,
   "id": "0fec9f09",
   "metadata": {
    "id": "AZKAX9G3mWfC",
    "papermill": {
     "duration": 0.567996,
     "end_time": "2023-07-18T07:42:48.756541",
     "exception": false,
     "start_time": "2023-07-18T07:42:48.188545",
     "status": "completed"
    },
    "tags": []
   },
   "outputs": [],
   "source": [
    "import tensorflow_hub as hub\n",
    "from tensorflow.keras import layers"
   ]
  },
  {
   "cell_type": "code",
   "execution_count": 65,
   "id": "96c8147b",
   "metadata": {
    "id": "tAKE4J_2mWfC",
    "outputId": "a417f993-5f9f-4efa-d729-215da8b27fca",
    "papermill": {
     "duration": 0.098995,
     "end_time": "2023-07-18T07:42:49.089316",
     "exception": false,
     "start_time": "2023-07-18T07:42:48.990321",
     "status": "completed"
    },
    "tags": []
   },
   "outputs": [
    {
     "name": "stderr",
     "output_type": "stream",
     "text": [
      "/Users/raja/anaconda3/lib/python3.11/site-packages/keras/src/layers/core/embedding.py:86: UserWarning: Argument `input_length` is deprecated. Just remove it.\n",
      "  warnings.warn(\n"
     ]
    },
    {
     "data": {
      "text/plain": [
       "<Embedding name=embedding_1, built=False>"
      ]
     },
     "execution_count": 65,
     "metadata": {},
     "output_type": "execute_result"
    }
   ],
   "source": [
    "# from tensorflow.keras import layers\n",
    "\n",
    "tf.random.set_seed(42)\n",
    "\n",
    "embedding = layers.Embedding(input_dim=max_vocab_length, # set input shape\n",
    "                             output_dim=300, # set size of embedding vector\n",
    "                             embeddings_initializer=\"uniform\", # default, intialize randomly\n",
    "                             input_length=max_length, # how long is each input\n",
    "                             name=\"embedding_1\")\n",
    "\n",
    "embedding"
   ]
  },
  {
   "cell_type": "markdown",
   "id": "02ef1506",
   "metadata": {
    "id": "vNRNNj7jSXl9",
    "papermill": {
     "duration": 0.532809,
     "end_time": "2023-07-18T08:19:28.628536",
     "exception": false,
     "start_time": "2023-07-18T08:19:28.095727",
     "status": "completed"
    },
    "tags": []
   },
   "source": [
    "# **Model: LSTM**"
   ]
  },
  {
   "cell_type": "code",
   "execution_count": 67,
   "id": "f779ed36",
   "metadata": {
    "id": "vjqsKlnuSW-L",
    "outputId": "c4336a45-4c4a-448f-d0f2-396c92a37e2a",
    "papermill": {
     "duration": 1.546025,
     "end_time": "2023-07-18T08:19:30.704261",
     "exception": false,
     "start_time": "2023-07-18T08:19:29.158236",
     "status": "completed"
    },
    "tags": []
   },
   "outputs": [
    {
     "name": "stdout",
     "output_type": "stream",
     "text": [
      "(None, 232, 300)\n",
      "(None, 64)\n"
     ]
    }
   ],
   "source": [
    "# Set random seed and create embedding layer (new embedding layer for each model)\n",
    "tf.random.set_seed(42)\n",
    "from tensorflow.keras import layers\n",
    "lstm_model_embedding = layers.Embedding(input_dim=max_vocab_length,\n",
    "                                     output_dim=300,\n",
    "                                     embeddings_initializer=\"uniform\",\n",
    "                                     input_length=max_length,\n",
    "                                     name=\"embedding_2\")\n",
    "\n",
    "\n",
    "# Create LSTM model\n",
    "inputs = layers.Input(shape=(1,), dtype=\"string\")\n",
    "x = text_vectorizer(inputs)\n",
    "x = lstm_model_embedding(x)\n",
    "print(x.shape)\n",
    "x = layers.LSTM(64, return_sequences=True)(x) # return vector for each word in the text (you can stack RNN cells as long as return_sequences=True)\n",
    "x = layers.LSTM(64)(x) # return vector for whole sequence\n",
    "print(x.shape)\n",
    "x = layers.Dense(64, activation=\"relu\")(x) # optional dense layer on top of output of LSTM cell\n",
    "outputs = layers.Dense(1, activation=\"sigmoid\")(x)\n",
    "lstm_model = tf.keras.Model(inputs, outputs, name=\"lstm_model\")"
   ]
  },
  {
   "cell_type": "code",
   "execution_count": 68,
   "id": "fde6f904-26f9-4cd4-86be-ac573c4b3135",
   "metadata": {},
   "outputs": [],
   "source": [
    "# Compile model\n",
    "lstm_model.compile(loss=\"binary_crossentropy\",\n",
    "                optimizer=tf.keras.optimizers.Adam(),\n",
    "                metrics=[\"accuracy\"])"
   ]
  },
  {
   "cell_type": "code",
   "execution_count": 69,
   "id": "cf717136",
   "metadata": {
    "id": "m5Pa-j-6ScaZ",
    "outputId": "09b01d59-f288-4340-f3ce-d6511edf3dd5",
    "papermill": {
     "duration": 0.597738,
     "end_time": "2023-07-18T08:19:34.105865",
     "exception": false,
     "start_time": "2023-07-18T08:19:33.508127",
     "status": "completed"
    },
    "tags": []
   },
   "outputs": [
    {
     "data": {
      "text/html": [
       "<pre style=\"white-space:pre;overflow-x:auto;line-height:normal;font-family:Menlo,'DejaVu Sans Mono',consolas,'Courier New',monospace\"><span style=\"font-weight: bold\">Model: \"lstm_model\"</span>\n",
       "</pre>\n"
      ],
      "text/plain": [
       "\u001b[1mModel: \"lstm_model\"\u001b[0m\n"
      ]
     },
     "metadata": {},
     "output_type": "display_data"
    },
    {
     "data": {
      "text/html": [
       "<pre style=\"white-space:pre;overflow-x:auto;line-height:normal;font-family:Menlo,'DejaVu Sans Mono',consolas,'Courier New',monospace\">┏━━━━━━━━━━━━━━━━━━━━━━━━━━━━━━━━━┳━━━━━━━━━━━━━━━━━━━━━━━━┳━━━━━━━━━━━━━━━┓\n",
       "┃<span style=\"font-weight: bold\"> Layer (type)                    </span>┃<span style=\"font-weight: bold\"> Output Shape           </span>┃<span style=\"font-weight: bold\">       Param # </span>┃\n",
       "┡━━━━━━━━━━━━━━━━━━━━━━━━━━━━━━━━━╇━━━━━━━━━━━━━━━━━━━━━━━━╇━━━━━━━━━━━━━━━┩\n",
       "│ input_layer_1 (<span style=\"color: #0087ff; text-decoration-color: #0087ff\">InputLayer</span>)      │ (<span style=\"color: #00d7ff; text-decoration-color: #00d7ff\">None</span>, <span style=\"color: #00af00; text-decoration-color: #00af00\">1</span>)              │             <span style=\"color: #00af00; text-decoration-color: #00af00\">0</span> │\n",
       "├─────────────────────────────────┼────────────────────────┼───────────────┤\n",
       "│ text_vectorization              │ (<span style=\"color: #00d7ff; text-decoration-color: #00d7ff\">None</span>, <span style=\"color: #00af00; text-decoration-color: #00af00\">232</span>)            │             <span style=\"color: #00af00; text-decoration-color: #00af00\">0</span> │\n",
       "│ (<span style=\"color: #0087ff; text-decoration-color: #0087ff\">TextVectorization</span>)             │                        │               │\n",
       "├─────────────────────────────────┼────────────────────────┼───────────────┤\n",
       "│ embedding_2 (<span style=\"color: #0087ff; text-decoration-color: #0087ff\">Embedding</span>)         │ (<span style=\"color: #00d7ff; text-decoration-color: #00d7ff\">None</span>, <span style=\"color: #00af00; text-decoration-color: #00af00\">232</span>, <span style=\"color: #00af00; text-decoration-color: #00af00\">300</span>)       │    <span style=\"color: #00af00; text-decoration-color: #00af00\">17,538,000</span> │\n",
       "├─────────────────────────────────┼────────────────────────┼───────────────┤\n",
       "│ lstm_2 (<span style=\"color: #0087ff; text-decoration-color: #0087ff\">LSTM</span>)                   │ (<span style=\"color: #00d7ff; text-decoration-color: #00d7ff\">None</span>, <span style=\"color: #00af00; text-decoration-color: #00af00\">232</span>, <span style=\"color: #00af00; text-decoration-color: #00af00\">64</span>)        │        <span style=\"color: #00af00; text-decoration-color: #00af00\">93,440</span> │\n",
       "├─────────────────────────────────┼────────────────────────┼───────────────┤\n",
       "│ lstm_3 (<span style=\"color: #0087ff; text-decoration-color: #0087ff\">LSTM</span>)                   │ (<span style=\"color: #00d7ff; text-decoration-color: #00d7ff\">None</span>, <span style=\"color: #00af00; text-decoration-color: #00af00\">64</span>)             │        <span style=\"color: #00af00; text-decoration-color: #00af00\">33,024</span> │\n",
       "├─────────────────────────────────┼────────────────────────┼───────────────┤\n",
       "│ dense_2 (<span style=\"color: #0087ff; text-decoration-color: #0087ff\">Dense</span>)                 │ (<span style=\"color: #00d7ff; text-decoration-color: #00d7ff\">None</span>, <span style=\"color: #00af00; text-decoration-color: #00af00\">64</span>)             │         <span style=\"color: #00af00; text-decoration-color: #00af00\">4,160</span> │\n",
       "├─────────────────────────────────┼────────────────────────┼───────────────┤\n",
       "│ dense_3 (<span style=\"color: #0087ff; text-decoration-color: #0087ff\">Dense</span>)                 │ (<span style=\"color: #00d7ff; text-decoration-color: #00d7ff\">None</span>, <span style=\"color: #00af00; text-decoration-color: #00af00\">1</span>)              │            <span style=\"color: #00af00; text-decoration-color: #00af00\">65</span> │\n",
       "└─────────────────────────────────┴────────────────────────┴───────────────┘\n",
       "</pre>\n"
      ],
      "text/plain": [
       "┏━━━━━━━━━━━━━━━━━━━━━━━━━━━━━━━━━┳━━━━━━━━━━━━━━━━━━━━━━━━┳━━━━━━━━━━━━━━━┓\n",
       "┃\u001b[1m \u001b[0m\u001b[1mLayer (type)                   \u001b[0m\u001b[1m \u001b[0m┃\u001b[1m \u001b[0m\u001b[1mOutput Shape          \u001b[0m\u001b[1m \u001b[0m┃\u001b[1m \u001b[0m\u001b[1m      Param #\u001b[0m\u001b[1m \u001b[0m┃\n",
       "┡━━━━━━━━━━━━━━━━━━━━━━━━━━━━━━━━━╇━━━━━━━━━━━━━━━━━━━━━━━━╇━━━━━━━━━━━━━━━┩\n",
       "│ input_layer_1 (\u001b[38;5;33mInputLayer\u001b[0m)      │ (\u001b[38;5;45mNone\u001b[0m, \u001b[38;5;34m1\u001b[0m)              │             \u001b[38;5;34m0\u001b[0m │\n",
       "├─────────────────────────────────┼────────────────────────┼───────────────┤\n",
       "│ text_vectorization              │ (\u001b[38;5;45mNone\u001b[0m, \u001b[38;5;34m232\u001b[0m)            │             \u001b[38;5;34m0\u001b[0m │\n",
       "│ (\u001b[38;5;33mTextVectorization\u001b[0m)             │                        │               │\n",
       "├─────────────────────────────────┼────────────────────────┼───────────────┤\n",
       "│ embedding_2 (\u001b[38;5;33mEmbedding\u001b[0m)         │ (\u001b[38;5;45mNone\u001b[0m, \u001b[38;5;34m232\u001b[0m, \u001b[38;5;34m300\u001b[0m)       │    \u001b[38;5;34m17,538,000\u001b[0m │\n",
       "├─────────────────────────────────┼────────────────────────┼───────────────┤\n",
       "│ lstm_2 (\u001b[38;5;33mLSTM\u001b[0m)                   │ (\u001b[38;5;45mNone\u001b[0m, \u001b[38;5;34m232\u001b[0m, \u001b[38;5;34m64\u001b[0m)        │        \u001b[38;5;34m93,440\u001b[0m │\n",
       "├─────────────────────────────────┼────────────────────────┼───────────────┤\n",
       "│ lstm_3 (\u001b[38;5;33mLSTM\u001b[0m)                   │ (\u001b[38;5;45mNone\u001b[0m, \u001b[38;5;34m64\u001b[0m)             │        \u001b[38;5;34m33,024\u001b[0m │\n",
       "├─────────────────────────────────┼────────────────────────┼───────────────┤\n",
       "│ dense_2 (\u001b[38;5;33mDense\u001b[0m)                 │ (\u001b[38;5;45mNone\u001b[0m, \u001b[38;5;34m64\u001b[0m)             │         \u001b[38;5;34m4,160\u001b[0m │\n",
       "├─────────────────────────────────┼────────────────────────┼───────────────┤\n",
       "│ dense_3 (\u001b[38;5;33mDense\u001b[0m)                 │ (\u001b[38;5;45mNone\u001b[0m, \u001b[38;5;34m1\u001b[0m)              │            \u001b[38;5;34m65\u001b[0m │\n",
       "└─────────────────────────────────┴────────────────────────┴───────────────┘\n"
      ]
     },
     "metadata": {},
     "output_type": "display_data"
    },
    {
     "data": {
      "text/html": [
       "<pre style=\"white-space:pre;overflow-x:auto;line-height:normal;font-family:Menlo,'DejaVu Sans Mono',consolas,'Courier New',monospace\"><span style=\"font-weight: bold\"> Total params: </span><span style=\"color: #00af00; text-decoration-color: #00af00\">17,668,689</span> (67.40 MB)\n",
       "</pre>\n"
      ],
      "text/plain": [
       "\u001b[1m Total params: \u001b[0m\u001b[38;5;34m17,668,689\u001b[0m (67.40 MB)\n"
      ]
     },
     "metadata": {},
     "output_type": "display_data"
    },
    {
     "data": {
      "text/html": [
       "<pre style=\"white-space:pre;overflow-x:auto;line-height:normal;font-family:Menlo,'DejaVu Sans Mono',consolas,'Courier New',monospace\"><span style=\"font-weight: bold\"> Trainable params: </span><span style=\"color: #00af00; text-decoration-color: #00af00\">17,668,689</span> (67.40 MB)\n",
       "</pre>\n"
      ],
      "text/plain": [
       "\u001b[1m Trainable params: \u001b[0m\u001b[38;5;34m17,668,689\u001b[0m (67.40 MB)\n"
      ]
     },
     "metadata": {},
     "output_type": "display_data"
    },
    {
     "data": {
      "text/html": [
       "<pre style=\"white-space:pre;overflow-x:auto;line-height:normal;font-family:Menlo,'DejaVu Sans Mono',consolas,'Courier New',monospace\"><span style=\"font-weight: bold\"> Non-trainable params: </span><span style=\"color: #00af00; text-decoration-color: #00af00\">0</span> (0.00 B)\n",
       "</pre>\n"
      ],
      "text/plain": [
       "\u001b[1m Non-trainable params: \u001b[0m\u001b[38;5;34m0\u001b[0m (0.00 B)\n"
      ]
     },
     "metadata": {},
     "output_type": "display_data"
    }
   ],
   "source": [
    "lstm_model.summary()"
   ]
  },
  {
   "cell_type": "markdown",
   "id": "1b09abb3",
   "metadata": {
    "id": "Fu5jvMSF2zlB",
    "papermill": {
     "duration": 0.621929,
     "end_time": "2023-07-18T08:19:35.319948",
     "exception": false,
     "start_time": "2023-07-18T08:19:34.698019",
     "status": "completed"
    },
    "tags": []
   },
   "source": [
    "We now create a checkpoint callback for model LSTM."
   ]
  },
  {
   "cell_type": "code",
   "execution_count": 70,
   "id": "ead245b7",
   "metadata": {
    "id": "9q7HOPz-Tcru",
    "papermill": {
     "duration": 0.541904,
     "end_time": "2023-07-18T08:19:36.401969",
     "exception": false,
     "start_time": "2023-07-18T08:19:35.860065",
     "status": "completed"
    },
    "tags": []
   },
   "outputs": [],
   "source": [
    "# Define the checkpoint path\n",
    "checkpoint_path = \"best_model_Bi-LSTM.keras\"\n",
    "\n",
    "cc = create_checkpoint_callback(checkpoint_path)"
   ]
  },
  {
   "cell_type": "code",
   "execution_count": 71,
   "id": "5b45df73",
   "metadata": {
    "id": "eTKBS3w5Sdpk",
    "outputId": "c84bba3a-81dc-414a-8f73-262d181f7102",
    "papermill": {
     "duration": 4047.809448,
     "end_time": "2023-07-18T09:27:05.902003",
     "exception": false,
     "start_time": "2023-07-18T08:19:38.092555",
     "status": "completed"
    },
    "tags": []
   },
   "outputs": [
    {
     "name": "stdout",
     "output_type": "stream",
     "text": [
      "Epoch 1/10\n"
     ]
    },
    {
     "name": "stderr",
     "output_type": "stream",
     "text": [
      "2024-04-13 16:11:06.790205: I tensorflow/core/grappler/optimizers/custom_graph_optimizer_registry.cc:117] Plugin optimizer for device_type GPU is enabled.\n"
     ]
    },
    {
     "name": "stdout",
     "output_type": "stream",
     "text": [
      "\u001b[1m697/697\u001b[0m \u001b[32m━━━━━━━━━━━━━━━━━━━━\u001b[0m\u001b[37m\u001b[0m \u001b[1m0s\u001b[0m 52ms/step - accuracy: 0.5370 - loss: 0.6790\n",
      "Epoch 1: val_accuracy improved from -inf to 0.52700, saving model to best_model_Bi-LSTM.keras\n",
      "\u001b[1m697/697\u001b[0m \u001b[32m━━━━━━━━━━━━━━━━━━━━\u001b[0m\u001b[37m\u001b[0m \u001b[1m43s\u001b[0m 60ms/step - accuracy: 0.5370 - loss: 0.6790 - val_accuracy: 0.5270 - val_loss: 0.6909\n",
      "Epoch 2/10\n",
      "\u001b[1m697/697\u001b[0m \u001b[32m━━━━━━━━━━━━━━━━━━━━\u001b[0m\u001b[37m\u001b[0m \u001b[1m0s\u001b[0m 57ms/step - accuracy: 0.6397 - loss: 0.5831\n",
      "Epoch 2: val_accuracy improved from 0.52700 to 0.90475, saving model to best_model_Bi-LSTM.keras\n",
      "\u001b[1m697/697\u001b[0m \u001b[32m━━━━━━━━━━━━━━━━━━━━\u001b[0m\u001b[37m\u001b[0m \u001b[1m45s\u001b[0m 64ms/step - accuracy: 0.6398 - loss: 0.5829 - val_accuracy: 0.9048 - val_loss: 0.2584\n",
      "Epoch 3/10\n",
      "\u001b[1m697/697\u001b[0m \u001b[32m━━━━━━━━━━━━━━━━━━━━\u001b[0m\u001b[37m\u001b[0m \u001b[1m0s\u001b[0m 57ms/step - accuracy: 0.9253 - loss: 0.1997\n",
      "Epoch 3: val_accuracy improved from 0.90475 to 0.91552, saving model to best_model_Bi-LSTM.keras\n",
      "\u001b[1m697/697\u001b[0m \u001b[32m━━━━━━━━━━━━━━━━━━━━\u001b[0m\u001b[37m\u001b[0m \u001b[1m45s\u001b[0m 65ms/step - accuracy: 0.9253 - loss: 0.1997 - val_accuracy: 0.9155 - val_loss: 0.2254\n",
      "Epoch 4/10\n",
      "\u001b[1m697/697\u001b[0m \u001b[32m━━━━━━━━━━━━━━━━━━━━\u001b[0m\u001b[37m\u001b[0m \u001b[1m0s\u001b[0m 58ms/step - accuracy: 0.9667 - loss: 0.0981\n",
      "Epoch 4: val_accuracy did not improve from 0.91552\n",
      "\u001b[1m697/697\u001b[0m \u001b[32m━━━━━━━━━━━━━━━━━━━━\u001b[0m\u001b[37m\u001b[0m \u001b[1m42s\u001b[0m 61ms/step - accuracy: 0.9668 - loss: 0.0981 - val_accuracy: 0.8969 - val_loss: 0.3442\n",
      "Epoch 5/10\n",
      "\u001b[1m697/697\u001b[0m \u001b[32m━━━━━━━━━━━━━━━━━━━━\u001b[0m\u001b[37m\u001b[0m \u001b[1m0s\u001b[0m 57ms/step - accuracy: 0.9824 - loss: 0.0576\n",
      "Epoch 5: val_accuracy did not improve from 0.91552\n",
      "\u001b[1m697/697\u001b[0m \u001b[32m━━━━━━━━━━━━━━━━━━━━\u001b[0m\u001b[37m\u001b[0m \u001b[1m42s\u001b[0m 60ms/step - accuracy: 0.9824 - loss: 0.0575 - val_accuracy: 0.8918 - val_loss: 0.3543\n",
      "Epoch 6/10\n",
      "\u001b[1m697/697\u001b[0m \u001b[32m━━━━━━━━━━━━━━━━━━━━\u001b[0m\u001b[37m\u001b[0m \u001b[1m0s\u001b[0m 56ms/step - accuracy: 0.9906 - loss: 0.0329\n",
      "Epoch 6: val_accuracy did not improve from 0.91552\n",
      "\u001b[1m697/697\u001b[0m \u001b[32m━━━━━━━━━━━━━━━━━━━━\u001b[0m\u001b[37m\u001b[0m \u001b[1m41s\u001b[0m 59ms/step - accuracy: 0.9906 - loss: 0.0329 - val_accuracy: 0.9021 - val_loss: 0.4214\n",
      "Epoch 7/10\n",
      "\u001b[1m697/697\u001b[0m \u001b[32m━━━━━━━━━━━━━━━━━━━━\u001b[0m\u001b[37m\u001b[0m \u001b[1m0s\u001b[0m 56ms/step - accuracy: 0.9947 - loss: 0.0219\n",
      "Epoch 7: val_accuracy did not improve from 0.91552\n",
      "\u001b[1m697/697\u001b[0m \u001b[32m━━━━━━━━━━━━━━━━━━━━\u001b[0m\u001b[37m\u001b[0m \u001b[1m41s\u001b[0m 59ms/step - accuracy: 0.9947 - loss: 0.0219 - val_accuracy: 0.9091 - val_loss: 0.4502\n",
      "Epoch 8/10\n",
      "\u001b[1m697/697\u001b[0m \u001b[32m━━━━━━━━━━━━━━━━━━━━\u001b[0m\u001b[37m\u001b[0m \u001b[1m0s\u001b[0m 56ms/step - accuracy: 0.9958 - loss: 0.0168\n",
      "Epoch 8: val_accuracy did not improve from 0.91552\n",
      "\u001b[1m697/697\u001b[0m \u001b[32m━━━━━━━━━━━━━━━━━━━━\u001b[0m\u001b[37m\u001b[0m \u001b[1m41s\u001b[0m 59ms/step - accuracy: 0.9958 - loss: 0.0168 - val_accuracy: 0.9055 - val_loss: 0.5482\n",
      "Epoch 9/10\n",
      "\u001b[1m697/697\u001b[0m \u001b[32m━━━━━━━━━━━━━━━━━━━━\u001b[0m\u001b[37m\u001b[0m \u001b[1m0s\u001b[0m 56ms/step - accuracy: 0.9970 - loss: 0.0131\n",
      "Epoch 9: val_accuracy did not improve from 0.91552\n",
      "\u001b[1m697/697\u001b[0m \u001b[32m━━━━━━━━━━━━━━━━━━━━\u001b[0m\u001b[37m\u001b[0m \u001b[1m41s\u001b[0m 59ms/step - accuracy: 0.9970 - loss: 0.0131 - val_accuracy: 0.9092 - val_loss: 0.4656\n",
      "Epoch 10/10\n",
      "\u001b[1m697/697\u001b[0m \u001b[32m━━━━━━━━━━━━━━━━━━━━\u001b[0m\u001b[37m\u001b[0m \u001b[1m0s\u001b[0m 56ms/step - accuracy: 0.9958 - loss: 0.0142\n",
      "Epoch 10: val_accuracy did not improve from 0.91552\n",
      "\u001b[1m697/697\u001b[0m \u001b[32m━━━━━━━━━━━━━━━━━━━━\u001b[0m\u001b[37m\u001b[0m \u001b[1m41s\u001b[0m 59ms/step - accuracy: 0.9958 - loss: 0.0142 - val_accuracy: 0.9006 - val_loss: 0.5447\n"
     ]
    }
   ],
   "source": [
    "# Fit model\n",
    "lstm_model_history = lstm_model.fit(X_train, y_train,\n",
    "                              epochs=10,\n",
    "                              validation_data=(X_valid, y_valid),\n",
    "                              callbacks=[cc])"
   ]
  },
  {
   "cell_type": "markdown",
   "id": "597d4ed3",
   "metadata": {
    "id": "dXBE7Q1G3CMd",
    "papermill": {
     "duration": 1.142798,
     "end_time": "2023-07-18T09:27:08.042690",
     "exception": false,
     "start_time": "2023-07-18T09:27:06.899892",
     "status": "completed"
    },
    "tags": []
   },
   "source": [
    "Following training, the history of LSTM model's accuracy and loss over the epochs is plotted."
   ]
  },
  {
   "cell_type": "code",
   "execution_count": 72,
   "id": "37b37722",
   "metadata": {
    "id": "xaG8O66RTrJi",
    "outputId": "b0c969e4-8278-4e7b-f31f-80549e6ad5c3",
    "papermill": {
     "duration": 1.478198,
     "end_time": "2023-07-18T09:27:10.604780",
     "exception": false,
     "start_time": "2023-07-18T09:27:09.126582",
     "status": "completed"
    },
    "tags": []
   },
   "outputs": [
    {
     "data": {
      "image/png": "[encoded data removed]",
      "text/plain": [
       "<Figure size 640x480 with 1 Axes>"
      ]
     },
     "metadata": {},
     "output_type": "display_data"
    },
    {
     "data": {
      "image/png": "[encoded data removed]",
      "text/plain": [
       "<Figure size 640x480 with 1 Axes>"
      ]
     },
     "metadata": {},
     "output_type": "display_data"
    }
   ],
   "source": [
    "# Plot Utility\n",
    "def plot_graphs(history, string):\n",
    "  plt.plot(history.history[string])\n",
    "  plt.plot(history.history['val_'+string])\n",
    "  plt.xlabel(\"Epochs\")\n",
    "  plt.ylabel(string)\n",
    "  plt.legend([string, 'val_'+string])\n",
    "  plt.show()\n",
    "\n",
    "# Plot the accuracy and loss history\n",
    "plot_graphs(lstm_model_history, 'accuracy')\n",
    "plot_graphs(lstm_model_history, 'loss')"
   ]
  },
  {
   "cell_type": "code",
   "execution_count": 74,
   "id": "f30a06e3",
   "metadata": {
    "id": "YAPlN9_kTvc6",
    "papermill": {
     "duration": 5.164436,
     "end_time": "2023-07-18T09:27:18.827752",
     "exception": false,
     "start_time": "2023-07-18T09:27:13.663316",
     "status": "completed"
    },
    "tags": []
   },
   "outputs": [],
   "source": [
    "from tensorflow.keras.models import load_model\n",
    "\n",
    "# Load the entire model\n",
    "lstm_model = load_model(checkpoint_path)"
   ]
  },
  {
   "cell_type": "markdown",
   "id": "d3ba741b",
   "metadata": {
    "id": "lY99cSqeCumB",
    "papermill": {
     "duration": 1.075661,
     "end_time": "2023-07-18T09:27:20.893307",
     "exception": false,
     "start_time": "2023-07-18T09:27:19.817646",
     "status": "completed"
    },
    "tags": []
   },
   "source": [
    "The LSTM model is evaluated on the validation set to understand its performance on unseen data."
   ]
  },
  {
   "cell_type": "code",
   "execution_count": 75,
   "id": "d5048269",
   "metadata": {
    "id": "Zn1OrWEpT1qk",
    "outputId": "dc28884a-076a-4aa0-ec6c-3b0d557df5c3",
    "papermill": {
     "duration": 16.581518,
     "end_time": "2023-07-18T09:27:38.438092",
     "exception": false,
     "start_time": "2023-07-18T09:27:21.856574",
     "status": "completed"
    },
    "tags": []
   },
   "outputs": [
    {
     "name": "stdout",
     "output_type": "stream",
     "text": [
      "\u001b[1m175/175\u001b[0m \u001b[32m━━━━━━━━━━━━━━━━━━━━\u001b[0m\u001b[37m\u001b[0m \u001b[1m3s\u001b[0m 13ms/step - accuracy: 0.9104 - loss: 0.2309\n"
     ]
    },
    {
     "data": {
      "text/plain": [
       "[0.22536934912204742, 0.9155157208442688]"
      ]
     },
     "execution_count": 75,
     "metadata": {},
     "output_type": "execute_result"
    }
   ],
   "source": [
    "lstm_model.evaluate(X_valid, y_valid)"
   ]
  },
  {
   "cell_type": "code",
   "execution_count": 76,
   "id": "ecdcec9c",
   "metadata": {
    "id": "3lRhKO-rSfSx",
    "outputId": "869c0551-d4e7-4e93-8514-c82980468e34",
    "papermill": {
     "duration": 16.154658,
     "end_time": "2023-07-18T09:27:57.838629",
     "exception": false,
     "start_time": "2023-07-18T09:27:41.683971",
     "status": "completed"
    },
    "tags": []
   },
   "outputs": [
    {
     "name": "stdout",
     "output_type": "stream",
     "text": [
      "\u001b[1m175/175\u001b[0m \u001b[32m━━━━━━━━━━━━━━━━━━━━\u001b[0m\u001b[37m\u001b[0m \u001b[1m2s\u001b[0m 8ms/step\n"
     ]
    },
    {
     "data": {
      "text/plain": [
       "((5575, 1),\n",
       " array([[0.00646534],\n",
       "        [0.00192491],\n",
       "        [0.9809474 ],\n",
       "        [0.03597093],\n",
       "        [0.67051554],\n",
       "        [0.97818726],\n",
       "        [0.98397255],\n",
       "        [0.98496115],\n",
       "        [0.7622405 ],\n",
       "        [0.22307119]], dtype=float32))"
      ]
     },
     "execution_count": 76,
     "metadata": {},
     "output_type": "execute_result"
    }
   ],
   "source": [
    "# Make predictions on the validation dataset\n",
    "lstm_model_pred_probs = lstm_model.predict(X_valid)\n",
    "lstm_model_pred_probs.shape, lstm_model_pred_probs[:10] # view the first 10"
   ]
  },
  {
   "cell_type": "code",
   "execution_count": 77,
   "id": "5d170870",
   "metadata": {
    "id": "ojdzf0-1dDSG",
    "outputId": "856de20c-38c5-4ebc-ad2c-162b521c6b8e",
    "papermill": {
     "duration": 1.127182,
     "end_time": "2023-07-18T09:27:59.971712",
     "exception": false,
     "start_time": "2023-07-18T09:27:58.844530",
     "status": "completed"
    },
    "tags": []
   },
   "outputs": [
    {
     "data": {
      "text/plain": [
       "<tf.Tensor: shape=(10,), dtype=float32, numpy=array([0., 0., 1., 0., 1., 1., 1., 1., 1., 0.], dtype=float32)>"
      ]
     },
     "execution_count": 77,
     "metadata": {},
     "output_type": "execute_result"
    }
   ],
   "source": [
    "# Convert prediction probabilities to labels\n",
    "lstm_model_preds = tf.squeeze(tf.round(lstm_model_pred_probs))\n",
    "lstm_model_preds[:10]\n"
   ]
  },
  {
   "cell_type": "markdown",
   "id": "8d2d7425",
   "metadata": {
    "id": "osXrWKFAC0yB",
    "papermill": {
     "duration": 1.02389,
     "end_time": "2023-07-18T09:28:02.098558",
     "exception": false,
     "start_time": "2023-07-18T09:28:01.074668",
     "status": "completed"
    },
    "tags": []
   },
   "source": [
    "Metrics such as accuracy, precision, recall, and F1-score are calculated to evaluate the performance of the LSTM model."
   ]
  },
  {
   "cell_type": "code",
   "execution_count": 78,
   "id": "c876bd8f",
   "metadata": {
    "id": "6174IjhCShFj",
    "outputId": "a4bda8ed-84d7-4ca5-a36b-60782e5eda35",
    "papermill": {
     "duration": 1.092292,
     "end_time": "2023-07-18T09:28:04.339161",
     "exception": false,
     "start_time": "2023-07-18T09:28:03.246869",
     "status": "completed"
    },
    "tags": []
   },
   "outputs": [
    {
     "data": {
      "text/plain": [
       "{'accuracy': 91.55156950672647,\n",
       " 'precision': 0.9155406811826331,\n",
       " 'recall': 0.9155156950672646,\n",
       " 'f1': 0.9155175544145038}"
      ]
     },
     "execution_count": 78,
     "metadata": {},
     "output_type": "execute_result"
    }
   ],
   "source": [
    "# Calculate LSTM model results\n",
    "lstm_model_results = calculate_results(y_true=y_valid,\n",
    "                                    y_pred=lstm_model_preds)\n",
    "lstm_model_results"
   ]
  },
  {
   "cell_type": "markdown",
   "id": "8d0ade78",
   "metadata": {
    "id": "hEH_nXq_C2nt",
    "papermill": {
     "duration": 1.104348,
     "end_time": "2023-07-18T09:28:06.474935",
     "exception": false,
     "start_time": "2023-07-18T09:28:05.370587",
     "status": "completed"
    },
    "tags": []
   },
   "source": [
    "The function compares the performance metrics of the baseline model with the LSTM model. The comparison include various metrics such as accuracy, precision, recall, and F1-score."
   ]
  },
  {
   "cell_type": "code",
   "execution_count": 79,
   "id": "291dc09b",
   "metadata": {
    "id": "EmEoc5hTSiLb",
    "outputId": "b4c9db65-8770-4407-a0d9-cdc506900a56",
    "papermill": {
     "duration": 1.026327,
     "end_time": "2023-07-18T09:28:08.608188",
     "exception": false,
     "start_time": "2023-07-18T09:28:07.581861",
     "status": "completed"
    },
    "tags": []
   },
   "outputs": [
    {
     "name": "stdout",
     "output_type": "stream",
     "text": [
      "Baseline accuracy: 85.43, New accuracy: 91.55, Difference: 6.12\n",
      "Baseline precision: 0.88, New precision: 0.92, Difference: 0.03\n",
      "Baseline recall: 0.85, New recall: 0.92, Difference: 0.06\n",
      "Baseline f1: 0.85, New f1: 0.92, Difference: 0.06\n"
     ]
    }
   ],
   "source": [
    "# Compare model ltsm to baseline\n",
    "compare_baseline_to_new_results(baseline_results, lstm_model_results)"
   ]
  },
  {
   "cell_type": "code",
   "execution_count": 80,
   "id": "79af5c5f",
   "metadata": {
    "id": "yQmRO19-sGkz",
    "outputId": "ef926812-2b97-47ba-8cb2-2ebcc14c98e4",
    "papermill": {
     "duration": 16.694556,
     "end_time": "2023-07-18T09:28:26.427047",
     "exception": false,
     "start_time": "2023-07-18T09:28:09.732491",
     "status": "completed"
    },
    "tags": []
   },
   "outputs": [
    {
     "name": "stdout",
     "output_type": "stream",
     "text": [
      "\u001b[1m175/175\u001b[0m \u001b[32m━━━━━━━━━━━━━━━━━━━━\u001b[0m\u001b[37m\u001b[0m \u001b[1m1s\u001b[0m 7ms/step\n"
     ]
    }
   ],
   "source": [
    "y_true = y_valid.tolist()  # Convert labels to a list\n",
    "preds = lstm_model.predict(X_valid)\n",
    "y_probs = preds.squeeze().tolist()  # Store the prediction probabilities as a list\n",
    "y_preds = tf.round(y_probs).numpy().tolist()  # Convert probabilities to class predictions and convert to a list\n"
   ]
  },
  {
   "cell_type": "markdown",
   "id": "33106148",
   "metadata": {
    "id": "9jRzXRGJC5ID",
    "papermill": {
     "duration": 1.13786,
     "end_time": "2023-07-18T09:28:28.617032",
     "exception": false,
     "start_time": "2023-07-18T09:28:27.479172",
     "status": "completed"
    },
    "tags": []
   },
   "source": [
    "A confusion matrix is generated to visualize the classification performance of the LSTM model. A custom function is used to make the matrix more readable."
   ]
  },
  {
   "cell_type": "code",
   "execution_count": 81,
   "id": "aaf6fa41",
   "metadata": {
    "id": "PB67WPSesGk0",
    "outputId": "96abf208-85f3-4543-facd-42d37d1b33da",
    "papermill": {
     "duration": 1.142112,
     "end_time": "2023-07-18T09:28:30.808407",
     "exception": false,
     "start_time": "2023-07-18T09:28:29.666295",
     "status": "completed"
    },
    "tags": []
   },
   "outputs": [
    {
     "data": {
      "text/plain": [
       "array([[2570,  245],\n",
       "       [ 226, 2534]])"
      ]
     },
     "execution_count": 81,
     "metadata": {},
     "output_type": "execute_result"
    }
   ],
   "source": [
    "# Check out the non-prettified confusion matrix\n",
    "from sklearn.metrics import confusion_matrix\n",
    "confusion_matrix(y_true=y_true,\n",
    "                 y_pred=y_preds)"
   ]
  },
  {
   "cell_type": "code",
   "execution_count": 83,
   "id": "6499e48d-b8be-4e82-96b0-c5fb7b4e5106",
   "metadata": {},
   "outputs": [],
   "source": [
    "import itertools\n",
    "from sklearn.metrics import confusion_matrix\n",
    "\n",
    "# Our function needs a different name to sklearn's plot_confusion_matrix\n",
    "def make_confusion_matrix(y_true, y_pred, classes=None, figsize=(10, 10), text_size=15):\n",
    " \n",
    "  # Create the confustion matrix\n",
    "  cm = confusion_matrix(y_true, y_pred)\n",
    "  cm_norm = cm.astype(\"float\") / cm.sum(axis=1)[:, np.newaxis] # normalize it\n",
    "  n_classes = cm.shape[0] # find the number of classes we're dealing with\n",
    "\n",
    "  # Plot the figure and make it pretty\n",
    "  fig, ax = plt.subplots(figsize=figsize)\n",
    "  cax = ax.matshow(cm, cmap=plt.cm.Blues) # colors will represent how 'correct' a class is, darker == better\n",
    "  fig.colorbar(cax)\n",
    "\n",
    "  # Are there a list of classes?\n",
    "  if classes:\n",
    "    labels = classes\n",
    "  else:\n",
    "    labels = np.arange(cm.shape[0])\n",
    "\n",
    "  # Label the axes\n",
    "  ax.set(title=\"Confusion Matrix\",\n",
    "         xlabel=\"Predicted label\",\n",
    "         ylabel=\"True label\",\n",
    "         xticks=np.arange(n_classes), # create enough axis slots for each class\n",
    "         yticks=np.arange(n_classes),\n",
    "         xticklabels=labels, # axes will labeled with class names (if they exist) or ints\n",
    "         yticklabels=labels)\n",
    "\n",
    "  # Make x-axis labels appear on bottom\n",
    "  ax.xaxis.set_label_position(\"bottom\")\n",
    "  ax.xaxis.tick_bottom()\n",
    "\n",
    "  # Set the threshold for different colors\n",
    "  threshold = (cm.max() + cm.min()) / 2.\n",
    "\n",
    "  # Plot the text on each cell\n",
    "  for i, j in itertools.product(range(cm.shape[0]), range(cm.shape[1])):\n",
    "    plt.text(j, i, f\"{cm[i, j]} ({cm_norm[i, j]*100:.1f}%)\",\n",
    "             horizontalalignment=\"center\",\n",
    "             color=\"white\" if cm[i, j] > threshold else \"black\",\n",
    "             size=text_size)"
   ]
  },
  {
   "cell_type": "code",
   "execution_count": 84,
   "id": "0c281098",
   "metadata": {
    "id": "WzgoXQuLsGk2",
    "outputId": "31447a1c-e27a-4074-aa24-fc9de2d4f89b",
    "papermill": {
     "duration": 1.654223,
     "end_time": "2023-07-18T09:28:33.488178",
     "exception": false,
     "start_time": "2023-07-18T09:28:31.833955",
     "status": "completed"
    },
    "tags": []
   },
   "outputs": [
    {
     "data": {
      "image/png": "[encoded data removed]",
      "text/plain": [
       "<Figure size 1500x1500 with 2 Axes>"
      ]
     },
     "metadata": {},
     "output_type": "display_data"
    }
   ],
   "source": [
    "# Make a prettier confusion matrix\n",
    "make_confusion_matrix(y_true=y_true,\n",
    "                      y_pred=y_preds,\n",
    "                      classes=class_names,\n",
    "                      figsize=(15, 15),\n",
    "                      text_size=10)"
   ]
  },
  {
   "cell_type": "code",
   "execution_count": 86,
   "id": "1b457109-070a-4083-abf8-fce9cb60451d",
   "metadata": {},
   "outputs": [
    {
     "name": "stdout",
     "output_type": "stream",
     "text": [
      "Requirement already satisfied: colorama in /Users/raja/anaconda3/lib/python3.11/site-packages (0.4.6)\n"
     ]
    }
   ],
   "source": [
    "!pip install colorama\n",
    "from colorama import Fore, Style\n",
    "import numpy as np\n",
    "\n",
    "def random_predictions(model, X_valid, y_valid, num_samples=5, class_names=None):\n",
    "    # Check if it's binary or multi-class classification\n",
    "    is_binary_classification = len(np.unique(y_valid)) == 2\n",
    "\n",
    "    # Getting indices of the random samples\n",
    "    random_indices = np.random.choice(np.arange(len(X_valid)), size=num_samples, replace=False)\n",
    "\n",
    "    # Selecting the random samples\n",
    "    random_X_samples = X_valid[random_indices]\n",
    "    random_y_samples = y_valid[random_indices]\n",
    "\n",
    "    # Making predictions on the random samples\n",
    "    y_pred_probs = model.predict(random_X_samples)\n",
    "\n",
    "    if is_binary_classification:\n",
    "        y_pred = np.squeeze(np.round(y_pred_probs).astype(int))\n",
    "    else:\n",
    "        y_pred = np.argmax(y_pred_probs, axis=1)\n",
    "\n",
    "    # Print the actual and predicted labels\n",
    "    for i in range(num_samples):\n",
    "        text = random_X_samples[i]\n",
    "        true_label = random_y_samples[i] if is_binary_classification else np.argmax(random_y_samples[i])\n",
    "        predicted_label = y_pred[i]\n",
    "\n",
    "        # If class names are provided, use them for printing\n",
    "        if class_names is not None:\n",
    "            true_label_name = class_names[true_label]\n",
    "            predicted_label_name = class_names[predicted_label]\n",
    "        else:\n",
    "            true_label_name = true_label\n",
    "            predicted_label_name = predicted_label\n",
    "\n",
    "        # Determine the color of the text (green for correct, red for incorrect)\n",
    "        text_color = Fore.GREEN if true_label == predicted_label else Fore.RED\n",
    "\n",
    "        print(f\"\\nSample {i + 1}:\")\n",
    "        print(f\"Text: {text}\")\n",
    "        print(text_color + f\"True: {true_label_name} \\n Predicted: {predicted_label_name}\" + Style.RESET_ALL)"
   ]
  },
  {
   "cell_type": "code",
   "execution_count": 87,
   "id": "b8edea8c",
   "metadata": {
    "id": "KMm4fw7ksGk3",
    "outputId": "99fb9e7a-1acd-4f9d-abe3-47ee8e8c2a2a",
    "papermill": {
     "duration": 1.161678,
     "end_time": "2023-07-18T09:28:37.922299",
     "exception": false,
     "start_time": "2023-07-18T09:28:36.760621",
     "status": "completed"
    },
    "tags": []
   },
   "outputs": [
    {
     "name": "stdout",
     "output_type": "stream",
     "text": [
      "\u001b[1m1/1\u001b[0m \u001b[32m━━━━━━━━━━━━━━━━━━━━\u001b[0m\u001b[37m\u001b[0m \u001b[1m0s\u001b[0m 71ms/step\n",
      "\n",
      "Sample 1:\n",
      "Text: divorcewell look like im ruled doesnt matter ill dead make broke take kid\n",
      "\u001b[31mTrue: Mental-health \n",
      " Predicted: Non-mental-health\u001b[0m\n",
      "\n",
      "Sample 2:\n",
      "Text: slide done english doesnt suck much took hour slide hey progress finding image kinda fun\n",
      "\u001b[32mTrue: Non-mental-health \n",
      " Predicted: Non-mental-health\u001b[0m\n",
      "\n",
      "Sample 3:\n",
      "Text: asian pussy tight really wan na pipe oh god big as tiddys five\n",
      "\u001b[32mTrue: Non-mental-health \n",
      " Predicted: Non-mental-health\u001b[0m\n",
      "\n",
      "Sample 4:\n",
      "Text: count suicidal know fucking scared pain actually go anythingi want die want final minuteshours filled excruciating pain thing pill knife id never able idk guess needed say something want go sleep wake sorry waste everyones time\n",
      "\u001b[32mTrue: Mental-health \n",
      " Predicted: Mental-health\u001b[0m\n",
      "\n",
      "Sample 5:\n",
      "Text: im tiredim tired life im tired alone im tired horrible world want end\n",
      "\u001b[32mTrue: Mental-health \n",
      " Predicted: Mental-health\u001b[0m\n",
      "\n",
      "Sample 6:\n",
      "Text: losing continue husband last violent outburstlike title say already brink husband destroyed trust really know\n",
      "\u001b[32mTrue: Mental-health \n",
      " Predicted: Mental-health\u001b[0m\n",
      "\n",
      "Sample 7:\n",
      "Text: really want go back hospitali difficulty expressing text person ive pretty much shut anything everyone since january med therapy year even treatment think redflag daily get frustrated see change today rent due money landlord accepts money order seems think secure way make payment cant seem motivate go bank get printed im going common argument even worth effort know simple thing hate always somehow convince simplest thing part know need cant seem find maybe posting help see stupid im pay rent try deal stuff\n",
      "\u001b[32mTrue: Mental-health \n",
      " Predicted: Mental-health\u001b[0m\n",
      "\n",
      "Sample 8:\n",
      "Text: every try type idk accidently say dik heehee funni\n",
      "\u001b[32mTrue: Non-mental-health \n",
      " Predicted: Non-mental-health\u001b[0m\n",
      "\n",
      "Sample 9:\n",
      "Text: feel sickto get bit understanding read httpwwwredditcomraskredditcommentsplketgayteeninneedhelp fast forward month life back normal except feel sick physically sort way ever since felt pretty intense self loathing want turn feel sick hey reddit cooky whoever make happy\n",
      "\u001b[32mTrue: Mental-health \n",
      " Predicted: Mental-health\u001b[0m\n",
      "\n",
      "Sample 10:\n",
      "Text: please talk someoneforget\n",
      "\u001b[31mTrue: Mental-health \n",
      " Predicted: Non-mental-health\u001b[0m\n",
      "\n",
      "Sample 11:\n",
      "Text: someone take blue cheese smell bad want\n",
      "\u001b[32mTrue: Non-mental-health \n",
      " Predicted: Non-mental-health\u001b[0m\n",
      "\n",
      "Sample 12:\n",
      "Text: spilt koolaid carpet making koolaid spilled stain im fucked\n",
      "\u001b[32mTrue: Non-mental-health \n",
      " Predicted: Non-mental-health\u001b[0m\n",
      "\n",
      "Sample 13:\n",
      "Text: know feeling one day pain much end life really painful everything hurt die suicide\n",
      "\u001b[32mTrue: Mental-health \n",
      " Predicted: Mental-health\u001b[0m\n",
      "\n",
      "Sample 14:\n",
      "Text: fantasy never realyou ever see movie think yourselfdamn wish person life full meaning adventure look real world see nothing empty boring life within\n",
      "\u001b[32mTrue: Mental-health \n",
      " Predicted: Mental-health\u001b[0m\n",
      "\n",
      "Sample 15:\n",
      "Text: father making suffer entirety middle school school ive made many good friend relationship came gone year emotionally destroyed dad retiring want go back home town forcing whole family go finished grade entering grade school nearly year ripped apart everybody old man fantasy im seeking emotional support whole family telling man stop baby\n",
      "\u001b[32mTrue: Non-mental-health \n",
      " Predicted: Non-mental-health\u001b[0m\n",
      "\n",
      "Sample 16:\n",
      "Text: noticed scar hip fake smile lip forced laugh adopted way care thing used love dare stand grave cryhow cry someone even know suicide note\n",
      "\u001b[32mTrue: Mental-health \n",
      " Predicted: Mental-health\u001b[0m\n",
      "\n",
      "Sample 17:\n",
      "Text: janam janam janam sath chalna younhi kasam tumhein kasam akay milna younhi el el\n",
      "\u001b[32mTrue: Non-mental-health \n",
      " Predicted: Non-mental-health\u001b[0m\n",
      "\n",
      "Sample 18:\n",
      "Text: really need someone talk toif aim pm ill give sni really appreciate advice comfortanything really joke\n",
      "\u001b[31mTrue: Mental-health \n",
      " Predicted: Non-mental-health\u001b[0m\n",
      "\n",
      "Sample 19:\n",
      "Text: baby dancin shes dancin another man\n",
      "\u001b[32mTrue: Non-mental-health \n",
      " Predicted: Non-mental-health\u001b[0m\n",
      "\n",
      "Sample 20:\n",
      "Text: even care anymoreim fat cant get fit im sad cant get happy nothing matter year whats even point anything get feeling last minute wish reset button life different person different family different country probably live see next solar eclipse world turning trash\n",
      "\u001b[32mTrue: Mental-health \n",
      " Predicted: Mental-health\u001b[0m\n"
     ]
    }
   ],
   "source": [
    "random_predictions(lstm_model,\n",
    "                   X_valid,\n",
    "                   y_valid,\n",
    "                   num_samples=20,\n",
    "                   class_names=class_names)"
   ]
  },
  {
   "cell_type": "markdown",
   "id": "d84e1268",
   "metadata": {
    "id": "dZG0RDGUDwe8",
    "papermill": {
     "duration": 1.105569,
     "end_time": "2023-07-18T09:28:52.472546",
     "exception": false,
     "start_time": "2023-07-18T09:28:51.366977",
     "status": "completed"
    },
    "tags": []
   },
   "source": [
    "The model_lstm is fit to the training data (X_train and y_train) for 10 epochs, with validation data (X_valid and y_valid) used for evaluation. The training progress is recorded in history_lstm, and the defined callbacks (cc) are utilized during training."
   ]
  },
  {
   "cell_type": "markdown",
   "id": "d35e9dfe",
   "metadata": {
    "id": "Yb23CDtFD3c8",
    "papermill": {
     "duration": 1.640888,
     "end_time": "2023-07-18T10:18:43.839453",
     "exception": false,
     "start_time": "2023-07-18T10:18:42.198565",
     "status": "completed"
    },
    "tags": []
   },
   "source": [
    "Post-training, the model's accuracy and loss evolution across epochs is visualized."
   ]
  },
  {
   "cell_type": "code",
   "execution_count": 88,
   "id": "4a775476",
   "metadata": {
    "id": "NZNFOdPnpq8b",
    "outputId": "f2a001fc-206e-4551-afee-fd7381246463",
    "papermill": {
     "duration": 19.027871,
     "end_time": "2023-07-18T10:19:30.173668",
     "exception": false,
     "start_time": "2023-07-18T10:19:11.145797",
     "status": "completed"
    },
    "tags": []
   },
   "outputs": [
    {
     "name": "stdout",
     "output_type": "stream",
     "text": [
      "\u001b[1m175/175\u001b[0m \u001b[32m━━━━━━━━━━━━━━━━━━━━\u001b[0m\u001b[37m\u001b[0m \u001b[1m2s\u001b[0m 12ms/step - accuracy: 0.9104 - loss: 0.2309\n"
     ]
    },
    {
     "data": {
      "text/plain": [
       "[0.22536934912204742, 0.9155157208442688]"
      ]
     },
     "execution_count": 88,
     "metadata": {},
     "output_type": "execute_result"
    }
   ],
   "source": [
    "lstm_model.evaluate(X_valid, y_valid)"
   ]
  },
  {
   "cell_type": "markdown",
   "id": "56081dbc",
   "metadata": {
    "id": "2fX1usVpD_F4",
    "papermill": {
     "duration": 1.647545,
     "end_time": "2023-07-18T10:19:33.309195",
     "exception": false,
     "start_time": "2023-07-18T10:19:31.661650",
     "status": "completed"
    },
    "tags": []
   },
   "source": [
    "Class predictions are generated by transforming predicted probabilities on the validation dataset."
   ]
  },
  {
   "cell_type": "markdown",
   "id": "47195a40",
   "metadata": {
    "id": "fGdZey03T5VO",
    "papermill": {
     "duration": 1.636069,
     "end_time": "2023-07-18T10:20:52.908435",
     "exception": false,
     "start_time": "2023-07-18T10:20:51.272366",
     "status": "completed"
    },
    "tags": []
   },
   "source": [
    "# **Model: GRU**"
   ]
  },
  {
   "cell_type": "code",
   "execution_count": 89,
   "id": "70baedff",
   "metadata": {
    "id": "UPV5d48QT8hP",
    "papermill": {
     "duration": 2.275796,
     "end_time": "2023-07-18T10:20:56.846636",
     "exception": false,
     "start_time": "2023-07-18T10:20:54.570840",
     "status": "completed"
    },
    "tags": []
   },
   "outputs": [
    {
     "name": "stderr",
     "output_type": "stream",
     "text": [
      "/Users/raja/anaconda3/lib/python3.11/site-packages/keras/src/layers/core/embedding.py:86: UserWarning: Argument `input_length` is deprecated. Just remove it.\n",
      "  warnings.warn(\n"
     ]
    }
   ],
   "source": [
    "# Set random seed and create embedding layer (new embedding layer for each model)\n",
    "tf.random.set_seed(42)\n",
    "\n",
    "from tensorflow.keras import layers\n",
    "model_GRU_embedding = layers.Embedding(input_dim=max_vocab_length,\n",
    "                                     output_dim=128,\n",
    "                                     embeddings_initializer=\"uniform\",\n",
    "                                     input_length=max_length,\n",
    "                                     name=\"embedding_GRU\")\n",
    "\n",
    "# Build an RNN using the GRU cell\n",
    "inputs = layers.Input(shape=(1,), dtype=\"string\")\n",
    "x = text_vectorizer(inputs)\n",
    "x = model_GRU_embedding(x)\n",
    "x = layers.GRU(64, return_sequences=True)(x)  # Add parentheses here\n",
    "x = layers.GRU(64)(x)\n",
    "x = layers.Dense(64, activation=\"relu\")(x) # optional dense layer after GRU cell\n",
    "\n",
    "outputs = layers.Dense(1, activation=\"sigmoid\")(x)\n",
    "\n",
    "model_GRU = tf.keras.Model(inputs, outputs, name=\"model_GRU\")"
   ]
  },
  {
   "cell_type": "markdown",
   "id": "8dbd564a",
   "metadata": {
    "id": "nHyk0zsfElFZ",
    "papermill": {
     "duration": 1.705644,
     "end_time": "2023-07-18T10:21:00.192203",
     "exception": false,
     "start_time": "2023-07-18T10:20:58.486559",
     "status": "completed"
    },
    "tags": []
   },
   "source": [
    "The 'model_GRU' is compiled using the Adam optimizer and binary cross-entropy as the loss function, suitable for binary classification tasks."
   ]
  },
  {
   "cell_type": "code",
   "execution_count": 90,
   "id": "23dd34b3",
   "metadata": {
    "id": "WYMRyhU9T9_w",
    "papermill": {
     "duration": 1.689515,
     "end_time": "2023-07-18T10:21:03.397025",
     "exception": false,
     "start_time": "2023-07-18T10:21:01.707510",
     "status": "completed"
    },
    "tags": []
   },
   "outputs": [],
   "source": [
    "# Compile GRU model\n",
    "model_GRU.compile(loss=\"binary_crossentropy\",\n",
    "                optimizer=tf.keras.optimizers.Adam(),\n",
    "                metrics=[\"accuracy\"])"
   ]
  },
  {
   "cell_type": "code",
   "execution_count": 91,
   "id": "ce38b835",
   "metadata": {
    "id": "sjx27-VpT_Dt",
    "outputId": "c2c8ac25-50e9-4b64-ccbd-8c3d7ef0665c",
    "papermill": {
     "duration": 1.546554,
     "end_time": "2023-07-18T10:21:06.609705",
     "exception": false,
     "start_time": "2023-07-18T10:21:05.063151",
     "status": "completed"
    },
    "tags": []
   },
   "outputs": [
    {
     "data": {
      "text/html": [
       "<pre style=\"white-space:pre;overflow-x:auto;line-height:normal;font-family:Menlo,'DejaVu Sans Mono',consolas,'Courier New',monospace\"><span style=\"font-weight: bold\">Model: \"model_GRU\"</span>\n",
       "</pre>\n"
      ],
      "text/plain": [
       "\u001b[1mModel: \"model_GRU\"\u001b[0m\n"
      ]
     },
     "metadata": {},
     "output_type": "display_data"
    },
    {
     "data": {
      "text/html": [
       "<pre style=\"white-space:pre;overflow-x:auto;line-height:normal;font-family:Menlo,'DejaVu Sans Mono',consolas,'Courier New',monospace\">┏━━━━━━━━━━━━━━━━━━━━━━━━━━━━━━━━━┳━━━━━━━━━━━━━━━━━━━━━━━━┳━━━━━━━━━━━━━━━┓\n",
       "┃<span style=\"font-weight: bold\"> Layer (type)                    </span>┃<span style=\"font-weight: bold\"> Output Shape           </span>┃<span style=\"font-weight: bold\">       Param # </span>┃\n",
       "┡━━━━━━━━━━━━━━━━━━━━━━━━━━━━━━━━━╇━━━━━━━━━━━━━━━━━━━━━━━━╇━━━━━━━━━━━━━━━┩\n",
       "│ input_layer_2 (<span style=\"color: #0087ff; text-decoration-color: #0087ff\">InputLayer</span>)      │ (<span style=\"color: #00d7ff; text-decoration-color: #00d7ff\">None</span>, <span style=\"color: #00af00; text-decoration-color: #00af00\">1</span>)              │             <span style=\"color: #00af00; text-decoration-color: #00af00\">0</span> │\n",
       "├─────────────────────────────────┼────────────────────────┼───────────────┤\n",
       "│ text_vectorization              │ (<span style=\"color: #00d7ff; text-decoration-color: #00d7ff\">None</span>, <span style=\"color: #00af00; text-decoration-color: #00af00\">232</span>)            │             <span style=\"color: #00af00; text-decoration-color: #00af00\">0</span> │\n",
       "│ (<span style=\"color: #0087ff; text-decoration-color: #0087ff\">TextVectorization</span>)             │                        │               │\n",
       "├─────────────────────────────────┼────────────────────────┼───────────────┤\n",
       "│ embedding_GRU (<span style=\"color: #0087ff; text-decoration-color: #0087ff\">Embedding</span>)       │ (<span style=\"color: #00d7ff; text-decoration-color: #00d7ff\">None</span>, <span style=\"color: #00af00; text-decoration-color: #00af00\">232</span>, <span style=\"color: #00af00; text-decoration-color: #00af00\">128</span>)       │     <span style=\"color: #00af00; text-decoration-color: #00af00\">7,482,880</span> │\n",
       "├─────────────────────────────────┼────────────────────────┼───────────────┤\n",
       "│ gru (<span style=\"color: #0087ff; text-decoration-color: #0087ff\">GRU</span>)                       │ (<span style=\"color: #00d7ff; text-decoration-color: #00d7ff\">None</span>, <span style=\"color: #00af00; text-decoration-color: #00af00\">232</span>, <span style=\"color: #00af00; text-decoration-color: #00af00\">64</span>)        │        <span style=\"color: #00af00; text-decoration-color: #00af00\">37,248</span> │\n",
       "├─────────────────────────────────┼────────────────────────┼───────────────┤\n",
       "│ gru_1 (<span style=\"color: #0087ff; text-decoration-color: #0087ff\">GRU</span>)                     │ (<span style=\"color: #00d7ff; text-decoration-color: #00d7ff\">None</span>, <span style=\"color: #00af00; text-decoration-color: #00af00\">64</span>)             │        <span style=\"color: #00af00; text-decoration-color: #00af00\">24,960</span> │\n",
       "├─────────────────────────────────┼────────────────────────┼───────────────┤\n",
       "│ dense_4 (<span style=\"color: #0087ff; text-decoration-color: #0087ff\">Dense</span>)                 │ (<span style=\"color: #00d7ff; text-decoration-color: #00d7ff\">None</span>, <span style=\"color: #00af00; text-decoration-color: #00af00\">64</span>)             │         <span style=\"color: #00af00; text-decoration-color: #00af00\">4,160</span> │\n",
       "├─────────────────────────────────┼────────────────────────┼───────────────┤\n",
       "│ dense_5 (<span style=\"color: #0087ff; text-decoration-color: #0087ff\">Dense</span>)                 │ (<span style=\"color: #00d7ff; text-decoration-color: #00d7ff\">None</span>, <span style=\"color: #00af00; text-decoration-color: #00af00\">1</span>)              │            <span style=\"color: #00af00; text-decoration-color: #00af00\">65</span> │\n",
       "└─────────────────────────────────┴────────────────────────┴───────────────┘\n",
       "</pre>\n"
      ],
      "text/plain": [
       "┏━━━━━━━━━━━━━━━━━━━━━━━━━━━━━━━━━┳━━━━━━━━━━━━━━━━━━━━━━━━┳━━━━━━━━━━━━━━━┓\n",
       "┃\u001b[1m \u001b[0m\u001b[1mLayer (type)                   \u001b[0m\u001b[1m \u001b[0m┃\u001b[1m \u001b[0m\u001b[1mOutput Shape          \u001b[0m\u001b[1m \u001b[0m┃\u001b[1m \u001b[0m\u001b[1m      Param #\u001b[0m\u001b[1m \u001b[0m┃\n",
       "┡━━━━━━━━━━━━━━━━━━━━━━━━━━━━━━━━━╇━━━━━━━━━━━━━━━━━━━━━━━━╇━━━━━━━━━━━━━━━┩\n",
       "│ input_layer_2 (\u001b[38;5;33mInputLayer\u001b[0m)      │ (\u001b[38;5;45mNone\u001b[0m, \u001b[38;5;34m1\u001b[0m)              │             \u001b[38;5;34m0\u001b[0m │\n",
       "├─────────────────────────────────┼────────────────────────┼───────────────┤\n",
       "│ text_vectorization              │ (\u001b[38;5;45mNone\u001b[0m, \u001b[38;5;34m232\u001b[0m)            │             \u001b[38;5;34m0\u001b[0m │\n",
       "│ (\u001b[38;5;33mTextVectorization\u001b[0m)             │                        │               │\n",
       "├─────────────────────────────────┼────────────────────────┼───────────────┤\n",
       "│ embedding_GRU (\u001b[38;5;33mEmbedding\u001b[0m)       │ (\u001b[38;5;45mNone\u001b[0m, \u001b[38;5;34m232\u001b[0m, \u001b[38;5;34m128\u001b[0m)       │     \u001b[38;5;34m7,482,880\u001b[0m │\n",
       "├─────────────────────────────────┼────────────────────────┼───────────────┤\n",
       "│ gru (\u001b[38;5;33mGRU\u001b[0m)                       │ (\u001b[38;5;45mNone\u001b[0m, \u001b[38;5;34m232\u001b[0m, \u001b[38;5;34m64\u001b[0m)        │        \u001b[38;5;34m37,248\u001b[0m │\n",
       "├─────────────────────────────────┼────────────────────────┼───────────────┤\n",
       "│ gru_1 (\u001b[38;5;33mGRU\u001b[0m)                     │ (\u001b[38;5;45mNone\u001b[0m, \u001b[38;5;34m64\u001b[0m)             │        \u001b[38;5;34m24,960\u001b[0m │\n",
       "├─────────────────────────────────┼────────────────────────┼───────────────┤\n",
       "│ dense_4 (\u001b[38;5;33mDense\u001b[0m)                 │ (\u001b[38;5;45mNone\u001b[0m, \u001b[38;5;34m64\u001b[0m)             │         \u001b[38;5;34m4,160\u001b[0m │\n",
       "├─────────────────────────────────┼────────────────────────┼───────────────┤\n",
       "│ dense_5 (\u001b[38;5;33mDense\u001b[0m)                 │ (\u001b[38;5;45mNone\u001b[0m, \u001b[38;5;34m1\u001b[0m)              │            \u001b[38;5;34m65\u001b[0m │\n",
       "└─────────────────────────────────┴────────────────────────┴───────────────┘\n"
      ]
     },
     "metadata": {},
     "output_type": "display_data"
    },
    {
     "data": {
      "text/html": [
       "<pre style=\"white-space:pre;overflow-x:auto;line-height:normal;font-family:Menlo,'DejaVu Sans Mono',consolas,'Courier New',monospace\"><span style=\"font-weight: bold\"> Total params: </span><span style=\"color: #00af00; text-decoration-color: #00af00\">7,549,313</span> (28.80 MB)\n",
       "</pre>\n"
      ],
      "text/plain": [
       "\u001b[1m Total params: \u001b[0m\u001b[38;5;34m7,549,313\u001b[0m (28.80 MB)\n"
      ]
     },
     "metadata": {},
     "output_type": "display_data"
    },
    {
     "data": {
      "text/html": [
       "<pre style=\"white-space:pre;overflow-x:auto;line-height:normal;font-family:Menlo,'DejaVu Sans Mono',consolas,'Courier New',monospace\"><span style=\"font-weight: bold\"> Trainable params: </span><span style=\"color: #00af00; text-decoration-color: #00af00\">7,549,313</span> (28.80 MB)\n",
       "</pre>\n"
      ],
      "text/plain": [
       "\u001b[1m Trainable params: \u001b[0m\u001b[38;5;34m7,549,313\u001b[0m (28.80 MB)\n"
      ]
     },
     "metadata": {},
     "output_type": "display_data"
    },
    {
     "data": {
      "text/html": [
       "<pre style=\"white-space:pre;overflow-x:auto;line-height:normal;font-family:Menlo,'DejaVu Sans Mono',consolas,'Courier New',monospace\"><span style=\"font-weight: bold\"> Non-trainable params: </span><span style=\"color: #00af00; text-decoration-color: #00af00\">0</span> (0.00 B)\n",
       "</pre>\n"
      ],
      "text/plain": [
       "\u001b[1m Non-trainable params: \u001b[0m\u001b[38;5;34m0\u001b[0m (0.00 B)\n"
      ]
     },
     "metadata": {},
     "output_type": "display_data"
    }
   ],
   "source": [
    "# Get a summary of the GRU model\n",
    "model_GRU.summary()"
   ]
  },
  {
   "cell_type": "markdown",
   "id": "41e6f0d5",
   "metadata": {
    "id": "_oRAcKXiE0rE",
    "papermill": {
     "duration": 1.660231,
     "end_time": "2023-07-18T10:21:09.910536",
     "exception": false,
     "start_time": "2023-07-18T10:21:08.250305",
     "status": "completed"
    },
    "tags": []
   },
   "source": [
    "A checkpoint callback is created for the GRU model."
   ]
  },
  {
   "cell_type": "code",
   "execution_count": 92,
   "id": "c4cb0102",
   "metadata": {
    "id": "RC1mbGYvWqvC",
    "papermill": {
     "duration": 1.658032,
     "end_time": "2023-07-18T10:21:13.093305",
     "exception": false,
     "start_time": "2023-07-18T10:21:11.435273",
     "status": "completed"
    },
    "tags": []
   },
   "outputs": [],
   "source": [
    "# Define the checkpoint path\n",
    "checkpoint_path = \"best_model_GRU.keras\"\n",
    "\n",
    "cc = create_checkpoint_callback(checkpoint_path)"
   ]
  },
  {
   "cell_type": "markdown",
   "id": "2e86b38e",
   "metadata": {
    "id": "5UIaBvQdE4CY",
    "papermill": {
     "duration": 1.642087,
     "end_time": "2023-07-18T10:21:16.264649",
     "exception": false,
     "start_time": "2023-07-18T10:21:14.622562",
     "status": "completed"
    },
    "tags": []
   },
   "source": [
    "The improved  is fit to the training data (X_train and y_train) for 10 epochs, with validation data (X_valid and y_valid) used for evaluation. The training progress is recorded in model_GRU_history, and the defined callbacks (cc) are utilized during training."
   ]
  },
  {
   "cell_type": "code",
   "execution_count": 93,
   "id": "2c5cd321",
   "metadata": {
    "id": "4XzPs7RAUADH",
    "outputId": "a51dc9ac-015a-4780-ecdb-11f16145d21a",
    "papermill": {
     "duration": 1948.17152,
     "end_time": "2023-07-18T10:53:46.079167",
     "exception": false,
     "start_time": "2023-07-18T10:21:17.907647",
     "status": "completed"
    },
    "tags": []
   },
   "outputs": [
    {
     "name": "stdout",
     "output_type": "stream",
     "text": [
      "Epoch 1/10\n",
      "\u001b[1m697/697\u001b[0m \u001b[32m━━━━━━━━━━━━━━━━━━━━\u001b[0m\u001b[37m\u001b[0m \u001b[1m0s\u001b[0m 46ms/step - accuracy: 0.5894 - loss: 0.6219\n",
      "Epoch 1: val_accuracy improved from -inf to 0.91587, saving model to best_model_GRU.keras\n",
      "\u001b[1m697/697\u001b[0m \u001b[32m━━━━━━━━━━━━━━━━━━━━\u001b[0m\u001b[37m\u001b[0m \u001b[1m38s\u001b[0m 53ms/step - accuracy: 0.5896 - loss: 0.6217 - val_accuracy: 0.9159 - val_loss: 0.2267\n",
      "Epoch 2/10\n",
      "\u001b[1m697/697\u001b[0m \u001b[32m━━━━━━━━━━━━━━━━━━━━\u001b[0m\u001b[37m\u001b[0m \u001b[1m0s\u001b[0m 49ms/step - accuracy: 0.9235 - loss: 0.1994\n",
      "Epoch 2: val_accuracy did not improve from 0.91587\n",
      "\u001b[1m697/697\u001b[0m \u001b[32m━━━━━━━━━━━━━━━━━━━━\u001b[0m\u001b[37m\u001b[0m \u001b[1m36s\u001b[0m 52ms/step - accuracy: 0.9236 - loss: 0.1994 - val_accuracy: 0.9132 - val_loss: 0.2286\n",
      "Epoch 3/10\n",
      "\u001b[1m696/697\u001b[0m \u001b[32m━━━━━━━━━━━━━━━━━━━\u001b[0m\u001b[37m━\u001b[0m \u001b[1m0s\u001b[0m 48ms/step - accuracy: 0.9593 - loss: 0.1154\n",
      "Epoch 3: val_accuracy did not improve from 0.91587\n",
      "\u001b[1m697/697\u001b[0m \u001b[32m━━━━━━━━━━━━━━━━━━━━\u001b[0m\u001b[37m\u001b[0m \u001b[1m36s\u001b[0m 51ms/step - accuracy: 0.9594 - loss: 0.1154 - val_accuracy: 0.8870 - val_loss: 0.3157\n",
      "Epoch 4/10\n",
      "\u001b[1m697/697\u001b[0m \u001b[32m━━━━━━━━━━━━━━━━━━━━\u001b[0m\u001b[37m\u001b[0m \u001b[1m0s\u001b[0m 49ms/step - accuracy: 0.9786 - loss: 0.0696\n",
      "Epoch 4: val_accuracy did not improve from 0.91587\n",
      "\u001b[1m697/697\u001b[0m \u001b[32m━━━━━━━━━━━━━━━━━━━━\u001b[0m\u001b[37m\u001b[0m \u001b[1m36s\u001b[0m 52ms/step - accuracy: 0.9786 - loss: 0.0696 - val_accuracy: 0.8906 - val_loss: 0.3185\n",
      "Epoch 5/10\n",
      "\u001b[1m696/697\u001b[0m \u001b[32m━━━━━━━━━━━━━━━━━━━\u001b[0m\u001b[37m━\u001b[0m \u001b[1m0s\u001b[0m 48ms/step - accuracy: 0.9875 - loss: 0.0466\n",
      "Epoch 5: val_accuracy did not improve from 0.91587\n",
      "\u001b[1m697/697\u001b[0m \u001b[32m━━━━━━━━━━━━━━━━━━━━\u001b[0m\u001b[37m\u001b[0m \u001b[1m35s\u001b[0m 51ms/step - accuracy: 0.9875 - loss: 0.0466 - val_accuracy: 0.9001 - val_loss: 0.3415\n",
      "Epoch 6/10\n",
      "\u001b[1m696/697\u001b[0m \u001b[32m━━━━━━━━━━━━━━━━━━━\u001b[0m\u001b[37m━\u001b[0m \u001b[1m0s\u001b[0m 48ms/step - accuracy: 0.9913 - loss: 0.0321\n",
      "Epoch 6: val_accuracy did not improve from 0.91587\n",
      "\u001b[1m697/697\u001b[0m \u001b[32m━━━━━━━━━━━━━━━━━━━━\u001b[0m\u001b[37m\u001b[0m \u001b[1m35s\u001b[0m 51ms/step - accuracy: 0.9913 - loss: 0.0321 - val_accuracy: 0.8960 - val_loss: 0.3975\n",
      "Epoch 7/10\n",
      "\u001b[1m696/697\u001b[0m \u001b[32m━━━━━━━━━━━━━━━━━━━\u001b[0m\u001b[37m━\u001b[0m \u001b[1m0s\u001b[0m 48ms/step - accuracy: 0.9933 - loss: 0.0228\n",
      "Epoch 7: val_accuracy did not improve from 0.91587\n",
      "\u001b[1m697/697\u001b[0m \u001b[32m━━━━━━━━━━━━━━━━━━━━\u001b[0m\u001b[37m\u001b[0m \u001b[1m36s\u001b[0m 51ms/step - accuracy: 0.9933 - loss: 0.0228 - val_accuracy: 0.8963 - val_loss: 0.3932\n",
      "Epoch 8/10\n",
      "\u001b[1m696/697\u001b[0m \u001b[32m━━━━━━━━━━━━━━━━━━━\u001b[0m\u001b[37m━\u001b[0m \u001b[1m0s\u001b[0m 48ms/step - accuracy: 0.9951 - loss: 0.0166\n",
      "Epoch 8: val_accuracy did not improve from 0.91587\n",
      "\u001b[1m697/697\u001b[0m \u001b[32m━━━━━━━━━━━━━━━━━━━━\u001b[0m\u001b[37m\u001b[0m \u001b[1m36s\u001b[0m 51ms/step - accuracy: 0.9951 - loss: 0.0167 - val_accuracy: 0.9071 - val_loss: 0.3594\n",
      "Epoch 9/10\n",
      "\u001b[1m697/697\u001b[0m \u001b[32m━━━━━━━━━━━━━━━━━━━━\u001b[0m\u001b[37m\u001b[0m \u001b[1m0s\u001b[0m 48ms/step - accuracy: 0.9961 - loss: 0.0141\n",
      "Epoch 9: val_accuracy did not improve from 0.91587\n",
      "\u001b[1m697/697\u001b[0m \u001b[32m━━━━━━━━━━━━━━━━━━━━\u001b[0m\u001b[37m\u001b[0m \u001b[1m36s\u001b[0m 51ms/step - accuracy: 0.9961 - loss: 0.0141 - val_accuracy: 0.9087 - val_loss: 0.3534\n",
      "Epoch 10/10\n",
      "\u001b[1m696/697\u001b[0m \u001b[32m━━━━━━━━━━━━━━━━━━━\u001b[0m\u001b[37m━\u001b[0m \u001b[1m0s\u001b[0m 49ms/step - accuracy: 0.9970 - loss: 0.0093\n",
      "Epoch 10: val_accuracy did not improve from 0.91587\n",
      "\u001b[1m697/697\u001b[0m \u001b[32m━━━━━━━━━━━━━━━━━━━━\u001b[0m\u001b[37m\u001b[0m \u001b[1m36s\u001b[0m 51ms/step - accuracy: 0.9970 - loss: 0.0093 - val_accuracy: 0.9040 - val_loss: 0.3978\n"
     ]
    }
   ],
   "source": [
    "# Fit model\n",
    "model_GRU_history = model_GRU.fit(X_train, y_train,\n",
    "                              epochs=10,\n",
    "                              validation_data=(X_valid, y_valid),\n",
    "                              callbacks=[cc])"
   ]
  },
  {
   "cell_type": "markdown",
   "id": "9a3fd19e",
   "metadata": {
    "id": "nKkdvnN6E9kI",
    "papermill": {
     "duration": 1.942108,
     "end_time": "2023-07-18T10:53:50.145882",
     "exception": false,
     "start_time": "2023-07-18T10:53:48.203774",
     "status": "completed"
    },
    "tags": []
   },
   "source": [
    "The model's accuracy and loss history is visualized post-training."
   ]
  },
  {
   "cell_type": "code",
   "execution_count": 94,
   "id": "a7279c72",
   "metadata": {
    "id": "_c4h9fhGWPb1",
    "outputId": "4dce9263-2a6f-4894-b044-ae70ad607539",
    "papermill": {
     "duration": 2.628212,
     "end_time": "2023-07-18T10:53:54.853686",
     "exception": false,
     "start_time": "2023-07-18T10:53:52.225474",
     "status": "completed"
    },
    "tags": []
   },
   "outputs": [
    {
     "data": {
      "image/png": "[encoded data removed]",
      "text/plain": [
       "<Figure size 640x480 with 1 Axes>"
      ]
     },
     "metadata": {},
     "output_type": "display_data"
    },
    {
     "data": {
      "image/png": "[encoded data removed]",
      "text/plain": [
       "<Figure size 640x480 with 1 Axes>"
      ]
     },
     "metadata": {},
     "output_type": "display_data"
    }
   ],
   "source": [
    "# Plot Utility\n",
    "def plot_graphs(history, string):\n",
    "  plt.plot(history.history[string])\n",
    "  plt.plot(history.history['val_'+string])\n",
    "  plt.xlabel(\"Epochs\")\n",
    "  plt.ylabel(string)\n",
    "  plt.legend([string, 'val_'+string])\n",
    "  plt.show()\n",
    "\n",
    "# Plot the accuracy and loss history\n",
    "plot_graphs(model_GRU_history, 'accuracy')\n",
    "plot_graphs(model_GRU_history, 'loss')"
   ]
  },
  {
   "cell_type": "code",
   "execution_count": 95,
   "id": "3975d8bf",
   "metadata": {
    "id": "h_p7KXHHWRBT",
    "papermill": {
     "duration": 7.665012,
     "end_time": "2023-07-18T10:54:08.748424",
     "exception": false,
     "start_time": "2023-07-18T10:54:01.083412",
     "status": "completed"
    },
    "tags": []
   },
   "outputs": [],
   "source": [
    "# Load the entire model\n",
    "model_GRU = load_model(checkpoint_path)"
   ]
  },
  {
   "cell_type": "markdown",
   "id": "23664a24",
   "metadata": {
    "id": "wE7JLCqgFBv8",
    "papermill": {
     "duration": 2.16834,
     "end_time": "2023-07-18T10:54:13.017407",
     "exception": false,
     "start_time": "2023-07-18T10:54:10.849067",
     "status": "completed"
    },
    "tags": []
   },
   "source": [
    "Model evaluation occurs on the validation set."
   ]
  },
  {
   "cell_type": "code",
   "execution_count": 96,
   "id": "a83933e8",
   "metadata": {
    "id": "ozeUm3ZLWSxD",
    "outputId": "277de23c-438b-43ba-c4e0-6f2be519f973",
    "papermill": {
     "duration": 13.114936,
     "end_time": "2023-07-18T10:54:28.299040",
     "exception": false,
     "start_time": "2023-07-18T10:54:15.184104",
     "status": "completed"
    },
    "tags": []
   },
   "outputs": [
    {
     "name": "stdout",
     "output_type": "stream",
     "text": [
      "\u001b[1m175/175\u001b[0m \u001b[32m━━━━━━━━━━━━━━━━━━━━\u001b[0m\u001b[37m\u001b[0m \u001b[1m2s\u001b[0m 12ms/step - accuracy: 0.9120 - loss: 0.2298\n"
     ]
    },
    {
     "data": {
      "text/plain": [
       "[0.22674039006233215, 0.9158744215965271]"
      ]
     },
     "execution_count": 96,
     "metadata": {},
     "output_type": "execute_result"
    }
   ],
   "source": [
    "model_GRU.evaluate(X_valid, y_valid)"
   ]
  },
  {
   "cell_type": "markdown",
   "id": "61113533",
   "metadata": {
    "id": "0fv6-RljFD0y",
    "papermill": {
     "duration": 2.174813,
     "end_time": "2023-07-18T10:54:32.577685",
     "exception": false,
     "start_time": "2023-07-18T10:54:30.402872",
     "status": "completed"
    },
    "tags": []
   },
   "source": [
    "The model predicts probabilities on the validation set, converting these into class predictions."
   ]
  },
  {
   "cell_type": "code",
   "execution_count": 97,
   "id": "0342b20b",
   "metadata": {
    "id": "gOGx89ydUBar",
    "outputId": "cb4b3388-02f2-4654-8335-5749b57d62b5",
    "papermill": {
     "duration": 12.755191,
     "end_time": "2023-07-18T10:54:47.480537",
     "exception": false,
     "start_time": "2023-07-18T10:54:34.725346",
     "status": "completed"
    },
    "tags": []
   },
   "outputs": [
    {
     "name": "stdout",
     "output_type": "stream",
     "text": [
      "\u001b[1m175/175\u001b[0m \u001b[32m━━━━━━━━━━━━━━━━━━━━\u001b[0m\u001b[37m\u001b[0m \u001b[1m2s\u001b[0m 9ms/step\n"
     ]
    },
    {
     "data": {
      "text/plain": [
       "((5575, 1),\n",
       " array([[0.32981187],\n",
       "        [0.02121094],\n",
       "        [0.9546341 ],\n",
       "        [0.07093085],\n",
       "        [0.7601235 ],\n",
       "        [0.90935177],\n",
       "        [0.91980696],\n",
       "        [0.93996817],\n",
       "        [0.9445129 ],\n",
       "        [0.2996596 ]], dtype=float32))"
      ]
     },
     "execution_count": 97,
     "metadata": {},
     "output_type": "execute_result"
    }
   ],
   "source": [
    "# Make predictions on the validation data\n",
    "model_GRU_pred_probs = model_GRU.predict(X_valid)\n",
    "model_GRU_pred_probs.shape, model_GRU_pred_probs[:10]"
   ]
  },
  {
   "cell_type": "code",
   "execution_count": 98,
   "id": "14acbfc8",
   "metadata": {
    "id": "ICU0ysxFdTtN",
    "outputId": "82b61ed4-47f0-4307-fe3d-99b4f652ee18",
    "papermill": {
     "duration": 2.145115,
     "end_time": "2023-07-18T10:54:51.638511",
     "exception": false,
     "start_time": "2023-07-18T10:54:49.493396",
     "status": "completed"
    },
    "tags": []
   },
   "outputs": [
    {
     "data": {
      "text/plain": [
       "<tf.Tensor: shape=(10,), dtype=float32, numpy=array([0., 0., 1., 0., 1., 1., 1., 1., 1., 0.], dtype=float32)>"
      ]
     },
     "execution_count": 98,
     "metadata": {},
     "output_type": "execute_result"
    }
   ],
   "source": [
    "# Convert prediction probabilities to labels\n",
    "model_GRU_preds = tf.squeeze(tf.round(model_GRU_pred_probs))\n",
    "model_GRU_preds[:10]"
   ]
  },
  {
   "cell_type": "markdown",
   "id": "20324bfa",
   "metadata": {
    "id": "IG0ZGbl4FGm-",
    "papermill": {
     "duration": 2.122781,
     "end_time": "2023-07-18T10:54:55.906770",
     "exception": false,
     "start_time": "2023-07-18T10:54:53.783989",
     "status": "completed"
    },
    "tags": []
   },
   "source": [
    "Performance metrics, including accuracy, precision, recall, and F1-score, are computed for model evaluation."
   ]
  },
  {
   "cell_type": "code",
   "execution_count": 99,
   "id": "6ef55b2a",
   "metadata": {
    "id": "JrmtwK4tUDJ9",
    "outputId": "9cb162d6-6470-483f-efa9-1633849bafa5",
    "papermill": {
     "duration": 2.131381,
     "end_time": "2023-07-18T10:55:00.028017",
     "exception": false,
     "start_time": "2023-07-18T10:54:57.896636",
     "status": "completed"
    },
    "tags": []
   },
   "outputs": [
    {
     "data": {
      "text/plain": [
       "{'accuracy': 91.58744394618834,\n",
       " 'precision': 0.9165497934850814,\n",
       " 'recall': 0.9158744394618834,\n",
       " 'f1': 0.9158214744588596}"
      ]
     },
     "execution_count": 99,
     "metadata": {},
     "output_type": "execute_result"
    }
   ],
   "source": [
    "# Calcuate model_GRU results\n",
    "model_GRU_results = calculate_results(y_true=y_valid,\n",
    "                                    y_pred=model_GRU_preds)\n",
    "model_GRU_results"
   ]
  },
  {
   "cell_type": "markdown",
   "id": "1ab83e04",
   "metadata": {
    "id": "l9wuQgNiFITd",
    "papermill": {
     "duration": 2.145085,
     "end_time": "2023-07-18T10:55:04.296677",
     "exception": false,
     "start_time": "2023-07-18T10:55:02.151592",
     "status": "completed"
    },
    "tags": []
   },
   "source": [
    "The baseline model's performance is compared with the GRU model."
   ]
  },
  {
   "cell_type": "code",
   "execution_count": 100,
   "id": "a2d6b45a",
   "metadata": {
    "id": "7ZOKqAflUEv6",
    "outputId": "9626be21-e68b-4fee-9cab-4f163611444c",
    "papermill": {
     "duration": 2.204348,
     "end_time": "2023-07-18T10:55:08.615996",
     "exception": false,
     "start_time": "2023-07-18T10:55:06.411648",
     "status": "completed"
    },
    "tags": []
   },
   "outputs": [
    {
     "name": "stdout",
     "output_type": "stream",
     "text": [
      "Baseline accuracy: 85.43, New accuracy: 91.59, Difference: 6.15\n",
      "Baseline precision: 0.88, New precision: 0.92, Difference: 0.04\n",
      "Baseline recall: 0.85, New recall: 0.92, Difference: 0.06\n",
      "Baseline f1: 0.85, New f1: 0.92, Difference: 0.06\n"
     ]
    }
   ],
   "source": [
    "# Compare to baseline\n",
    "compare_baseline_to_new_results(baseline_results, model_GRU_results)"
   ]
  },
  {
   "cell_type": "code",
   "execution_count": 101,
   "id": "d16ec725",
   "metadata": {
    "id": "lSkKCTyQsGlU",
    "outputId": "db5b7981-8675-42b8-f148-d27899b88fb2",
    "papermill": {
     "duration": 12.313477,
     "end_time": "2023-07-18T10:55:23.116949",
     "exception": false,
     "start_time": "2023-07-18T10:55:10.803472",
     "status": "completed"
    },
    "tags": []
   },
   "outputs": [
    {
     "name": "stdout",
     "output_type": "stream",
     "text": [
      "\u001b[1m175/175\u001b[0m \u001b[32m━━━━━━━━━━━━━━━━━━━━\u001b[0m\u001b[37m\u001b[0m \u001b[1m2s\u001b[0m 9ms/step\n"
     ]
    }
   ],
   "source": [
    "y_true = y_valid.tolist()  # Convert labels to a list\n",
    "preds = model_GRU.predict(X_valid)\n",
    "y_probs = preds.squeeze().tolist()  # Store the prediction probabilities as a list\n",
    "y_preds = tf.round(y_probs).numpy().tolist()  # Convert probabilities to class predictions and convert to a list\n"
   ]
  },
  {
   "cell_type": "markdown",
   "id": "f77b8302",
   "metadata": {
    "id": "saL9KSmAFLwA",
    "papermill": {
     "duration": 2.143747,
     "end_time": "2023-07-18T10:55:27.421436",
     "exception": false,
     "start_time": "2023-07-18T10:55:25.277689",
     "status": "completed"
    },
    "tags": []
   },
   "source": [
    "A confusion matrix is created for visualization of the model's classification performance. The matrix readability is enhanced via a custom function."
   ]
  },
  {
   "cell_type": "code",
   "execution_count": 102,
   "id": "6784c37e",
   "metadata": {
    "id": "_DPF76YfsGlV",
    "outputId": "7b0c842f-e19c-4c6b-cd10-18cc58f3291e",
    "papermill": {
     "duration": 2.144367,
     "end_time": "2023-07-18T10:55:31.706895",
     "exception": false,
     "start_time": "2023-07-18T10:55:29.562528",
     "status": "completed"
    },
    "tags": []
   },
   "outputs": [
    {
     "data": {
      "text/plain": [
       "array([[2638,  177],\n",
       "       [ 292, 2468]])"
      ]
     },
     "execution_count": 102,
     "metadata": {},
     "output_type": "execute_result"
    }
   ],
   "source": [
    "# Check out the non-prettified confusion matrix\n",
    "from sklearn.metrics import confusion_matrix\n",
    "confusion_matrix(y_true=y_true,\n",
    "                 y_pred=y_preds)"
   ]
  },
  {
   "cell_type": "code",
   "execution_count": 103,
   "id": "8e283133",
   "metadata": {
    "id": "2hNHQ9eOsGlW",
    "outputId": "f9b79ffa-6f0f-472f-a615-4c2d2c833f86",
    "papermill": {
     "duration": 2.619939,
     "end_time": "2023-07-18T10:55:36.470553",
     "exception": false,
     "start_time": "2023-07-18T10:55:33.850614",
     "status": "completed"
    },
    "tags": []
   },
   "outputs": [
    {
     "data": {
      "image/png": "[encoded data removed]",
      "text/plain": [
       "<Figure size 1500x1500 with 2 Axes>"
      ]
     },
     "metadata": {},
     "output_type": "display_data"
    }
   ],
   "source": [
    "# Make a prettier confusion matrix\n",
    "make_confusion_matrix(y_true=y_true,\n",
    "                      y_pred=y_preds,\n",
    "                      classes=class_names,\n",
    "                      figsize=(15, 15),\n",
    "                      text_size=10)"
   ]
  },
  {
   "cell_type": "markdown",
   "id": "28fc0eb4",
   "metadata": {
    "id": "t7mGaGelFOMl",
    "papermill": {
     "duration": 2.135208,
     "end_time": "2023-07-18T10:55:40.622677",
     "exception": false,
     "start_time": "2023-07-18T10:55:38.487469",
     "status": "completed"
    },
    "tags": []
   },
   "source": [
    "Lastly, the 'random_predictions' function generates and displays predictions on random samples."
   ]
  },
  {
   "cell_type": "code",
   "execution_count": 104,
   "id": "d51fd170",
   "metadata": {
    "id": "WLH4TXKGsGlX",
    "outputId": "bddc3b6c-3c3a-4095-8478-44eec7f5733f",
    "papermill": {
     "duration": 2.28243,
     "end_time": "2023-07-18T10:55:45.042696",
     "exception": false,
     "start_time": "2023-07-18T10:55:42.760266",
     "status": "completed"
    },
    "tags": []
   },
   "outputs": [
    {
     "name": "stdout",
     "output_type": "stream",
     "text": [
      "\u001b[1m1/1\u001b[0m \u001b[32m━━━━━━━━━━━━━━━━━━━━\u001b[0m\u001b[37m\u001b[0m \u001b[1m0s\u001b[0m 35ms/step\n",
      "\n",
      "Sample 1:\n",
      "Text: financial crisis evicted house lost lighti feel like everythings gone shit fam financial problem year roll one day evicted cant shake feeling restlessness since need take care mum time back lost girl bcs got college like reason think shot spent le time going back almost always weekend whenever free time serious since family knew abt visited others place holiday everything went shit now miss lot year still feel yesterday tried go feel burnt seems happy friend lost world friend mine mind keep telling long happy cant foolmyself longer peace home study always feel like somethings going cant sleep want thing like go home see smile\n",
      "\u001b[32mTrue: Mental-health \n",
      " Predicted: Mental-health\u001b[0m\n",
      "\n",
      "Sample 2:\n",
      "Text: anybody first generation iphone se black reddit icon please hit youre going update please let know first really want black icon back\n",
      "\u001b[32mTrue: Non-mental-health \n",
      " Predicted: Non-mental-health\u001b[0m\n",
      "\n",
      "Sample 3:\n",
      "Text: biting bulletim year old drop working software developer since ive spend time learning trying improve everything around seems falling apart ive always bullied downer seems life cycle unhappiness time checkout know hurt family shock people around feel like ive wasted everyones timeenergy enough already yes therapy made feel like shit guess rant ive mindset many time feel much getting better point seems impossible\n",
      "\u001b[32mTrue: Mental-health \n",
      " Predicted: Mental-health\u001b[0m\n",
      "\n",
      "Sample 4:\n",
      "Text: im updating eso taking everrrrrrrr\n",
      "\u001b[32mTrue: Non-mental-health \n",
      " Predicted: Non-mental-health\u001b[0m\n",
      "\n",
      "Sample 5:\n",
      "Text: thinking killing last daysi thought recently getting argument girlfriend parent secret relationship told beginning good idea talk parent disagreed dumb kept secret relationship secret part love girlfriend mom took phone read message sending last day girlfriend said deleting everything found lie parent said stay away contact im home think hanging ive tried hard last year feel like slap face im tried life crapping matter hard try seem good enough world idk im lose feel like option end point\n",
      "\u001b[32mTrue: Mental-health \n",
      " Predicted: Mental-health\u001b[0m\n",
      "\n",
      "Sample 6:\n",
      "Text: feeling worthless take year figure im addictim doctor prescribed benzos benzos since im guess im depth withdrawal keep reliving whole life new pyschiatrist cussed friday month ago messed rx reduced w refill set telehealth appt march th informed said get rx fix march th till hell friday spoke w nurse told change called said im making look crazy wanted go script change person sorry im going suffer long guess thought pleasantly suffer silence asked cold heartedly want prescribe valium liking scolded calling cv make sure dont pick refill told wanted prescribed year want billed two telehealth appts hung phone screaming bye moved hour away leaf office pick anyways guess im addict keep hating im anything right addicted benzos never anything hard dealt w ignorant doc past pull shit take business street isnt prescribed benzos doesnt know somebody know somebody get benzos im broke getting older dont want illegal shit whole shit questioning relationship failure like damn prescribed wrong drug chose heroin younger least help benzo addict get fucked system making u look pyscho doc make mistake arent feeling good even mention risk getting pegged addict losing rx sanity im really hating hour ride tomorrow make thought dissipate feeling hopeless anxiety anxiety thanks\n",
      "\u001b[32mTrue: Mental-health \n",
      " Predicted: Mental-health\u001b[0m\n",
      "\n",
      "Sample 7:\n",
      "Text: feel love someone online fuck dont qant shit really dont stress please help\n",
      "\u001b[32mTrue: Non-mental-health \n",
      " Predicted: Non-mental-health\u001b[0m\n",
      "\n",
      "Sample 8:\n",
      "Text: even knowive made set condition mind going kill believe fine may snap break condition comfort worry one know want anybody know exist society like possible\n",
      "\u001b[32mTrue: Mental-health \n",
      " Predicted: Mental-health\u001b[0m\n",
      "\n",
      "Sample 9:\n",
      "Text: think going kill year old male know father left year old negligent disconnected alcoholic kid mom used abuse relentlessly beat belt extension chord punch face tell im stupid burned cigarette time taken year pay student loan debt degree completely useless live poverty hurt knee month ago cant even manual labour job used get everything seems completely hopeless clue totally atomised family support live pay check pay check cause living high even though work hour week barely scraping whenever start get ahead something bad happens month ago shell dollar get car fixed needed new control arm plus new tire plus alignment tow need new muffler pas emission test can not legally drive work knee get better grinding like mad man shelling physio therapy get knee fixed costing ton ill laid bed month able work able pay rent bank account need last rest month life exhausting work hard can never pull pit im sad anything hopeless depressed stuck escape\n",
      "\u001b[32mTrue: Mental-health \n",
      " Predicted: Mental-health\u001b[0m\n",
      "\n",
      "Sample 10:\n",
      "Text: stupid state taking long finish covid app month since latest news app tested new info since since live red prefer call blue state people wont take covid seriously fuck kemp\n",
      "\u001b[32mTrue: Non-mental-health \n",
      " Predicted: Non-mental-health\u001b[0m\n",
      "\n",
      "Sample 11:\n",
      "Text: attracted celebrity crige attracted anime girl scientifically attracted celebrity peson attracted simps bother never reach somehow possible one trillion chance crush na celebrity seeing canvas art flawed person might completely fake anime girl exist simps bother never reach everyone know thats truth crush character literally see whole character show literally get know literally flawless\n",
      "\u001b[32mTrue: Non-mental-health \n",
      " Predicted: Non-mental-health\u001b[0m\n",
      "\n",
      "Sample 12:\n",
      "Text: sure might jump bridge onto highway might jump work want fucking live anymore wanted die fucking long feel like thing ever really wanted probably going actually bitch hopefully find courage finally kill really reason anything life basically perfect always wanted kill always will might well get ruin life life around hopefully killing today\n",
      "\u001b[32mTrue: Mental-health \n",
      " Predicted: Mental-health\u001b[0m\n",
      "\n",
      "Sample 13:\n",
      "Text: need brace went dentist earlier teeth cleaned checked didnt concern although chatting amongst dentist assistant apprentice think made wonder going need retainer overbite underbite no know crooked teeth didnt really care turn teeth blocking teeth coming need teeth pulled brace brace literally last thing wanted ive heard hurt lot need avoid certain food dont want dont know cant eat drink able satiate orange juice addiction able eat dad butter chicken beef broccoli even survive pain\n",
      "\u001b[32mTrue: Non-mental-health \n",
      " Predicted: Non-mental-health\u001b[0m\n",
      "\n",
      "Sample 14:\n",
      "Text: wont post thr black chapter wont post im thinking whats gon na happen next chapter idea ill post\n",
      "\u001b[32mTrue: Non-mental-health \n",
      " Predicted: Non-mental-health\u001b[0m\n",
      "\n",
      "Sample 15:\n",
      "Text: wtf kissing booth coming next year like bruhhhhh second one came\n",
      "\u001b[32mTrue: Non-mental-health \n",
      " Predicted: Non-mental-health\u001b[0m\n",
      "\n",
      "Sample 16:\n",
      "Text: im year old ambition want get far life thought killing haunting long time want end itthis going long one type read long piece text think move elsewhere im year old male live uk im aspiring filmmaker im currently university filmmaking course young age wideeyed kid saw world playground imagination run wild place become almost anything time life discovered many thing created many goal aspire towards everyday look important relic something thrive towards time childhood fun full optimism carried forward early year teenager friend school moved first sense loss next grandmother grandfather passing away within year carried forward time high school optimism still alive far remember high school fun time dispute overly shy able gain good group friend dream ambition seemed closer ever began watch film range arthouse cinema built love writing able come story im still working even day shy think remembered everyone latter half final year got stage sang song everyone loved remember boy came shell sang heart attended college soon finally wanted held back little poor math grade level one art design medium course first moving towards level film course year went began lose confidence disregarding script calling awful even deleting computer attending class began lose hope able get highest grade class got university made happy spark gone know ive enjoyed university far ive working likeminded people reason feel like lesser person latter half first year considering redflag stopped shortly attended music festival ive attending festival since last year helped forgive see thousand people time life made think lose kill want got back work thought killing stuck ive degrading ive person parent worried brother worried really affected filmmaking well think future hold haunting long time wish end life right now write im edge hope itbut urge overwhelming actually read want thank taking time wonderful life hope everything work certainly ive never love sense success really see point continuing life take life post want reflect life make wonderful want see flaw hope stronger point overcome tough time live see happiness waiting thank reading wish happy life know mine worth life worth everything\n",
      "\u001b[32mTrue: Mental-health \n",
      " Predicted: Mental-health\u001b[0m\n",
      "\n",
      "Sample 17:\n",
      "Text: uninteresting title text post not optional\n",
      "\u001b[32mTrue: Non-mental-health \n",
      " Predicted: Non-mental-health\u001b[0m\n",
      "\n",
      "Sample 18:\n",
      "Text: yever feel like cant anything lost motivation let vent sec school suck hate good part friend like two fun teacher online fcked doggy style im missing like thirty assignment motivation went im failing like three class matter many time turn computer go canvas work brain shuts laziness least thats like tell last ive felt super empty bunch stuff used love playing guitar try ill get one two practice month loved making art everytime open program lose spark feel tired time motivation anything lying bed listening music hour hard take care hard eat hard clean room hard get bed im basically walking corporal husk yeah im thriving please help whats wrong lol\n",
      "\u001b[32mTrue: Non-mental-health \n",
      " Predicted: Non-mental-health\u001b[0m\n",
      "\n",
      "Sample 19:\n",
      "Text: someone someone school replaced bathroom qr code qr code leading never gon na give rick astley\n",
      "\u001b[32mTrue: Non-mental-health \n",
      " Predicted: Non-mental-health\u001b[0m\n",
      "\n",
      "Sample 20:\n",
      "Text: dude sure personality anymore like always liked male thing think seems like always wanted girl like little kid yo always dreamt girl turning girl even know trans people know dude sure gender right know looked like girl outfit spesific item look cool wan na cant sometimes maybe sound strange sometimes sometimes iwhen home alone pick mother item underwear stuff wear use mi weird know\n",
      "\u001b[32mTrue: Non-mental-health \n",
      " Predicted: Non-mental-health\u001b[0m\n"
     ]
    }
   ],
   "source": [
    "random_predictions(model_GRU,\n",
    "                   X_valid,\n",
    "                   y_valid,\n",
    "                   num_samples=20,\n",
    "                   class_names=class_names)"
   ]
  },
  {
   "cell_type": "markdown",
   "id": "c575d9fa",
   "metadata": {
    "id": "-WtFFnIj52IR",
    "papermill": {
     "duration": 3.395631,
     "end_time": "2023-07-18T12:09:40.992381",
     "exception": false,
     "start_time": "2023-07-18T12:09:37.596750",
     "status": "completed"
    },
    "tags": []
   },
   "source": [
    "## **Comparing all models**"
   ]
  },
  {
   "cell_type": "code",
   "execution_count": 105,
   "id": "fac275e4",
   "metadata": {
    "id": "IFvZMe116bdE",
    "outputId": "29e97ca7-67a0-492c-97eb-500d8d44b1f0",
    "papermill": {
     "duration": 3.618762,
     "end_time": "2023-07-18T12:09:47.914626",
     "exception": false,
     "start_time": "2023-07-18T12:09:44.295864",
     "status": "completed"
    },
    "tags": []
   },
   "outputs": [
    {
     "data": {
      "text/html": [
       "<div>\n",
       "<style scoped>\n",
       "    .dataframe tbody tr th:only-of-type {\n",
       "        vertical-align: middle;\n",
       "    }\n",
       "\n",
       "    .dataframe tbody tr th {\n",
       "        vertical-align: top;\n",
       "    }\n",
       "\n",
       "    .dataframe thead th {\n",
       "        text-align: right;\n",
       "    }\n",
       "</style>\n",
       "<table border=\"1\" class=\"dataframe\">\n",
       "  <thead>\n",
       "    <tr style=\"text-align: right;\">\n",
       "      <th></th>\n",
       "      <th>accuracy</th>\n",
       "      <th>precision</th>\n",
       "      <th>recall</th>\n",
       "      <th>f1</th>\n",
       "    </tr>\n",
       "  </thead>\n",
       "  <tbody>\n",
       "    <tr>\n",
       "      <th>baseline</th>\n",
       "      <td>0.854350</td>\n",
       "      <td>0.881010</td>\n",
       "      <td>0.854350</td>\n",
       "      <td>0.851979</td>\n",
       "    </tr>\n",
       "    <tr>\n",
       "      <th>LSTM</th>\n",
       "      <td>0.915516</td>\n",
       "      <td>0.915541</td>\n",
       "      <td>0.915516</td>\n",
       "      <td>0.915518</td>\n",
       "    </tr>\n",
       "    <tr>\n",
       "      <th>GRU</th>\n",
       "      <td>0.915874</td>\n",
       "      <td>0.916550</td>\n",
       "      <td>0.915874</td>\n",
       "      <td>0.915821</td>\n",
       "    </tr>\n",
       "  </tbody>\n",
       "</table>\n",
       "</div>"
      ],
      "text/plain": [
       "          accuracy  precision    recall        f1\n",
       "baseline  0.854350   0.881010  0.854350  0.851979\n",
       "LSTM      0.915516   0.915541  0.915516  0.915518\n",
       "GRU       0.915874   0.916550  0.915874  0.915821"
      ]
     },
     "execution_count": 105,
     "metadata": {},
     "output_type": "execute_result"
    }
   ],
   "source": [
    "# Combine model results into a DataFrame\n",
    "all_model_results = pd.DataFrame({\"baseline\": baseline_results,\n",
    "                                  \"LSTM\": lstm_model_results,\n",
    "                                  \"GRU\": model_GRU_results,\n",
    "                                  })\n",
    "\n",
    "all_model_results = all_model_results.transpose()\n",
    "all_model_results[\"accuracy\"] = all_model_results[\"accuracy\"]/100\n",
    "all_model_results"
   ]
  },
  {
   "cell_type": "code",
   "execution_count": 106,
   "id": "9a479789",
   "metadata": {
    "id": "XxO9jdmPJ0XJ",
    "outputId": "9dc2369f-e9c4-4757-91f9-3da5e7808c97",
    "papermill": {
     "duration": 3.456695,
     "end_time": "2023-07-18T12:09:54.810526",
     "exception": false,
     "start_time": "2023-07-18T12:09:51.353831",
     "status": "completed"
    },
    "tags": []
   },
   "outputs": [
    {
     "data": {
      "text/html": [
       "<div>\n",
       "<style scoped>\n",
       "    .dataframe tbody tr th:only-of-type {\n",
       "        vertical-align: middle;\n",
       "    }\n",
       "\n",
       "    .dataframe tbody tr th {\n",
       "        vertical-align: top;\n",
       "    }\n",
       "\n",
       "    .dataframe thead th {\n",
       "        text-align: right;\n",
       "    }\n",
       "</style>\n",
       "<table border=\"1\" class=\"dataframe\">\n",
       "  <thead>\n",
       "    <tr style=\"text-align: right;\">\n",
       "      <th></th>\n",
       "      <th>accuracy</th>\n",
       "      <th>precision</th>\n",
       "      <th>recall</th>\n",
       "      <th>f1</th>\n",
       "    </tr>\n",
       "  </thead>\n",
       "  <tbody>\n",
       "    <tr>\n",
       "      <th>GRU</th>\n",
       "      <td>0.915874</td>\n",
       "      <td>0.916550</td>\n",
       "      <td>0.915874</td>\n",
       "      <td>0.915821</td>\n",
       "    </tr>\n",
       "    <tr>\n",
       "      <th>LSTM</th>\n",
       "      <td>0.915516</td>\n",
       "      <td>0.915541</td>\n",
       "      <td>0.915516</td>\n",
       "      <td>0.915518</td>\n",
       "    </tr>\n",
       "    <tr>\n",
       "      <th>baseline</th>\n",
       "      <td>0.854350</td>\n",
       "      <td>0.881010</td>\n",
       "      <td>0.854350</td>\n",
       "      <td>0.851979</td>\n",
       "    </tr>\n",
       "  </tbody>\n",
       "</table>\n",
       "</div>"
      ],
      "text/plain": [
       "          accuracy  precision    recall        f1\n",
       "GRU       0.915874   0.916550  0.915874  0.915821\n",
       "LSTM      0.915516   0.915541  0.915516  0.915518\n",
       "baseline  0.854350   0.881010  0.854350  0.851979"
      ]
     },
     "execution_count": 106,
     "metadata": {},
     "output_type": "execute_result"
    }
   ],
   "source": [
    "all_model_results_sorted = all_model_results.sort_values(\"f1\", ascending=False)\n",
    "all_model_results_sorted"
   ]
  },
  {
   "cell_type": "code",
   "execution_count": 107,
   "id": "e6afa07b",
   "metadata": {
    "id": "bjyGEyPP6ee5",
    "outputId": "9249468a-f27f-4e74-948b-318a58cae8b4",
    "papermill": {
     "duration": 3.876014,
     "end_time": "2023-07-18T12:10:09.012302",
     "exception": false,
     "start_time": "2023-07-18T12:10:05.136288",
     "status": "completed"
    },
    "tags": []
   },
   "outputs": [
    {
     "data": {
      "image/png": "[encoded data removed]",
      "text/plain": [
       "<Figure size 1000x700 with 1 Axes>"
      ]
     },
     "metadata": {},
     "output_type": "display_data"
    }
   ],
   "source": [
    "# Plot and compare all of the model results\n",
    "all_model_results.plot(kind=\"bar\", figsize=(10, 7)).legend(bbox_to_anchor=(1.0, 1.0));"
   ]
  },
  {
   "cell_type": "code",
   "execution_count": 108,
   "id": "7eb3a11a",
   "metadata": {
    "id": "QGEaYYPl6f2T",
    "outputId": "0d581b30-25b8-490b-f24b-0b73f0fcc71a",
    "papermill": {
     "duration": 3.89058,
     "end_time": "2023-07-18T12:10:16.111741",
     "exception": false,
     "start_time": "2023-07-18T12:10:12.221161",
     "status": "completed"
    },
    "tags": []
   },
   "outputs": [
    {
     "data": {
      "image/png": "[encoded data removed]",
      "text/plain": [
       "<Figure size 1000x700 with 1 Axes>"
      ]
     },
     "metadata": {},
     "output_type": "display_data"
    }
   ],
   "source": [
    "# Sort model results by f1-score\n",
    "all_model_results.sort_values(\"f1\", ascending=False)[\"f1\"].plot(kind=\"bar\", figsize=(10, 7));"
   ]
  },
  {
   "cell_type": "markdown",
   "id": "f3492586",
   "metadata": {
    "id": "79hTg2Mw9kcP",
    "papermill": {
     "duration": 3.467306,
     "end_time": "2023-07-18T12:10:22.973478",
     "exception": false,
     "start_time": "2023-07-18T12:10:19.506172",
     "status": "completed"
    },
    "tags": []
   },
   "source": [
    "**Evaluation Metrics**\n",
    "\n",
    "Moving forward, we will deploy the Model GRU for further analysis."
   ]
  },
  {
   "cell_type": "code",
   "execution_count": 109,
   "id": "90ecc3a6",
   "metadata": {
    "id": "86Uc7_wRsGmT",
    "outputId": "f8f84cb4-9cff-4dab-fbc1-79d43d83a543",
    "papermill": {
     "duration": 13.42355,
     "end_time": "2023-07-18T12:10:39.671089",
     "exception": false,
     "start_time": "2023-07-18T12:10:26.247539",
     "status": "completed"
    },
    "tags": []
   },
   "outputs": [
    {
     "name": "stdout",
     "output_type": "stream",
     "text": [
      "\u001b[1m175/175\u001b[0m \u001b[32m━━━━━━━━━━━━━━━━━━━━\u001b[0m\u001b[37m\u001b[0m \u001b[1m2s\u001b[0m 9ms/step\n"
     ]
    }
   ],
   "source": [
    "y_true = y_valid.tolist()  # Convert labels to a list\n",
    "preds = model_GRU.predict(X_valid)\n",
    "y_probs = preds.squeeze().tolist()  # Store the prediction probabilities as a list\n",
    "y_preds = tf.round(y_probs).numpy().tolist()  # Convert probabilities to class predictions and convert to a list"
   ]
  },
  {
   "cell_type": "code",
   "execution_count": 110,
   "id": "6f61013c",
   "metadata": {
    "id": "L6fuA88i7W5b",
    "outputId": "f1a63945-9d6b-44a2-efca-cb495e107d04",
    "papermill": {
     "duration": 3.525209,
     "end_time": "2023-07-18T12:10:46.652356",
     "exception": false,
     "start_time": "2023-07-18T12:10:43.127147",
     "status": "completed"
    },
    "tags": []
   },
   "outputs": [
    {
     "name": "stdout",
     "output_type": "stream",
     "text": [
      "              precision    recall  f1-score   support\n",
      "\n",
      "           0       0.90      0.94      0.92      2815\n",
      "           1       0.93      0.89      0.91      2760\n",
      "\n",
      "    accuracy                           0.92      5575\n",
      "   macro avg       0.92      0.92      0.92      5575\n",
      "weighted avg       0.92      0.92      0.92      5575\n",
      "\n"
     ]
    }
   ],
   "source": [
    "from sklearn.metrics import classification_report, accuracy_score, f1_score, recall_score, precision_score\n",
    "\n",
    "report = classification_report(y_true, y_preds)\n",
    "print(report)"
   ]
  },
  {
   "cell_type": "markdown",
   "id": "dd8b8401-b225-48df-8382-8ac8d7916595",
   "metadata": {},
   "source": [
    "# Ensemble Models"
   ]
  },
  {
   "cell_type": "code",
   "execution_count": 138,
   "id": "dde07824-86b5-4900-9d3c-e391ba3a1244",
   "metadata": {},
   "outputs": [
    {
     "name": "stdout",
     "output_type": "stream",
     "text": [
      "\u001b[1m175/175\u001b[0m \u001b[32m━━━━━━━━━━━━━━━━━━━━\u001b[0m\u001b[37m\u001b[0m \u001b[1m2s\u001b[0m 9ms/step\n",
      "\u001b[1m175/175\u001b[0m \u001b[32m━━━━━━━━━━━━━━━━━━━━\u001b[0m\u001b[37m\u001b[0m \u001b[1m2s\u001b[0m 9ms/step\n",
      "Ensemble Results: {'accuracy': 92.46636771300449, 'precision': 0.9250171000796918, 'recall': 0.9246636771300448, 'f1': 0.9246593285796662}\n"
     ]
    },
    {
     "data": {
      "text/html": [
       "<div>\n",
       "<style scoped>\n",
       "    .dataframe tbody tr th:only-of-type {\n",
       "        vertical-align: middle;\n",
       "    }\n",
       "\n",
       "    .dataframe tbody tr th {\n",
       "        vertical-align: top;\n",
       "    }\n",
       "\n",
       "    .dataframe thead th {\n",
       "        text-align: right;\n",
       "    }\n",
       "</style>\n",
       "<table border=\"1\" class=\"dataframe\">\n",
       "  <thead>\n",
       "    <tr style=\"text-align: right;\">\n",
       "      <th></th>\n",
       "      <th>accuracy</th>\n",
       "      <th>precision</th>\n",
       "      <th>recall</th>\n",
       "      <th>f1</th>\n",
       "    </tr>\n",
       "  </thead>\n",
       "  <tbody>\n",
       "    <tr>\n",
       "      <th>baseline</th>\n",
       "      <td>0.854350</td>\n",
       "      <td>0.881010</td>\n",
       "      <td>0.854350</td>\n",
       "      <td>0.851979</td>\n",
       "    </tr>\n",
       "    <tr>\n",
       "      <th>LSTM</th>\n",
       "      <td>0.915516</td>\n",
       "      <td>0.915541</td>\n",
       "      <td>0.915516</td>\n",
       "      <td>0.915518</td>\n",
       "    </tr>\n",
       "    <tr>\n",
       "      <th>GRU</th>\n",
       "      <td>0.915874</td>\n",
       "      <td>0.916550</td>\n",
       "      <td>0.915874</td>\n",
       "      <td>0.915821</td>\n",
       "    </tr>\n",
       "    <tr>\n",
       "      <th>Ensemble</th>\n",
       "      <td>0.924664</td>\n",
       "      <td>0.925017</td>\n",
       "      <td>0.924664</td>\n",
       "      <td>0.924659</td>\n",
       "    </tr>\n",
       "  </tbody>\n",
       "</table>\n",
       "</div>"
      ],
      "text/plain": [
       "          accuracy  precision    recall        f1\n",
       "baseline  0.854350   0.881010  0.854350  0.851979\n",
       "LSTM      0.915516   0.915541  0.915516  0.915518\n",
       "GRU       0.915874   0.916550  0.915874  0.915821\n",
       "Ensemble  0.924664   0.925017  0.924664  0.924659"
      ]
     },
     "execution_count": 138,
     "metadata": {},
     "output_type": "execute_result"
    }
   ],
   "source": [
    "import numpy as np\n",
    "import tensorflow as tf\n",
    "\n",
    "# Get prediction probabilities\n",
    "# Baseline model probabilities for the positive class\n",
    "baseline_pred_probs = baseline_model.predict_proba(X_valid)[:, 1]\n",
    "\n",
    "# LSTM and GRU model probabilities\n",
    "lstm_pred_probs = lstm_model.predict(X_valid).flatten()\n",
    "gru_pred_probs = model_GRU.predict(X_valid).flatten()\n",
    "\n",
    "# Average the prediction probabilities\n",
    "combined_pred_probs = (baseline_pred_probs + lstm_pred_probs + gru_pred_probs) / 3\n",
    "\n",
    "# Convert averaged probabilities to binary predictions\n",
    "combined_preds = tf.round(combined_pred_probs)\n",
    "\n",
    "# Calculate ensemble results\n",
    "ensemble_results = calculate_results(y_valid, combined_preds.numpy())\n",
    "print(\"Ensemble Results:\", ensemble_results)\n",
    "\n",
    "# Add ensemble results to DataFrame for comparison\n",
    "all_model_results.loc['Ensemble'] = {\n",
    "    'accuracy': ensemble_results['accuracy'] / 100,  # Convert percentage if necessary\n",
    "    'precision': ensemble_results['precision'],\n",
    "    'recall': ensemble_results['recall'],\n",
    "    'f1': ensemble_results['f1']\n",
    "}\n",
    "all_model_results"
   ]
  },
  {
   "cell_type": "code",
   "execution_count": null,
   "id": "72ac5c0d-f998-40dc-8ca7-f82fdc54bf10",
   "metadata": {},
   "outputs": [],
   "source": []
  }
 ],
 "metadata": {
  "kernelspec": {
   "display_name": "Python 3 (ipykernel)",
   "language": "python",
   "name": "python3"
  },
  "language_info": {
   "codemirror_mode": {
    "name": "ipython",
    "version": 3
   },
   "file_extension": ".py",
   "mimetype": "text/x-python",
   "name": "python",
   "nbconvert_exporter": "python",
   "pygments_lexer": "ipython3",
   "version": "3.10.7"
  },
  "papermill": {
   "default_parameters": {},
   "duration": 16391.978666,
   "end_time": "2023-07-18T12:14:25.541549",
   "environment_variables": {},
   "exception": null,
   "input_path": "__notebook__.ipynb",
   "output_path": "__notebook__.ipynb",
   "parameters": {},
   "start_time": "2023-07-18T07:41:13.562883",
   "version": "2.4.0"
  }
 },
 "nbformat": 4,
 "nbformat_minor": 5
}
